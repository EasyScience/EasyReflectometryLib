{
 "cells": [
  {
   "cell_type": "markdown",
   "id": "88711f6e-060a-44ed-991c-54377ab2759e",
   "metadata": {},
   "source": [
    "# Investigation of a surfactant monolayer\n",
    "\n",
    "A common system that is studied with neutron and X-ray reflectometry are surfactant monolayers. \n",
    "In this tutorial, we will look at how the `EasyReflectometry` item `SurfactantLayer` ([detailed here](./item_library.html#surfactantlayer)) can be used to model a phospholipid bilayer. \n",
    "First, we will import the relevant packages and functions."
   ]
  },
  {
   "cell_type": "markdown",
   "id": "e46c0e41",
   "metadata": {},
   "source": [
    "First configure matplotlib to place figures in notebook and import needed modules"
   ]
  },
  {
   "cell_type": "code",
   "execution_count": 1,
   "id": "619bb767-475a-408b-b576-552f0bc4f2a7",
   "metadata": {
    "execution": {
     "iopub.execute_input": "2024-01-12T09:18:32.800398Z",
     "iopub.status.busy": "2024-01-12T09:18:32.799939Z",
     "iopub.status.idle": "2024-01-12T09:18:35.345078Z",
     "shell.execute_reply": "2024-01-12T09:18:35.344300Z"
    }
   },
   "outputs": [],
   "source": [
    "%matplotlib inline\n",
    "\n",
    "import EasyReflectometry\n",
    "import refnx\n",
    "from EasyReflectometry.data import load\n",
    "from EasyReflectometry.plot import plot\n",
    "from EasyReflectometry.sample.material import Material\n",
    "from EasyReflectometry.sample.item import SurfactantLayer\n",
    "from EasyReflectometry.sample import Layer, Structure\n",
    "from EasyReflectometry.experiment.model import Model\n",
    "from EasyReflectometry.interface import InterfaceFactory as Interface\n",
    "from EasyReflectometry.fitting import Fitter"
   ]
  },
  {
   "cell_type": "markdown",
   "id": "60f72432-befd-4ada-9606-cceae13bb9fb",
   "metadata": {},
   "source": [
    "Next, as usual we print the versions of the software packages. "
   ]
  },
  {
   "cell_type": "code",
   "execution_count": 2,
   "id": "054b64e7-1417-485e-925b-d2dbe1fa0919",
   "metadata": {
    "execution": {
     "iopub.execute_input": "2024-01-12T09:18:35.348558Z",
     "iopub.status.busy": "2024-01-12T09:18:35.348007Z",
     "iopub.status.idle": "2024-01-12T09:18:35.351631Z",
     "shell.execute_reply": "2024-01-12T09:18:35.350990Z"
    }
   },
   "outputs": [
    {
     "name": "stdout",
     "output_type": "stream",
     "text": [
      "EasyReflectometry: 0.0.3\n",
      "refnx: 0.1.41\n"
     ]
    }
   ],
   "source": [
    "print(f'EasyReflectometry: {EasyReflectometry.__version__}')\n",
    "print(f'refnx: {refnx.__version__}')"
   ]
  },
  {
   "cell_type": "markdown",
   "id": "3d10ad46-d598-4e5d-9212-2a042275d35a",
   "metadata": {},
   "source": [
    "## Reading in experimental data\n",
    "\n",
    "As has been [shown previously](./simple_fitting.html), we use the `load` function to read in our experimental data. \n",
    "For this tutorial we will be looking at [DSPC](https://en.wikipedia.org/wiki/Distearoylphosphatidylcholine), a phospholipid molecule that will self-assemble into a monolayer at the air-water interface. \n",
    "The data being used has kindly been shared by the authors of [previous work on the system](#hollinshead2009). "
   ]
  },
  {
   "cell_type": "code",
   "execution_count": 3,
   "id": "e392660e-6f02-4f0b-be86-4c8ea78883e0",
   "metadata": {
    "execution": {
     "iopub.execute_input": "2024-01-12T09:18:35.354251Z",
     "iopub.status.busy": "2024-01-12T09:18:35.353887Z",
     "iopub.status.idle": "2024-01-12T09:18:35.791345Z",
     "shell.execute_reply": "2024-01-12T09:18:35.790626Z"
    }
   },
   "outputs": [
    {
     "name": "stderr",
     "output_type": "stream",
     "text": [
      "/opt/hostedtoolcache/Python/3.9.18/x64/lib/python3.9/site-packages/orsopy/fileio/base.py:277: RuntimeWarning: Has to be one of ('neutron', 'x-ray') got neutrons\n",
      "  warnings.warn(\n"
     ]
    },
    {
     "data": {
      "image/png": "[encoded data removed]",
      "text/plain": [
       "<Figure size 500x300 with 1 Axes>"
      ]
     },
     "metadata": {},
     "output_type": "display_data"
    }
   ],
   "source": [
    "data = load('_static/d70d2o.ort')\n",
    "plot(data)"
   ]
  },
  {
   "cell_type": "markdown",
   "id": "6c9e99af-f6bd-43d6-a04d-20471434be0e",
   "metadata": {},
   "source": [
    "## Building the model\n",
    "\n",
    "The study of surfactant monolayers is very popular in the literature, including the models based on [functional descriptions](#hollinshead2009), [slab models](#campbell2018), and [molecular dynamics simulations](#mccluskey2019). \n",
    "In `EasyReflectometry`, we use a slab model description taht has become particularly commonplace. \n",
    "A graphical representation of the slab model for a phosphoplipid monolayer is shown below.\n",
    "\n",
    "<center>\n",
    "    <img src='_static/monolayer.png' alt='A slab model description for a phospholipid monolayer.' width='300px'></img>\n",
    "</center>\n",
    "<center>\n",
    "    A slab model description for a phospholipid monolayer, showing the head and tail layers.\n",
    "</center>\n",
    "\n",
    "The slab model for a phospholipid monolayer involves describing the system as consisting of two components, that for the hydrophilic head group layer and that for the hydrophobic tail group layer. \n",
    "Each of these layers have some thickness that can be estimated by considering the size of the head and tail groups.\n",
    "The scattering length density ($\\rho$) for the layers is then defined based on the layer thickness ($d$), the scattering length for the component ($b$), the surface number density of the monolayer (defined by the area per molecule, $\\mathrm{APM}$) and the amount of solvent present in the layer ($\\phi$), where the solvent has a known scattering length density ($\\rho_{\\mathrm{solvent}}$), \n",
    "\n",
    "$$ \\rho = \\frac{b}{d\\mathrm{APM}}(1-\\phi) + \\rho_{\\mathrm{solvent}}\\phi. $$\n",
    "\n",
    "This approach has two benefits: \n",
    "1. By constraining the area per molecule of the head and tail groups to be the same, the analysis can ensure that the number density of the two components is equal (i.e. for every head group there is a tail group), as would be expected given the chemical bonding.\n",
    "2. The area per molecule is a parameter that can be measured using complementary methods, such as surface-pressure isotherm, to help define the value.\n",
    "\n",
    "Finally, we can constrain the roughness between head-tail and tail-superphase layers to be the same value, as it is unlikely that it would be different. \n",
    "\n",
    "Before we create the `SurfactantLayer` object, we will create simple `Material` objects for the sub- and super-phase. "
   ]
  },
  {
   "cell_type": "code",
   "execution_count": 4,
   "id": "80c8d71f-d309-4104-bae6-3941daa525d3",
   "metadata": {
    "execution": {
     "iopub.execute_input": "2024-01-12T09:18:35.793971Z",
     "iopub.status.busy": "2024-01-12T09:18:35.793611Z",
     "iopub.status.idle": "2024-01-12T09:18:35.799856Z",
     "shell.execute_reply": "2024-01-12T09:18:35.799243Z"
    }
   },
   "outputs": [],
   "source": [
    "d2o = Material.from_pars(6.36, 0, 'D2O')\n",
    "air = Material.from_pars(0, 0, 'Air')"
   ]
  },
  {
   "cell_type": "markdown",
   "id": "31473f8e-7491-4d9a-8a7f-c1fc51abcc31",
   "metadata": {},
   "source": [
    "### Building the surfactant monolayer\n",
    "\n",
    "Now we can create the `SurfactantLayer` object, this takes a large number of parameters, that we will introduce gradually. \n",
    "\n",
    "<center>\n",
    "    <img src='_static/dspc.png' alt='The chemical structure for the DSPC molecule.' width='400px'></img>\n",
    "</center>\n",
    "<center>\n",
    "    The chemical structure for the DSPC molecule. By <a href='https://commons.wikimedia.org/w/index.php?curid=97726650'>Graeme Bartlett - Self Drawn, CC0</a>\n",
    "</center>\n",
    "\n",
    "The chemical structure for the DSPC molecule is shown above, where the head group is everything to the right of (and including) the ester group as this is the hydrophilic component. \n",
    "While, everything to the left hand side is the tail group (both chains are included).\n",
    "We want to define the chemical formula for each of these subunits. "
   ]
  },
  {
   "cell_type": "code",
   "execution_count": 5,
   "id": "3ad9adef-8845-486d-8075-9ad6bb81ea6f",
   "metadata": {
    "execution": {
     "iopub.execute_input": "2024-01-12T09:18:35.802227Z",
     "iopub.status.busy": "2024-01-12T09:18:35.801878Z",
     "iopub.status.idle": "2024-01-12T09:18:35.804823Z",
     "shell.execute_reply": "2024-01-12T09:18:35.804175Z"
    }
   },
   "outputs": [],
   "source": [
    "head_formula = 'C10H18NO8P'\n",
    "tail_formula = 'C34D70'"
   ]
  },
  {
   "cell_type": "markdown",
   "id": "7f59e62a-071a-4921-bfd2-0f998e172885",
   "metadata": {},
   "source": [
    "Next we define estimates for the thickness of each layer, for this we will use values from [a previous work](#mccluskey2020), as we will not be varying these parameters. "
   ]
  },
  {
   "cell_type": "code",
   "execution_count": 6,
   "id": "a39a0eca-97d6-44d7-8796-a5e98d024788",
   "metadata": {
    "execution": {
     "iopub.execute_input": "2024-01-12T09:18:35.807105Z",
     "iopub.status.busy": "2024-01-12T09:18:35.806767Z",
     "iopub.status.idle": "2024-01-12T09:18:35.809630Z",
     "shell.execute_reply": "2024-01-12T09:18:35.809085Z"
    }
   },
   "outputs": [],
   "source": [
    "head_thickness = 12.9\n",
    "tail_thickness = 17.6"
   ]
  },
  {
   "cell_type": "markdown",
   "id": "37c1c52d-b835-42bc-a0c0-b042612fc106",
   "metadata": {},
   "source": [
    "We expect the head layer to be solvated with some of the D<sub>2</sub>O present, however it is unlikely that there will be any solvation (by D<sub>2</sub>O or air) in the tighly packed tails. "
   ]
  },
  {
   "cell_type": "code",
   "execution_count": 7,
   "id": "204144c3-a3e7-4ab1-9a6c-6aca8241f69e",
   "metadata": {
    "execution": {
     "iopub.execute_input": "2024-01-12T09:18:35.811998Z",
     "iopub.status.busy": "2024-01-12T09:18:35.811586Z",
     "iopub.status.idle": "2024-01-12T09:18:35.814490Z",
     "shell.execute_reply": "2024-01-12T09:18:35.813962Z"
    }
   },
   "outputs": [],
   "source": [
    "head_solvation = 0.5\n",
    "tail_solvation = 0.0"
   ]
  },
  {
   "cell_type": "markdown",
   "id": "4e73ab90-c560-4577-b41e-0c43ba512806",
   "metadata": {},
   "source": [
    "Finally, we define the values for the area per molecule and roughness for the whole surfactant layer. "
   ]
  },
  {
   "cell_type": "code",
   "execution_count": 8,
   "id": "e39cf91b-e049-4619-a5cd-4bdf8492252d",
   "metadata": {
    "execution": {
     "iopub.execute_input": "2024-01-12T09:18:35.816982Z",
     "iopub.status.busy": "2024-01-12T09:18:35.816603Z",
     "iopub.status.idle": "2024-01-12T09:18:35.819386Z",
     "shell.execute_reply": "2024-01-12T09:18:35.818793Z"
    }
   },
   "outputs": [],
   "source": [
    "area_per_molecule = 45\n",
    "roughness = 3"
   ]
  },
  {
   "cell_type": "markdown",
   "id": "b0eda06d-17bb-4209-abc8-a2d0a585766e",
   "metadata": {},
   "source": [
    "Having created the necessary initial values, we can use these to create a `SurfactantLayer` object. \n",
    "Note that the area per molecule and roughness for both layers are the same. \n",
    "We can also print information about our surfactant system."
   ]
  },
  {
   "cell_type": "code",
   "execution_count": 9,
   "id": "4576f0b9-8815-46bc-b759-9f03379d2d0b",
   "metadata": {
    "execution": {
     "iopub.execute_input": "2024-01-12T09:18:35.821738Z",
     "iopub.status.busy": "2024-01-12T09:18:35.821381Z",
     "iopub.status.idle": "2024-01-12T09:18:35.860073Z",
     "shell.execute_reply": "2024-01-12T09:18:35.859444Z"
    }
   },
   "outputs": [
    {
     "data": {
      "text/plain": [
       "layer1:\n",
       "  EasySurfactantLayer Layer 1:\n",
       "    material:\n",
       "      C34D70/Air:\n",
       "        fraction: 0.0\n",
       "        sld: 8.753e-6 1 / angstrom ** 2\n",
       "        isld: 0.000e-6 1 / angstrom ** 2\n",
       "        material1:\n",
       "          C34D70:\n",
       "            sld: 8.753e-6 1 / angstrom ** 2\n",
       "            isld: 0.000e-6 1 / angstrom ** 2\n",
       "        material2:\n",
       "          Air:\n",
       "            sld: 0.000e-6 1 / angstrom ** 2\n",
       "            isld: 0.000e-6 1 / angstrom ** 2\n",
       "    thickness: 17.600 angstrom\n",
       "    roughness: 3.000 angstrom\n",
       "  chemical_structure: C34D70\n",
       "  area_per_molecule: 45.0 angstrom ** 2\n",
       "layer2:\n",
       "  EasySurfactantLayer Layer 2:\n",
       "    material:\n",
       "      C10H18NO8P/D2O:\n",
       "        fraction: 0.5\n",
       "        sld: 3.697e-6 1 / angstrom ** 2\n",
       "        isld: 0.000e-6 1 / angstrom ** 2\n",
       "        material1:\n",
       "          C10H18NO8P:\n",
       "            sld: 1.035e-6 1 / angstrom ** 2\n",
       "            isld: 0.000e-6 1 / angstrom ** 2\n",
       "        material2:\n",
       "          D2O:\n",
       "            sld: 6.360e-6 1 / angstrom ** 2\n",
       "            isld: 0.000e-6 1 / angstrom ** 2\n",
       "    thickness: 12.900 angstrom\n",
       "    roughness: 3.000 angstrom\n",
       "  chemical_structure: C10H18NO8P\n",
       "  area_per_molecule: 45.0 angstrom ** 2\n",
       "area per molecule constrained: true\n",
       "conformal roughness: true"
      ]
     },
     "execution_count": 9,
     "metadata": {},
     "output_type": "execute_result"
    }
   ],
   "source": [
    "dspc = SurfactantLayer.from_pars(tail_formula, tail_thickness, air, tail_solvation, \n",
    "                                 area_per_molecule, roughness,\n",
    "                                 head_formula, head_thickness, d2o, head_solvation, \n",
    "                                 area_per_molecule, roughness)\n",
    "dspc.constrain_apm = True\n",
    "dspc.conformal_roughness = True\n",
    "dspc"
   ]
  },
  {
   "cell_type": "markdown",
   "id": "6652207c-ca68-4fef-80d9-174bf5428b8c",
   "metadata": {},
   "source": [
    "The layers for the sub- and super-phase are then created. "
   ]
  },
  {
   "cell_type": "code",
   "execution_count": 10,
   "id": "c17ecc32-c578-4a22-a12c-da13af1e0347",
   "metadata": {
    "execution": {
     "iopub.execute_input": "2024-01-12T09:18:35.862478Z",
     "iopub.status.busy": "2024-01-12T09:18:35.862111Z",
     "iopub.status.idle": "2024-01-12T09:18:35.867564Z",
     "shell.execute_reply": "2024-01-12T09:18:35.866934Z"
    }
   },
   "outputs": [],
   "source": [
    "d2o_layer = Layer.from_pars(d2o, 0, 3, 'D2O Subphase')\n",
    "air_layer = Layer.from_pars(air, 0, 0, 'Air Superphase')"
   ]
  },
  {
   "cell_type": "markdown",
   "id": "c8c3db09-b68a-4a8c-8b0c-61c716147a6c",
   "metadata": {},
   "source": [
    "For the surfactant layer, the roughness is typically defined by the roughness between the water-head layers. \n",
    "Therefore, it is desirable to add this constraint to our model."
   ]
  },
  {
   "cell_type": "code",
   "execution_count": 11,
   "id": "f17762ca-33c5-48bb-88a2-bc2568bb18f7",
   "metadata": {
    "execution": {
     "iopub.execute_input": "2024-01-12T09:18:35.870004Z",
     "iopub.status.busy": "2024-01-12T09:18:35.869620Z",
     "iopub.status.idle": "2024-01-12T09:18:35.873094Z",
     "shell.execute_reply": "2024-01-12T09:18:35.872549Z"
    }
   },
   "outputs": [],
   "source": [
    "dspc.constrain_solvent_roughness(d2o_layer.roughness)"
   ]
  },
  {
   "cell_type": "markdown",
   "id": "9adc7c34-958e-4f45-9d63-876a83b64961",
   "metadata": {},
   "source": [
    "Now that the surfactant layer and sub- and super-phases are available and the necessary constraints present, we construct our `Structure` and `Model` objects. "
   ]
  },
  {
   "cell_type": "code",
   "execution_count": 12,
   "id": "216bfe40-a97c-4437-a2f9-8bc7966ae58d",
   "metadata": {
    "execution": {
     "iopub.execute_input": "2024-01-12T09:18:35.875516Z",
     "iopub.status.busy": "2024-01-12T09:18:35.875139Z",
     "iopub.status.idle": "2024-01-12T09:18:35.880237Z",
     "shell.execute_reply": "2024-01-12T09:18:35.879674Z"
    }
   },
   "outputs": [],
   "source": [
    "structure = Structure.from_pars(air_layer, dspc, d2o_layer)\n",
    "model = Model.from_pars(structure, 1, data['data']['R_0'].values.min(), 5)"
   ]
  },
  {
   "cell_type": "markdown",
   "id": "2f056fc0-347d-4946-af19-39245c39ca96",
   "metadata": {},
   "source": [
    "For the `model` we set the background initially as the minimum value observed in the experimental data. \n",
    "\n",
    "## Defining bounds and performing the optimisation\n",
    "\n",
    "The varying parameters can then be defined, in this case we will let the scale factor, the background, the surfactant area per molecule, and head layer solvation vary with the bounds shown below. "
   ]
  },
  {
   "cell_type": "code",
   "execution_count": 13,
   "id": "d30eaa0f-be7f-4cbe-a7d6-11f43512f014",
   "metadata": {
    "execution": {
     "iopub.execute_input": "2024-01-12T09:18:35.882637Z",
     "iopub.status.busy": "2024-01-12T09:18:35.882256Z",
     "iopub.status.idle": "2024-01-12T09:18:35.887218Z",
     "shell.execute_reply": "2024-01-12T09:18:35.886690Z"
    }
   },
   "outputs": [],
   "source": [
    "model.scale.bounds = (0.05, 1.5)\n",
    "model.background.bounds = (4e-7, 1e-6)\n",
    "\n",
    "dspc.layers[0].area_per_molecule.bounds = (30, 60)\n",
    "dspc.layers[1].solvation.bounds = (0.4, 0.7)"
   ]
  },
  {
   "cell_type": "markdown",
   "id": "514afa7a-cfa4-4ef9-a2c9-105c4d56ec6a",
   "metadata": {},
   "source": [
    "Finally, as with other [tutorials](./tutorials.html), we create the `Interface` (and connect this to our model) and `Fitter` objects and perform the fit. "
   ]
  },
  {
   "cell_type": "code",
   "execution_count": 14,
   "id": "bc61b31f-11bf-43e1-9fd9-d697ded79196",
   "metadata": {
    "execution": {
     "iopub.execute_input": "2024-01-12T09:18:35.889712Z",
     "iopub.status.busy": "2024-01-12T09:18:35.889341Z",
     "iopub.status.idle": "2024-01-12T09:18:47.753423Z",
     "shell.execute_reply": "2024-01-12T09:18:47.752844Z"
    }
   },
   "outputs": [],
   "source": [
    "interface = Interface()\n",
    "model.interface = interface\n",
    "fitter = Fitter(model)\n",
    "analysed = fitter.fit(data, method='differential_evolution')"
   ]
  },
  {
   "cell_type": "markdown",
   "id": "81414a36-571c-4347-9b5c-1f7a240554d5",
   "metadata": {},
   "source": [
    "The result can then be plotted, before we investigate the results. "
   ]
  },
  {
   "cell_type": "code",
   "execution_count": 15,
   "id": "fee84677-477f-4b8d-aaa5-7650d641804c",
   "metadata": {
    "execution": {
     "iopub.execute_input": "2024-01-12T09:18:47.756568Z",
     "iopub.status.busy": "2024-01-12T09:18:47.756138Z",
     "iopub.status.idle": "2024-01-12T09:18:48.461176Z",
     "shell.execute_reply": "2024-01-12T09:18:48.460456Z"
    }
   },
   "outputs": [
    {
     "data": {
      "image/png": "[encoded data removed]",
      "text/plain": [
       "<Figure size 500x600 with 2 Axes>"
      ]
     },
     "metadata": {},
     "output_type": "display_data"
    }
   ],
   "source": [
    "plot(analysed)"
   ]
  },
  {
   "cell_type": "code",
   "execution_count": 16,
   "id": "020bed24-e8cd-41e4-9b2a-e3acfc133101",
   "metadata": {
    "execution": {
     "iopub.execute_input": "2024-01-12T09:18:48.463776Z",
     "iopub.status.busy": "2024-01-12T09:18:48.463375Z",
     "iopub.status.idle": "2024-01-12T09:18:48.472459Z",
     "shell.execute_reply": "2024-01-12T09:18:48.471910Z"
    }
   },
   "outputs": [
    {
     "data": {
      "text/plain": [
       "EasyModel:\n",
       "  scale: 0.14026179294277102\n",
       "  background: 8.871232057780609e-07\n",
       "  resolution: 5.0 %\n",
       "  structure:\n",
       "    EasyStructure:\n",
       "    - Air Superphase:\n",
       "        material:\n",
       "          Air:\n",
       "            sld: 0.000e-6 1 / angstrom ** 2\n",
       "            isld: 0.000e-6 1 / angstrom ** 2\n",
       "        thickness: 0.000 angstrom\n",
       "        roughness: 0.000 angstrom\n",
       "    - layer1:\n",
       "        EasySurfactantLayer Layer 1:\n",
       "          material:\n",
       "            C34D70/Air:\n",
       "              fraction: 0.0\n",
       "              sld: 8.753e-6 1 / angstrom ** 2\n",
       "              isld: 0.000e-6 1 / angstrom ** 2\n",
       "              material1:\n",
       "                C34D70:\n",
       "                  sld: 8.753e-6 1 / angstrom ** 2\n",
       "                  isld: 0.000e-6 1 / angstrom ** 2\n",
       "              material2:\n",
       "                Air:\n",
       "                  sld: 0.000e-6 1 / angstrom ** 2\n",
       "                  isld: 0.000e-6 1 / angstrom ** 2\n",
       "          thickness: 17.600 angstrom\n",
       "          roughness: 3.000 angstrom\n",
       "        chemical_structure: C34D70\n",
       "        area_per_molecule: 58.6 angstrom ** 2\n",
       "      layer2:\n",
       "        EasySurfactantLayer Layer 2:\n",
       "          material:\n",
       "            C10H18NO8P/D2O:\n",
       "              fraction: 0.6309945416581636\n",
       "              sld: 4.306e-6 1 / angstrom ** 2\n",
       "              isld: 0.000e-6 1 / angstrom ** 2\n",
       "              material1:\n",
       "                C10H18NO8P:\n",
       "                  sld: 0.794e-6 1 / angstrom ** 2\n",
       "                  isld: 0.000e-6 1 / angstrom ** 2\n",
       "              material2:\n",
       "                D2O:\n",
       "                  sld: 6.360e-6 1 / angstrom ** 2\n",
       "                  isld: 0.000e-6 1 / angstrom ** 2\n",
       "          thickness: 12.900 angstrom\n",
       "          roughness: 3.000 angstrom\n",
       "        chemical_structure: C10H18NO8P\n",
       "        area_per_molecule: 58.6 angstrom ** 2\n",
       "      area per molecule constrained: true\n",
       "      conformal roughness: true\n",
       "    - D2O Subphase:\n",
       "        material:\n",
       "          D2O:\n",
       "            sld: 6.360e-6 1 / angstrom ** 2\n",
       "            isld: 0.000e-6 1 / angstrom ** 2\n",
       "        thickness: 0.000 angstrom\n",
       "        roughness: 3.000 angstrom"
      ]
     },
     "execution_count": 16,
     "metadata": {},
     "output_type": "execute_result"
    }
   ],
   "source": [
    "model"
   ]
  },
  {
   "cell_type": "markdown",
   "id": "8dd6ead8-5019-44eb-9fc9-d8309443bc46",
   "metadata": {},
   "source": [
    "We can see above that the solvation of the surfactant was found to be around 60 % and the area per molecule around 50 Å<sup>2</sup>, in agreement with [previous investigations](#mccluskey2019). "
   ]
  },
  {
   "cell_type": "markdown",
   "id": "0f056472-34f5-4c4a-9195-36a505087536",
   "metadata": {},
   "source": [
    "## References "
   ]
  },
  {
   "cell_type": "markdown",
   "id": "208e5f3c-3355-4c68-b8d2-27e883ab8e7f",
   "metadata": {},
   "source": [
    "<div id='hollinshead2009'></div>\n",
    "Hollinshead, C. M., Harvey, R. D., Barlow, D. J., Webster, J. R. P., Hughes, A. V., Weston, A., Lawrence, M. J., **2009**,\n",
    "*Effects of Surface Pressure on the Structure of Distearoylphosphatidylcholine Monolayers Formed at the Air/Water Interface*,\n",
    "[Langmuir, 25, 4070-4077](https://doi.org/10.1021/la8028319)"
   ]
  },
  {
   "cell_type": "markdown",
   "id": "3a95ae4f-99e3-4b04-837f-1b92fb4c7d19",
   "metadata": {},
   "source": [
    "<div id='campbell2018'></div>\n",
    "Campbell, R. A., Saaka, Y., Shao, Y., Gerelli, Y., Cubitt, R., Nazaruk, E., Matyszewska, D. Lawrence, M. J., **2018**,\n",
    "*Structure of surfactant and phospholipid monolayers at the air/water interface modeled from neutron reflectivity data*,\n",
    "[Journal of Colloid and Interface Science, 531, 98-108](https://doi.org/10.1016/j.jcis.2018.07.022)"
   ]
  },
  {
   "cell_type": "markdown",
   "id": "d481d2f2-1388-4fa4-852c-741c74998261",
   "metadata": {},
   "source": [
    "<div id='mccluskey2019'></div>\n",
    "McCluskey, A. R., Grant, J., Smith, A. J., Rawle, J. L., Barlow, D. J., Lawrence, M. J., Parker, S. C., Edler, K. J., **2019**,\n",
    "*Assessing molecular simulation for the analysis of lipid monolayer reflectometry*,\n",
    "[Journal of Physics Communications, 3, 075001](https://doi.org/10.1088/2399-6528/ab12a9)"
   ]
  },
  {
   "cell_type": "markdown",
   "id": "30fb4898-c55c-413a-81ce-f8163ed56175",
   "metadata": {},
   "source": [
    "<div id='mccluskey2020'></div>\n",
    "McCluskey, A. R., Cooper, J. F. K., Arnold, T., Snow, T., **2020**,\n",
    "*A general approach to maximise information density in neutron reflectometry analysis*,\n",
    "[Machine Learning: Science and Technology, 1, 035002](https://doi.org/10.1088/2632-2153/ab94c4)"
   ]
  }
 ],
 "metadata": {
  "kernelspec": {
   "display_name": "Python 3 (ipykernel)",
   "language": "python",
   "name": "python3"
  },
  "language_info": {
   "codemirror_mode": {
    "name": "ipython",
    "version": 3
   },
   "file_extension": ".py",
   "mimetype": "text/x-python",
   "name": "python",
   "nbconvert_exporter": "python",
   "pygments_lexer": "ipython3",
   "version": "3.9.18"
  }
 },
 "nbformat": 4,
 "nbformat_minor": 5
}
