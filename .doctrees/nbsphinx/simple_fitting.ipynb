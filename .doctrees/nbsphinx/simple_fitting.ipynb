{
 "cells": [
  {
   "cell_type": "markdown",
   "id": "84af3f91-c642-4248-9845-6e2c66ea9479",
   "metadata": {},
   "source": [
    "# Fitting a simple slab model\n",
    "\n",
    "In order to show one of the simplest analyses that `EasyReflectometry` can perform, we will use the [great example from the *refnx* documentation](https://refnx.readthedocs.io/en/latest/getting_started.html#Fitting-a-neutron-reflectometry-dataset).\n",
    "This involves the analysis of a single neutron reflectometry dataset from a hydrated polymer film system. \n",
    "Before we start on any analysis, we will import the necessary packages and functions."
   ]
  },
  {
   "cell_type": "code",
   "execution_count": 1,
   "id": "f026d35c-6a4a-4e9d-889c-d23ea6ee7adc",
   "metadata": {},
   "outputs": [],
   "source": [
    "import EasyReflectometry\n",
    "import refnx\n",
    "from EasyReflectometry.data import load\n",
    "from EasyReflectometry.sample import Layer, Structure\n",
    "from EasyReflectometry.sample.material import Material\n",
    "from EasyReflectometry.sample.item import MultiLayer\n",
    "from EasyReflectometry.experiment.model import Model\n",
    "from EasyReflectometry.interface import InterfaceFactory as Interface\n",
    "from EasyReflectometry.fitting import Fitter\n",
    "from EasyReflectometry.plot import plot"
   ]
  },
  {
   "cell_type": "markdown",
   "id": "b11e304d-38f4-4537-b85b-59f588bed0a4",
   "metadata": {},
   "source": [
    "One of benefits of using a Jupyter Notebook for our analysis is improved reproducibility, to ensure this, below we share the version of the software packages being used."
   ]
  },
  {
   "cell_type": "code",
   "execution_count": 2,
   "id": "373da698-2e50-4508-8738-7e0618e71ef1",
   "metadata": {},
   "outputs": [
    {
     "name": "stdout",
     "output_type": "stream",
     "text": [
      "EasyReflectometry: 0.0.1\n",
      "refnx: 0.1.26\n"
     ]
    }
   ],
   "source": [
    "print(f'EasyReflectometry: {EasyReflectometry.__version__}')\n",
    "print(f'refnx: {refnx.__version__}')"
   ]
  },
  {
   "cell_type": "markdown",
   "id": "5d4759d6-9758-4ff4-a8d0-62b0eacde1be",
   "metadata": {},
   "source": [
    "## Reading in experimental data\n",
    "\n",
    "`EasyReflectometry` has support for the `.ort` file format, a [standard file format for reduced reflectivity data developed by the Open Reflectometry Standards Organisation](https://www.reflectometry.org/working_groups/file_formats/). \n",
    "To load in a dataset, we use the `load` function. "
   ]
  },
  {
   "cell_type": "code",
   "execution_count": 3,
   "id": "7d851064-605c-4f80-a510-197bcdbff2ea",
   "metadata": {},
   "outputs": [],
   "source": [
    "data = load('_static/example.ort')"
   ]
  },
  {
   "cell_type": "markdown",
   "id": "6e8a484d-83d5-4ac6-864a-c9f133f1447e",
   "metadata": {},
   "source": [
    "The function about will load the file into a [*scipp* Dataset](https://scipp.github.io/user-guide/data-structures.html#Dataset) object. \n",
    "This offers some nice visualisations of the data, including the HTML view. "
   ]
  },
  {
   "cell_type": "code",
   "execution_count": 4,
   "id": "0903b11f-93ca-405b-9cdc-3b3d358369df",
   "metadata": {},
   "outputs": [
    {
     "data": {
      "text/html": [
       "<div><!-- Original source from -->\n",
       "<!-- https://github.com/jsignell/xarray/blob/1d960933ab252e0f79f7e050e6c9261d55568057/xarray/static/html/icons-svg-inline.html -->\n",
       "<svg style=\"position: absolute; width: 0; height: 0; overflow: hidden\">\n",
       "<defs>\n",
       "<symbol id=\"icon-database\" viewBox=\"0 0 32 32\">\n",
       "<title>Show/Hide data repr</title>\n",
       "<path d=\"M16 0c-8.837 0-16 2.239-16 5v4c0 2.761 7.163 5 16 5s16-2.239 16-5v-4c0-2.761-7.163-5-16-5z\"></path>\n",
       "<path d=\"M16 17c-8.837 0-16-2.239-16-5v6c0 2.761 7.163 5 16 5s16-2.239 16-5v-6c0 2.761-7.163 5-16 5z\"></path>\n",
       "<path d=\"M16 26c-8.837 0-16-2.239-16-5v6c0 2.761 7.163 5 16 5s16-2.239 16-5v-6c0 2.761-7.163 5-16 5z\"></path>\n",
       "</symbol>\n",
       "<symbol id=\"icon-file-text2\" viewBox=\"0 0 32 32\">\n",
       "<title>Show/Hide attributes</title>\n",
       "<path d=\"M28.681 7.159c-0.694-0.947-1.662-2.053-2.724-3.116s-2.169-2.030-3.116-2.724c-1.612-1.182-2.393-1.319-2.841-1.319h-15.5c-1.378 0-2.5 1.121-2.5 2.5v27c0 1.378 1.122 2.5 2.5 2.5h23c1.378 0 2.5-1.122 2.5-2.5v-19.5c0-0.448-0.137-1.23-1.319-2.841zM24.543 5.457c0.959 0.959 1.712 1.825 2.268 2.543h-4.811v-4.811c0.718 0.556 1.584 1.309 2.543 2.268zM28 29.5c0 0.271-0.229 0.5-0.5 0.5h-23c-0.271 0-0.5-0.229-0.5-0.5v-27c0-0.271 0.229-0.5 0.5-0.5 0 0 15.499-0 15.5 0v7c0 0.552 0.448 1 1 1h7v19.5z\"></path>\n",
       "<path d=\"M23 26h-14c-0.552 0-1-0.448-1-1s0.448-1 1-1h14c0.552 0 1 0.448 1 1s-0.448 1-1 1z\"></path>\n",
       "<path d=\"M23 22h-14c-0.552 0-1-0.448-1-1s0.448-1 1-1h14c0.552 0 1 0.448 1 1s-0.448 1-1 1z\"></path>\n",
       "<path d=\"M23 18h-14c-0.552 0-1-0.448-1-1s0.448-1 1-1h14c0.552 0 1 0.448 1 1s-0.448 1-1 1z\"></path>\n",
       "</symbol>\n",
       "</defs>\n",
       "</svg><style id=\"scipp-style-sheet\">.sc-root{--sc-background-color0:var(--jp-layout-color0,#fff);--sc-background-color1:var(--jp-layout-color1,#fcfcfc);--sc-background-color2:var(--jp-layout-color2,#efefef);--sc-inverse-background-color0:var(--jp-inverse-layout-color4,#111);--sc-font-color0:var(--jp-content-font-color0,#000);--sc-font-color1:var(--jp-content-font-color1,#555);--sc-font-color2:var(--jp-content-font-color2,#888);--sc-font-color3:var(--jp-content-font-color3,#ccc);--sc-table-data-color:#f6d028;--sc-table-coords-color:#c6e590;--sc-table-masks-color:#c8c8c8;--sc-table-attrs-color:#ff5555;--sc-table-header-font-color:#111111;}.sc-wrap{font-size:14px;min-width:300px;max-width:800px;}.sc-var-attrs .sc-wrap{padding-left:3em;}.sc-header{padding-top:6px;padding-bottom:6px;margin-bottom:4px;border-bottom:solid 1px #ddd;}.sc-header > div,.sc-header > ul{display:inline;margin-top:0;margin-bottom:0;}.sc-obj-type,.sc-array-name{margin-left:2px;margin-right:10px;}.sc-obj-type{color:var(--sc-font-color1);}.sc-underlying-size{color:var(--sc-font-color2);}.sc-sections{padding-left:0 !important;display:grid;grid-template-columns:150px auto auto auto 1fr 20px 20px;}.sc-section-item{display:contents;}.sc-section-item input{display:none;}.sc-section-item input:enabled + label{cursor:pointer;color:var(--sc-font-color1);}.sc-section-item input:enabled + label:hover{color:var(--sc-font-color0);}.sc-section-summary{grid-column:1;font-weight:500;}.sc-section-summary > span{display:inline-block;padding-left:0.5em;}.sc-section-summary-in:disabled + label{color:var(--sc-font-color1);}.sc-section-summary-in + label:before{display:inline-block;content:'►';font-size:11px;width:15px;text-align:center;}.sc-section-summary-in:disabled + label:before{color:var(--sc-font-color3);}.sc-section-summary-in:checked + label:before{content:'▼';}.sc-section-summary-in:checked + label > span{display:none;}.sc-section-summary,.sc-section-inline-details{padding-top:4px;padding-bottom:4px;}.sc-section-inline-details{grid-column:2 / 6;}.sc-section-details{display:none;grid-column:1 / -1;margin-bottom:5px;}.sc-section-summary-in:checked ~ .sc-section-details{display:contents;}.sc-array-wrap{grid-column:1 / -1;display:grid;grid-template-columns:20px auto;}.sc-array-wrap > label{grid-column:1;vertical-align:top;}.sc-preview{color:var(--sc-font-color2);}.sc-array-preview,.sc-array-data{padding:0 5px !important;grid-column:2;}.sc-array-data,.sc-array-in:checked ~ .sc-array-preview{display:none;}.sc-array-in:checked ~ .sc-array-data,.sc-array-preview{display:inline-block;}.sc-dim-list{display:inline-block !important;list-style:none;padding:0 !important;margin:0;}.sc-dim-list li{display:inline-block;padding:0;margin:0!important;}.sc-dim-list:before{content:'(';}.sc-dim-list:after{content:')';}.sc-dim-list li:not(:last-child):after{content:',';padding-right:5px;}.sc-has-index{font-weight:bold;}.sc-var-list,.sc-var-item{display:contents;}.sc-var-item > div,.sc-var-item label,.sc-var-item > .sc-var-name span{background-color:var(--sc-background-color1);margin-bottom:0;}.sc-var-item > .sc-var-name:hover span{padding-right:5px;}.sc-var-list > li:nth-child(odd) > div,.sc-var-list > li:nth-child(odd) > label,.sc-var-list > li:nth-child(odd) > .sc-var-name span{background-color:var(--sc-background-color2);}.sc-var-name{grid-column:1;}.sc-var-dims{grid-column:2;}.sc-var-dtype{grid-column:3;text-align:right;color:var(--sc-font-color2);}.sc-var-unit{grid-column:4;text-align:left;color:var(--sc-font-color1);max-width:50pt;text-overflow:ellipsis;}.sc-value-preview{grid-column:5;}.sc-var-preview-variances{text-align:right;}.sc-sections .sc-section-item .sc-section-summary,.sc-sections .sc-section-item .sc-section-inline-details,.sc-section-item .sc-var-list .sc-var-item > div,.sc-section-item .sc-var-list .sc-var-item > label,.sc-section-details .sc-var-list .sc-var-item > div,.sc-section-details .sc-var-list .sc-var-item > label{margin-top:0;margin-bottom:0;}.sc-var-name,.sc-var-dims,.sc-var-dtype,.sc-var-unit,.sc-preview,.sc-attrs dt{white-space:nowrap;overflow:hidden;text-overflow:ellipsis;padding-right:10px;}.sc-var-name:hover,.sc-var-dims:hover,.sc-var-dtype:hover,.sc-var-unit:hover,.sc-attrs dt:hover{overflow:visible;width:auto;z-index:1;}.sc-var-attrs{display:block;}.sc-var-data{display:none;}.sc-var-attrs,.sc-var-data{background-color:var(--sc-background-color0) !important;padding-bottom:5px !important;}.sc-var-attrs-in:checked ~ .sc-var-attrs{display:none;}.sc-var-data-in:checked ~ .sc-var-data{display:block;}.sc-var-data > table{float:right;}.sc-var-name span,.sc-var-data{padding-left:25px !important;}.sc-var-attrs,.sc-var-data{grid-column:1 / -1;}dl.sc-attrs{padding:0;margin:0;display:grid;grid-template-columns:125px auto;}.sc-attrs dt,dd{padding:0;margin:0;float:left;padding-right:10px;width:auto;}.sc-attrs dt{font-weight:normal;grid-column:1;}.sc-attrs dt:hover span{display:inline-block;padding-right:10px;}.sc-attrs dd{grid-column:2;white-space:pre-wrap;word-break:break-all;}.sc-icon-database,.sc-icon-file-text2{display:inline-block;vertical-align:middle;width:1em;height:1.5em !important;stroke-width:0;stroke:currentColor;fill:currentColor;}label.sc-hide-icon svg{opacity:0;}.sc-standalone-var-name{grid-column:1/3;}.sc-standalone-var-name span{padding-left:25px;padding-right:10px;}.sc-table{border-collapse:collapse;}.sc-title{font-weight:bold;font-size:1.5em;}.sc-subtitle{font-weight:normal;font-style:italic;text-align:left;font-size:1.2em;padding:1px;}.sc-table th,.sc-table td{border:1px solid var(--sc-inverse-background-color0);padding:0 5px 0 5px;}.sc-table th{text-align:center;}.sc-table tr{background-color:var(--sc-background-color1);text-align:right;}.sc-table tr:hover{background-color:var(--sc-background-color2);}.sc-table th.sc-data{background-color:var(--sc-table-data-color);color:var(--sc-table-header-font-color);}.sc-table th.sc-coords{background-color:var(--sc-table-coords-color);color:var(--sc-table-header-font-color);}.sc-table th.sc-masks{background-color:var(--sc-table-masks-color);color:var(--sc-table-header-font-color);}.sc-table th.sc-attrs{background-color:var(--sc-table-attrs-color);color:var(--sc-table-header-font-color);}.sc-table th.sc-subheader{background-color:var(--sc-background-color2);}.sc-table td.sc-padding{background-color:var(--sc-background-color1);border:0 solid var(--sc-background-color1);height:1.2em;}.sc-label{fill:var(--sc-font-color0,#444444);text-anchor:middle;}.sc-name{fill:var(--sc-font-color0,#111111);}.sc-inset-line{stroke:var(--sc-font-color1);stroke-width:0.05;stroke-dasharray:0.2,0.2;}.sc-log-wrap{height:25ex;resize:vertical;overflow-y:scroll;display:flex;flex-direction:column-reverse;border:1px solid;border-color:var(--jp-border-color2);background-color:var(--sc-background-color1);}div.sc-log{line-height:2.5ex;}table.sc-log{table-layout:auto;border-collapse:collapse;}tr.sc-log:nth-child(even){background-color:var(--sc-background-color0);}tr.sc-log > td{vertical-align:top;padding-bottom:0.5ex;}.sc-log-time-stamp{min-width:22ch;font-family:var(--jp-code-font-family);color:var(--sc-font-color2);}.sc-log-level{min-width:10ch;}tr.sc-log-debug td.sc-log-level{color:var(--jp-accent-color1);}tr.sc-log-info td.sc-log-level{color:var(--jp-info-color1);}tr.sc-log-warning td.sc-log-level{color:var(--jp-warn-color1);}tr.sc-log-error td.sc-log-level{font-weight:bold;color:var(--jp-error-color2);}tr.sc-log-critical td.sc-log-level{font-weight:bold;color:var(--sc-background-color0);background-color:var(--jp-error-color1);}.sc-log-message{white-space:pre-wrap;width:100%;}.sc-log-html-payload{white-space:normal;}.sc-log-name{padding-right:0.5em;text-align:right;white-space:pre-wrap;color:var(--sc-font-color3);}</style><div class='sc-wrap sc-root'><div class='sc-header'><div class='sc-obj-type'>scipp.Dataset (12.76 KB)</div></div><ul class='sc-sections'><li class='sc-section-item'><input id='section-261dffe3-cd7b-4eee-a4f6-8115888657a8' class='sc-section-summary-in' type='checkbox' disabled ><label for='section-261dffe3-cd7b-4eee-a4f6-8115888657a8' class='sc-section-summary'  title='Expand/collapse section'>Dimensions:</label><div class='sc-section-inline-details'><ul class='sc-dim-list'><li><span class='sc-has-index'>Qz_0</span>: 408</li></ul></div><div class='sc-section-details'></div></li><li class='sc-section-item'><input id='section-6fe31acc-074a-4aa1-a618-83570dc50503' class='sc-section-summary-in' type='checkbox'  checked><label for='section-6fe31acc-074a-4aa1-a618-83570dc50503' class='sc-section-summary' >Coordinates: <span>(1)</span></label><div class='sc-section-inline-details'></div><div class='sc-section-details'><ul class='sc-var-list'><li class='sc-var-item'><div class='sc-var-name'><span class='sc-has-index'>Qz_0</span></div><div class='sc-var-dims'>(Qz_0)</div><div class='sc-var-dtype'>float64</div><div class='sc-var-unit'>1/Å</div><div class='sc-value-preview sc-preview'><span><div>0.008, 0.008, ..., 0.461, 0.466</div></span><span><div>σ = 0.000, 0.000, ..., 0.009, 0.010</div></span></div><input id='attrs-9b7b072f-4a71-4cc8-80fb-43754163c810' class='sc-var-attrs-in' type='checkbox' disabled><label for='attrs-9b7b072f-4a71-4cc8-80fb-43754163c810' class='sc-hide-icon' title='Show/Hide attributes'><svg class='icon sc-icon-file-text2'><use xlink:href='#icon-file-text2'></use></svg></label><input id='data-3d472cc0-7aab-49c0-8604-b889e2d9e35c' class='sc-var-data-in' type='checkbox'><label for='data-3d472cc0-7aab-49c0-8604-b889e2d9e35c' title='Show/Hide data repr'><svg class='icon sc-icon-database'><use xlink:href='#icon-database'></use></svg></label><pre class='sc-var-data'>Values:<br>array([0.00806022, 0.00813662, 0.00826375, 0.00837067, 0.00845033,\n",
       "       0.00853083, 0.00861217, 0.00869437, 0.00877743, 0.00886136,\n",
       "       0.00894616, 0.00903185, 0.00911844, 0.00920593, 0.00929432,\n",
       "       0.00938364, 0.00947389, 0.00956508, 0.00965721, 0.0097503 ,\n",
       "       0.00984436, 0.00993939, 0.0100354 , 0.0101324 , 0.0102304 ,\n",
       "       0.0103294 , 0.0104868 , 0.0106327 , 0.0107359 , 0.0108401 ,\n",
       "       0.0109454 , 0.0110518 , 0.0111593 , 0.0112679 , 0.0113776 ,\n",
       "       0.0114884 , 0.0116004 , 0.0117135 , 0.0118278 , 0.0119433 ,\n",
       "       0.0120599 , 0.0121777 , 0.0122968 , 0.012417  , 0.0125385 ,\n",
       "       0.0126612 , 0.0127852 , 0.0129105 , 0.013037  , 0.0131648 ,\n",
       "       0.0132939 , 0.0134243 , 0.0135561 , 0.0136892 , 0.0138237 ,\n",
       "       0.0139595 , 0.0140967 , 0.0142353 , 0.0143753 , 0.0145168 ,\n",
       "       0.0146597 , 0.014804  , 0.0149498 , 0.015097  , 0.0152458 ,\n",
       "       0.0153961 , 0.0155479 , 0.0157012 , 0.0158561 , 0.0160126 ,\n",
       "       0.0161707 , 0.0163303 , 0.0164916 , 0.0166545 , 0.016819  ,\n",
       "       0.0169853 , 0.0171532 , 0.0173228 , 0.0175881 , 0.0178419 ,\n",
       "       0.0180185 , 0.0181968 , 0.018377  , 0.0185589 , 0.0187427 ,\n",
       "       0.0189284 , 0.0191159 , 0.0193054 , 0.0194967 , 0.01969   ,\n",
       "       0.0198852 , 0.0200824 , 0.0202815 , 0.0204827 , 0.0206859 ,\n",
       "       0.0208912 , 0.0210985 , 0.021308  , 0.0215195 , 0.0217331 ,\n",
       "       0.021949  , 0.0221669 , 0.0223871 , 0.0226095 , 0.0228341 ,\n",
       "       0.023061  , 0.0232902 , 0.0235217 , 0.0237555 , 0.0239917 ,\n",
       "       0.0242302 , 0.0244712 , 0.0247145 , 0.0249603 , 0.0252086 ,\n",
       "       0.0254594 , 0.0257127 , 0.0259685 , 0.0262269 , 0.026488  ,\n",
       "       0.0267516 , 0.0270179 , 0.0272868 , 0.0275585 , 0.0278329 ,\n",
       "       0.02811   , 0.02839   , 0.0286727 , 0.0289583 , 0.0292467 ,\n",
       "       0.0295381 , 0.0298323 , 0.0301296 , 0.0304298 , 0.030733  ,\n",
       "       0.0310392 , 0.0313486 , 0.031661  , 0.0319766 , 0.0322953 ,\n",
       "       0.0326173 , 0.0329424 , 0.0332708 , 0.0336026 , 0.0339376 ,\n",
       "       0.0342205 , 0.0346645 , 0.0350219 , 0.035385  , 0.0357162 ,\n",
       "       0.0360773 , 0.0364677 , 0.0368263 , 0.0371616 , 0.0375421 ,\n",
       "       0.0379404 , 0.0383128 , 0.038684  , 0.0390692 , 0.0394734 ,\n",
       "       0.0398633 , 0.0402658 , 0.0406608 , 0.0410701 , 0.0414781 ,\n",
       "       0.0418744 , 0.0423049 , 0.0427317 , 0.0431546 , 0.0435835 ,\n",
       "       0.0440155 , 0.0444549 , 0.0448983 , 0.045347  , 0.0457947 ,\n",
       "       0.0462512 , 0.0467124 , 0.0471783 , 0.0476469 , 0.0481208 ,\n",
       "       0.0485994 , 0.0490828 , 0.049571  , 0.050064  , 0.0505619 ,\n",
       "       0.0510655 , 0.0515734 , 0.0520864 , 0.0526045 , 0.0531279 ,\n",
       "       0.0536565 , 0.0541905 , 0.0547298 , 0.0552745 , 0.0558247 ,\n",
       "       0.0563804 , 0.0569417 , 0.0575087 , 0.0580813 , 0.0586597 ,\n",
       "       0.0592439 , 0.059834  , 0.06043   , 0.0610319 , 0.06164   ,\n",
       "       0.0622541 , 0.0628744 , 0.0635009 , 0.0641337 , 0.0647728 ,\n",
       "       0.0654184 , 0.0660704 , 0.066729  , 0.0673942 , 0.068066  ,\n",
       "       0.0687446 , 0.06943   , 0.0701223 , 0.0708215 , 0.0715278 ,\n",
       "       0.0722411 , 0.0729338 , 0.0736683 , 0.0744015 , 0.0751405 ,\n",
       "       0.0758721 , 0.0766402 , 0.0773964 , 0.0781061 , 0.0788682 ,\n",
       "       0.0797953 , 0.0807289 , 0.0815334 , 0.0823318 , 0.0831605 ,\n",
       "       0.0840252 , 0.0848648 , 0.0857342 , 0.0865553 , 0.0874372 ,\n",
       "       0.0883163 , 0.0891108 , 0.0900416 , 0.0909546 , 0.0918504 ,\n",
       "       0.0927435 , 0.0936289 , 0.0945527 , 0.0955178 , 0.0964771 ,\n",
       "       0.0974189 , 0.0984259 , 0.0994201 , 0.100425  , 0.101434  ,\n",
       "       0.102499  , 0.103498  , 0.104546  , 0.105608  , 0.106682  ,\n",
       "       0.107758  , 0.108831  , 0.109916  , 0.11104   , 0.112117  ,\n",
       "       0.113244  , 0.114319  , 0.115464  , 0.116645  , 0.117762  ,\n",
       "       0.118925  , 0.120129  , 0.121346  , 0.122586  , 0.123823  ,\n",
       "       0.125091  , 0.126361  , 0.127643  , 0.128932  , 0.13021   ,\n",
       "       0.131547  , 0.132854  , 0.134162  , 0.135515  , 0.136824  ,\n",
       "       0.138204  , 0.139589  , 0.140989  , 0.14243   , 0.143851  ,\n",
       "       0.145263  , 0.14675   , 0.148225  , 0.14971   , 0.151225  ,\n",
       "       0.152736  , 0.154261  , 0.155825  , 0.157366  , 0.158941  ,\n",
       "       0.160511  , 0.162137  , 0.163755  , 0.165404  , 0.167035  ,\n",
       "       0.168736  , 0.17041   , 0.172119  , 0.173839  , 0.175574  ,\n",
       "       0.177336  , 0.179087  , 0.180907  , 0.182715  , 0.184535  ,\n",
       "       0.186383  , 0.188247  , 0.190126  , 0.192038  , 0.193954  ,\n",
       "       0.1959    , 0.19786   , 0.199845  , 0.201833  , 0.203863  ,\n",
       "       0.205904  , 0.207959  , 0.210042  , 0.21214   , 0.214257  ,\n",
       "       0.216399  , 0.21857   , 0.220781  , 0.222988  , 0.225216  ,\n",
       "       0.227467  , 0.229741  , 0.232037  , 0.234356  , 0.236698  ,\n",
       "       0.239064  , 0.241454  , 0.243867  , 0.246304  , 0.248766  ,\n",
       "       0.251253  , 0.253764  , 0.256301  , 0.258863  , 0.26145   ,\n",
       "       0.264064  , 0.266703  , 0.269369  , 0.272062  , 0.274782  ,\n",
       "       0.277529  , 0.280303  , 0.283105  , 0.285935  , 0.288793  ,\n",
       "       0.29168   , 0.294596  , 0.297541  , 0.300516  , 0.30352   ,\n",
       "       0.306554  , 0.309619  , 0.312714  , 0.315841  , 0.318998  ,\n",
       "       0.322187  , 0.325408  , 0.328662  , 0.331947  , 0.335266  ,\n",
       "       0.338618  , 0.342003  , 0.345423  , 0.348876  , 0.352364  ,\n",
       "       0.355887  , 0.359445  , 0.363039  , 0.366669  , 0.370335  ,\n",
       "       0.374037  , 0.377777  , 0.381554  , 0.385369  , 0.389222  ,\n",
       "       0.393113  , 0.397044  , 0.401014  , 0.405023  , 0.409073  ,\n",
       "       0.413163  , 0.417294  , 0.421466  , 0.42568   , 0.429936  ,\n",
       "       0.434235  , 0.438577  , 0.442962  , 0.447391  , 0.451865  ,\n",
       "       0.456383  , 0.460946  , 0.465555  ])<br><br>Variances (σ²):<br>array([1.98083007e-08, 2.01922979e-08, 2.08394636e-08, 2.13914932e-08,\n",
       "       2.18073977e-08, 2.22317384e-08, 2.26645151e-08, 2.31061112e-08,\n",
       "       2.35565301e-08, 2.40160349e-08, 2.44847623e-08, 2.49628504e-08,\n",
       "       2.54507095e-08, 2.59482148e-08, 2.64557850e-08, 2.69737113e-08,\n",
       "       2.75018695e-08, 2.80406948e-08, 2.85904916e-08, 2.91511362e-08,\n",
       "       2.97232278e-08, 3.03067926e-08, 3.09020023e-08, 3.15093318e-08,\n",
       "       3.21288128e-08, 3.27606267e-08, 3.37769883e-08, 3.47338067e-08,\n",
       "       3.54180999e-08, 3.61161698e-08, 3.68282232e-08, 3.75547984e-08,\n",
       "       3.82957836e-08, 3.90517280e-08, 3.98230261e-08, 4.06097395e-08,\n",
       "       4.14120981e-08, 4.22308575e-08, 4.30659154e-08, 4.39178696e-08,\n",
       "       4.47869754e-08, 4.56734903e-08, 4.65778578e-08, 4.75003461e-08,\n",
       "       4.84416001e-08, 4.94015269e-08, 5.03809748e-08, 5.13800475e-08,\n",
       "       5.23992328e-08, 5.34388327e-08, 5.44993507e-08, 5.55813011e-08,\n",
       "       5.66850071e-08, 5.78107950e-08, 5.89594069e-08, 6.01309799e-08,\n",
       "       6.13260668e-08, 6.25454446e-08, 6.37890525e-08, 6.50578997e-08,\n",
       "       6.63521497e-08, 6.76726237e-08, 6.90194952e-08, 7.03933832e-08,\n",
       "       7.17951473e-08, 7.32249796e-08, 7.46835316e-08, 7.61714683e-08,\n",
       "       7.76892314e-08, 7.92377451e-08, 8.08172329e-08, 8.24286448e-08,\n",
       "       8.40724623e-08, 8.57494204e-08, 8.74600176e-08, 8.92050111e-08,\n",
       "       9.09851734e-08, 9.28010332e-08, 9.56783537e-08, 9.84710983e-08,\n",
       "       1.00437595e-07, 1.02443921e-07, 1.04490403e-07, 1.06578197e-07,\n",
       "       1.08707923e-07, 1.10880494e-07, 1.13096838e-07, 1.15357903e-07,\n",
       "       1.17664069e-07, 1.20017185e-07, 1.22417370e-07, 1.24865927e-07,\n",
       "       1.27363584e-07, 1.29911686e-07, 1.32511305e-07, 1.35162904e-07,\n",
       "       1.37868205e-07, 1.40627702e-07, 1.43442848e-07, 1.46314805e-07,\n",
       "       1.49244429e-07, 1.52232915e-07, 1.55281815e-07, 1.58392041e-07,\n",
       "       1.61564855e-07, 1.64801541e-07, 1.68103406e-07, 1.71472135e-07,\n",
       "       1.74908381e-07, 1.78413872e-07, 1.81988926e-07, 1.85637498e-07,\n",
       "       1.89359240e-07, 1.93155244e-07, 1.97030389e-07, 2.00982094e-07,\n",
       "       2.05011490e-07, 2.09123598e-07, 2.13315763e-07, 2.17597071e-07,\n",
       "       2.21960929e-07, 2.26416605e-07, 2.30957374e-07, 2.35592692e-07,\n",
       "       2.40324024e-07, 2.45144445e-07, 2.50067941e-07, 2.55087572e-07,\n",
       "       2.60209070e-07, 2.65429602e-07, 2.70759433e-07, 2.76200270e-07,\n",
       "       2.81744817e-07, 2.87403653e-07, 2.93178535e-07, 2.99066593e-07,\n",
       "       3.05074173e-07, 3.11203084e-07, 3.17455156e-07, 3.23832234e-07,\n",
       "       3.30341067e-07, 3.36978753e-07, 3.43752175e-07, 3.50663405e-07,\n",
       "       3.57714533e-07, 3.62341795e-07, 3.72530018e-07, 3.80084525e-07,\n",
       "       3.87799483e-07, 3.95453078e-07, 4.03424180e-07, 4.11692771e-07,\n",
       "       4.19924149e-07, 4.28186985e-07, 4.36839011e-07, 4.45719323e-07,\n",
       "       4.54637449e-07, 4.63719096e-07, 4.73024896e-07, 4.82576533e-07,\n",
       "       4.92247480e-07, 5.02140751e-07, 5.12199315e-07, 5.22486541e-07,\n",
       "       5.32969050e-07, 5.43637078e-07, 5.54575252e-07, 5.65711802e-07,\n",
       "       5.77068737e-07, 5.88649312e-07, 6.00469975e-07, 6.12527789e-07,\n",
       "       6.24819591e-07, 6.37369108e-07, 6.50173516e-07, 6.63229760e-07,\n",
       "       6.76555509e-07, 6.90140798e-07, 7.04017902e-07, 7.18155490e-07,\n",
       "       7.32593541e-07, 7.47322122e-07, 7.62345596e-07, 7.77683347e-07,\n",
       "       7.93325146e-07, 8.09275490e-07, 8.25562068e-07, 8.42174572e-07,\n",
       "       8.59125740e-07, 8.76420724e-07, 8.94064727e-07, 9.12071117e-07,\n",
       "       9.30437254e-07, 9.49185049e-07, 9.68312058e-07, 9.87824005e-07,\n",
       "       1.00772667e-06, 1.02804312e-06, 1.04877106e-06, 1.06991672e-06,\n",
       "       1.09150412e-06, 1.11352222e-06, 1.13598648e-06, 1.15890365e-06,\n",
       "       1.18229902e-06, 1.20616135e-06, 1.23051646e-06, 1.25537193e-06,\n",
       "       1.28072582e-06, 1.30659529e-06, 1.33299798e-06, 1.35994208e-06,\n",
       "       1.38742587e-06, 1.41547763e-06, 1.44410611e-06, 1.47330985e-06,\n",
       "       1.50311830e-06, 1.53353028e-06, 1.56456554e-06, 1.59623359e-06,\n",
       "       1.62855492e-06, 1.65912098e-06, 1.69336254e-06, 1.72754079e-06,\n",
       "       1.76227473e-06, 1.79638667e-06, 1.83383774e-06, 1.87028110e-06,\n",
       "       1.90254664e-06, 1.93959214e-06, 1.98568617e-06, 2.03210355e-06,\n",
       "       2.07334212e-06, 2.11530373e-06, 2.15832203e-06, 2.20242874e-06,\n",
       "       2.24717256e-06, 2.29300933e-06, 2.33936082e-06, 2.38705522e-06,\n",
       "       2.43565506e-06, 2.48455724e-06, 2.53543287e-06, 2.58715197e-06,\n",
       "       2.63973823e-06, 2.69334138e-06, 2.74793383e-06, 2.80388459e-06,\n",
       "       2.86120370e-06, 2.91962520e-06, 2.97904757e-06, 3.04010508e-06,\n",
       "       3.10226064e-06, 3.16572517e-06, 3.23045816e-06, 3.29684860e-06,\n",
       "       3.36408568e-06, 3.43300855e-06, 3.50339334e-06, 3.57524710e-06,\n",
       "       3.64852781e-06, 3.72325659e-06, 3.79955409e-06, 3.87762883e-06,\n",
       "       3.95695375e-06, 4.03820822e-06, 4.12073674e-06, 4.20540625e-06,\n",
       "       4.29202766e-06, 4.37994090e-06, 4.46996637e-06, 4.56205042e-06,\n",
       "       4.65609957e-06, 4.75220060e-06, 4.85023717e-06, 4.95046513e-06,\n",
       "       5.05272989e-06, 5.15715878e-06, 5.26378593e-06, 5.37246870e-06,\n",
       "       5.48381327e-06, 5.59720402e-06, 5.71295277e-06, 5.83136273e-06,\n",
       "       5.95194035e-06, 6.07544745e-06, 6.20155526e-06, 6.33036876e-06,\n",
       "       6.46210393e-06, 6.59646085e-06, 6.73356654e-06, 6.87397509e-06,\n",
       "       7.01724982e-06, 7.16359348e-06, 7.31319290e-06, 7.46586985e-06,\n",
       "       7.62188257e-06, 7.78140379e-06, 7.94415698e-06, 8.11055375e-06,\n",
       "       8.28043473e-06, 8.45429887e-06, 8.63176591e-06, 8.81324457e-06,\n",
       "       8.99844546e-06, 9.18806912e-06, 9.38156890e-06, 9.57942446e-06,\n",
       "       9.78160239e-06, 9.98825359e-06, 1.01995060e-05, 1.04152440e-05,\n",
       "       1.06361203e-05, 1.08616933e-05, 1.10922355e-05, 1.13279713e-05,\n",
       "       1.15689589e-05, 1.18153438e-05, 1.20673340e-05, 1.23248453e-05,\n",
       "       1.25882391e-05, 1.28574935e-05, 1.31329210e-05, 1.34144089e-05,\n",
       "       1.37024654e-05, 1.39969818e-05, 1.42981300e-05, 1.46062161e-05,\n",
       "       1.49212932e-05, 1.52435456e-05, 1.55732289e-05, 1.59105722e-05,\n",
       "       1.62558446e-05, 1.66088380e-05, 1.69699962e-05, 1.73395302e-05,\n",
       "       1.77176559e-05, 1.81044493e-05, 1.85004969e-05, 1.89056300e-05,\n",
       "       1.93203773e-05, 1.97449079e-05, 2.01793931e-05, 2.06243921e-05,\n",
       "       2.10797032e-05, 2.15455042e-05, 2.20227724e-05, 2.25113130e-05,\n",
       "       2.30117315e-05, 2.35238296e-05, 2.40486433e-05, 2.45859845e-05,\n",
       "       2.51360752e-05, 2.56995710e-05, 2.62767139e-05, 2.68681893e-05,\n",
       "       2.74742604e-05, 2.80947436e-05, 2.87308044e-05, 2.93822712e-05,\n",
       "       3.00498867e-05, 3.07344183e-05, 3.14357061e-05, 3.21540546e-05,\n",
       "       3.28912335e-05, 3.36461270e-05, 3.44205469e-05, 3.52143612e-05,\n",
       "       3.60279297e-05, 3.68626487e-05, 3.77184014e-05, 3.85961085e-05,\n",
       "       3.94961862e-05, 4.04195966e-05, 4.13667863e-05, 4.23387609e-05,\n",
       "       4.33354397e-05, 4.43584198e-05, 4.54082128e-05, 4.64853379e-05,\n",
       "       4.75903213e-05, 4.87254752e-05, 4.98896044e-05, 5.10856862e-05,\n",
       "       5.23131352e-05, 5.35731822e-05, 5.48670960e-05, 5.61961850e-05,\n",
       "       5.75611534e-05, 5.89627162e-05, 6.04029187e-05, 6.18818765e-05,\n",
       "       6.34017132e-05, 6.49632607e-05, 6.65680562e-05, 6.82169821e-05,\n",
       "       6.99116442e-05, 7.16536966e-05, 7.34441155e-05, 7.52853655e-05,\n",
       "       7.71777613e-05, 7.91238633e-05, 8.11247933e-05, 8.31832397e-05,\n",
       "       8.53004176e-05, 8.74775614e-05, 8.97175333e-05, 9.20224821e-05])</pre></span></li></ul></div></li><li class='sc-section-item'><input id='section-6d71519f-d1e1-40c5-b829-b874972532c0' class='sc-section-summary-in' type='checkbox'  checked><label for='section-6d71519f-d1e1-40c5-b829-b874972532c0' class='sc-section-summary' >Data: <span>(1)</span></label><div class='sc-section-inline-details'></div><div class='sc-section-details'><ul class='sc-var-list'><li class='sc-var-item'><div class='sc-var-name'><span>R_0</span></div><div class='sc-var-dims'>(Qz_0)</div><div class='sc-var-dtype'>float64</div><div class='sc-var-unit'>𝟙</div><div class='sc-value-preview sc-preview'><span><div>0.710, 0.862, ..., 3.856e-07, 3.834e-07</div></span><span><div>σ = 0.085, 0.112, ..., 1.761e-07, 1.885e-07</div></span></div><input id='attrs-a453b947-907f-4253-85a2-3b7968ff67a7' class='sc-var-attrs-in' type='checkbox' ><label for='attrs-a453b947-907f-4253-85a2-3b7968ff67a7' class='' title='Show/Hide attributes'><svg class='icon sc-icon-file-text2'><use xlink:href='#icon-file-text2'></use></svg></label><input id='data-bad3c182-8c8f-44e2-9981-4c692b83b181' class='sc-var-data-in' type='checkbox'><label for='data-bad3c182-8c8f-44e2-9981-4c692b83b181' title='Show/Hide data repr'><svg class='icon sc-icon-database'><use xlink:href='#icon-database'></use></svg></label><div class='sc-var-attrs'><div class='sc-wrap'><ul class='sc-sections'><li class='sc-section-item sc-subsection'><input id='section-f0b28951-37ce-4853-b216-fdbe0cfd7c2c' class='sc-section-summary-in' type='checkbox'  checked><label for='section-f0b28951-37ce-4853-b216-fdbe0cfd7c2c' class='sc-section-summary' >Attributes: <span>(1)</span></label><div class='sc-section-inline-details'></div><div class='sc-section-details'><ul class='sc-var-list'><li class='sc-var-item'><div class='sc-var-name'><span>orso_header</span></div><div class='sc-var-dims'>()</div><div class='sc-var-dtype'>PyObject</div><div class='sc-var-unit'></div><div class='sc-value-preview sc-preview'><span><div>{&#x27;data_source&#x27;: {&#x27;owner&#x27;: {&#x27;name&#x27;: &#x27;Andrew Nelson&#x27;, &#x27;affiliation&#x27;: &#x27;ANSTO&#x27;, &#x27;contact&#x27;: &#x27;Andrew.Nelson@ansto.gov.au&#x27;}, &#x27;experiment&#x27;: {&#x27;title&#x27;: &#x27;Example data file from refnx docs&#x27;, &#x27;instrument&#x27;: &#x27;platypus&#x27;, &#x27;start_date&#x27;: &#x27;2021-05-12&#x27;, &#x27;probe&#x27;: &#x27;neutrons&#x27;, &#x27;facility&#x27;: &#x27;ANSTO&#x27;}, &#x27;sample&#x27;: {&#x27;name&#x27;: &#x27;Polymer Film&#x27;, &#x27;category&#x27;: &#x27;solid / liquid&#x27;, &#x27;composition&#x27;: &#x27;Si / SiO2 / Film / D2O&#x27;}, &#x27;measurement&#x27;: {&#x27;instrument_settings&#x27;: {&#x27;incident_angle&#x27;: {&#x27;magnitude&#x27;: 3.0, &#x27;unit&#x27;: &#x27;deg&#x27;}, &#x27;wavelength&#x27;: {&#x27;magnitude&#x27;: 12.0, &#x27;unit&#x27;: &#x27;angstrom&#x27;}, &#x27;polarization&#x27;: &#x27;unpolarized&#x27;}, &#x27;data_files&#x27;: [&#x27;Unknown.nxs&#x27;], &#x27;scheme&#x27;: &#x27;angle-dispersive&#x27;}}, &#x27;reduction&#x27;: {&#x27;software&#x27;: &#x27;ess&#x27;, &#x27;timestamp&#x27;: datetime.datetime(2022, 1, 27, 15, 33, 59, tzinfo=datetime.timezone(datetime.timedelta(seconds=3600))), &#x27;corrections&#x27;: [&#x27;footprint&#x27;, &#x27;incident intensity&#x27;, &#x27;detector efficiency&#x27;]}, &#x27;columns&#x27;: [{&#x27;name&#x27;: &#x27;Qz&#x27;, &#x27;unit&#x27;: &#x27;1/angstrom&#x27;, &#x27;dimension&#x27;: &#x27;WW transfer&#x27;}, {&#x27;name&#x27;: &#x27;R&#x27;, &#x27;dimension&#x27;: &#x27;reflectivity&#x27;}, {&#x27;name&#x27;: &#x27;sR&#x27;, &#x27;dimension&#x27;: &#x27;error-reflectivity&#x27;}, {&#x27;name&#x27;: &#x27;sQz&#x27;, &#x27;unit&#x27;: &#x27;1/angstrom&#x27;, &#x27;dimension&#x27;: &#x27;resolution-WW transfer&#x27;}]}</div></span></div><input id='attrs-18b7e5e3-e104-4158-8476-89864f0d39f7' class='sc-var-attrs-in' type='checkbox' disabled><label for='attrs-18b7e5e3-e104-4158-8476-89864f0d39f7' class='sc-hide-icon' title='Show/Hide attributes'><svg class='icon sc-icon-file-text2'><use xlink:href='#icon-file-text2'></use></svg></label><input id='data-cf794177-06cd-4fe1-a920-be05796eb25e' class='sc-var-data-in' type='checkbox'><label for='data-cf794177-06cd-4fe1-a920-be05796eb25e' title='Show/Hide data repr'><svg class='icon sc-icon-database'><use xlink:href='#icon-database'></use></svg></label><pre class='sc-var-data'>Values:<br>{&#x27;data_source&#x27;: {&#x27;owner&#x27;: {&#x27;name&#x27;: &#x27;Andrew Nelson&#x27;, &#x27;affiliation&#x27;: &#x27;ANSTO&#x27;, &#x27;contact&#x27;: &#x27;Andrew.Nelson@ansto.gov.au&#x27;}, &#x27;experiment&#x27;: {&#x27;title&#x27;: &#x27;Example data file from refnx docs&#x27;, &#x27;instrument&#x27;: &#x27;platypus&#x27;, &#x27;start_date&#x27;: &#x27;2021-05-12&#x27;, &#x27;probe&#x27;: &#x27;neutrons&#x27;, &#x27;facility&#x27;: &#x27;ANSTO&#x27;}, &#x27;sample&#x27;: {&#x27;name&#x27;: &#x27;Polymer Film&#x27;, &#x27;category&#x27;: &#x27;solid / liquid&#x27;, &#x27;composition&#x27;: &#x27;Si / SiO2 / Film / D2O&#x27;}, &#x27;measurement&#x27;: {&#x27;instrument_settings&#x27;: {&#x27;incident_angle&#x27;: {&#x27;magnitude&#x27;: 3.0, &#x27;unit&#x27;: &#x27;deg&#x27;}, &#x27;wavelength&#x27;: {&#x27;magnitude&#x27;: 12.0, &#x27;unit&#x27;: &#x27;angstrom&#x27;}, &#x27;polarization&#x27;: &#x27;unpolarized&#x27;}, &#x27;data_files&#x27;: [&#x27;Unknown.nxs&#x27;], &#x27;scheme&#x27;: &#x27;angle-dispersive&#x27;}}, &#x27;reduction&#x27;: {&#x27;software&#x27;: &#x27;ess&#x27;, &#x27;timestamp&#x27;: datetime.datetime(2022, 1, 27, 15, 33, 59, tzinfo=datetime.timezone(datetime.timedelta(seconds=3600))), &#x27;corrections&#x27;: [&#x27;footprint&#x27;, &#x27;incident intensity&#x27;, &#x27;detector efficiency&#x27;]}, &#x27;columns&#x27;: [{&#x27;name&#x27;: &#x27;Qz&#x27;, &#x27;unit&#x27;: &#x27;1/angstrom&#x27;, &#x27;dimension&#x27;: &#x27;WW transfer&#x27;}, {&#x27;name&#x27;: &#x27;R&#x27;, &#x27;dimension&#x27;: &#x27;reflectivity&#x27;}, {&#x27;name&#x27;: &#x27;sR&#x27;, &#x27;dimension&#x27;: &#x27;error-reflectivity&#x27;}, {&#x27;name&#x27;: &#x27;sQz&#x27;, &#x27;unit&#x27;: &#x27;1/angstrom&#x27;, &#x27;dimension&#x27;: &#x27;resolution-WW transfer&#x27;}]}</pre></li></ul></div></li></ul></div></div><pre class='sc-var-data'>Values:<br>array([7.09581e-01, 8.62281e-01, 9.08647e-01, 7.73292e-01, 1.05797e+00,\n",
       "       1.01566e+00, 7.34717e-01, 7.69216e-01, 1.11574e+00, 9.72303e-01,\n",
       "       7.51214e-01, 7.97649e-01, 9.22189e-01, 9.75755e-01, 8.19504e-01,\n",
       "       7.88320e-01, 7.94701e-01, 8.74400e-01, 8.39662e-01, 8.00872e-01,\n",
       "       1.11710e+00, 8.88411e-01, 7.79129e-01, 7.99968e-01, 8.43124e-01,\n",
       "       9.61332e-01, 8.80544e-01, 7.55735e-01, 9.71231e-01, 8.95549e-01,\n",
       "       8.62589e-01, 8.90992e-01, 9.00348e-01, 8.45927e-01, 9.43152e-01,\n",
       "       9.95631e-01, 9.69594e-01, 9.05181e-01, 8.93381e-01, 9.19602e-01,\n",
       "       9.18998e-01, 7.81056e-01, 8.64915e-01, 8.43516e-01, 9.98418e-01,\n",
       "       8.81260e-01, 8.83569e-01, 9.37670e-01, 1.01920e+00, 8.45526e-01,\n",
       "       8.73804e-01, 8.65953e-01, 8.77982e-01, 9.47545e-01, 8.88154e-01,\n",
       "       8.91362e-01, 8.88456e-01, 9.13717e-01, 8.10364e-01, 7.38548e-01,\n",
       "       6.86510e-01, 5.82240e-01, 4.46855e-01, 3.92461e-01, 3.20517e-01,\n",
       "       2.81006e-01, 2.40100e-01, 2.20881e-01, 1.92033e-01, 1.79849e-01,\n",
       "       1.60069e-01, 1.53129e-01, 1.34220e-01, 1.28330e-01, 1.24794e-01,\n",
       "       1.09127e-01, 1.04429e-01, 9.46830e-02, 8.96911e-02, 8.09144e-02,\n",
       "       7.46544e-02, 7.03661e-02, 6.90445e-02, 6.27055e-02, 5.93915e-02,\n",
       "       5.75477e-02, 5.13833e-02, 4.92267e-02, 4.52174e-02, 4.24556e-02,\n",
       "       4.12613e-02, 3.52333e-02, 3.35271e-02, 3.32684e-02, 3.16644e-02,\n",
       "       2.91600e-02, 2.65201e-02, 2.51829e-02, 2.38757e-02, 2.28929e-02,\n",
       "       2.08646e-02, 2.08771e-02, 1.82228e-02, 1.77346e-02, 1.58714e-02,\n",
       "       1.43255e-02, 1.42776e-02, 1.26624e-02, 1.22128e-02, 1.04608e-02,\n",
       "       1.06133e-02, 9.87903e-03, 8.37203e-03, 7.67048e-03, 7.34489e-03,\n",
       "       6.79865e-03, 5.91630e-03, 5.34498e-03, 5.12265e-03, 4.75031e-03,\n",
       "       4.30715e-03, 4.01817e-03, 3.53915e-03, 3.81819e-03, 2.86475e-03,\n",
       "       2.79580e-03, 2.62150e-03, 2.48477e-03, 2.42009e-03, 2.35926e-03,\n",
       "       1.97856e-03, 1.94720e-03, 1.73593e-03, 1.89459e-03, 1.69668e-03,\n",
       "       1.79369e-03, 1.78686e-03, 1.87201e-03, 1.68818e-03, 1.73237e-03,\n",
       "       1.53760e-03, 1.54134e-03, 1.70033e-03, 2.14224e-03, 1.94402e-03,\n",
       "       1.91400e-03, 1.98641e-03, 1.84974e-03, 1.93264e-03, 2.18899e-03,\n",
       "       2.31432e-03, 1.83177e-03, 1.79715e-03, 2.27874e-03, 2.18339e-03,\n",
       "       1.79900e-03, 1.82808e-03, 1.94985e-03, 2.04214e-03, 1.65946e-03,\n",
       "       1.62031e-03, 1.58862e-03, 1.58251e-03, 1.42990e-03, 1.33612e-03,\n",
       "       1.72190e-03, 1.40489e-03, 1.14648e-03, 1.03013e-03, 1.01864e-03,\n",
       "       1.06025e-03, 9.11561e-04, 7.79536e-04, 5.95757e-04, 6.47645e-04,\n",
       "       5.26839e-04, 4.36546e-04, 3.69605e-04, 3.31564e-04, 2.54584e-04,\n",
       "       2.09080e-04, 1.92937e-04, 1.30922e-04, 1.09823e-04, 9.56548e-05,\n",
       "       7.92572e-05, 7.95605e-05, 7.22495e-05, 7.82513e-05, 8.63712e-05,\n",
       "       1.33162e-04, 1.43632e-04, 1.58682e-04, 1.90007e-04, 2.35420e-04,\n",
       "       2.33932e-04, 2.43390e-04, 2.70858e-04, 3.10966e-04, 3.48327e-04,\n",
       "       3.32957e-04, 3.54659e-04, 3.54467e-04, 3.85515e-04, 3.32509e-04,\n",
       "       3.33087e-04, 3.30307e-04, 3.22469e-04, 2.74462e-04, 2.79243e-04,\n",
       "       2.38938e-04, 2.33028e-04, 1.86343e-04, 1.64949e-04, 1.33244e-04,\n",
       "       1.15376e-04, 8.25033e-05, 6.71923e-05, 5.03322e-05, 3.33612e-05,\n",
       "       2.29052e-05, 1.87944e-05, 1.55344e-05, 1.82452e-05, 2.23562e-05,\n",
       "       2.77362e-05, 3.93101e-05, 4.59669e-05, 5.54131e-05, 6.72605e-05,\n",
       "       7.65064e-05, 7.79472e-05, 8.50542e-05, 9.68569e-05, 9.46240e-05,\n",
       "       8.58564e-05, 8.10144e-05, 7.65592e-05, 7.38543e-05, 6.24971e-05,\n",
       "       5.49543e-05, 5.69454e-05, 4.22920e-05, 3.36754e-05, 2.54564e-05,\n",
       "       2.09221e-05, 1.53112e-05, 1.26565e-05, 9.33124e-06, 8.90152e-06,\n",
       "       1.07915e-05, 1.21368e-05, 1.54080e-05, 1.93803e-05, 2.09116e-05,\n",
       "       2.51925e-05, 2.81880e-05, 2.99810e-05, 3.05628e-05, 2.81903e-05,\n",
       "       2.69263e-05, 2.54192e-05, 2.28270e-05, 1.76917e-05, 1.54751e-05,\n",
       "       1.17258e-05, 1.05027e-05, 8.12153e-06, 4.98884e-06, 4.90999e-06,\n",
       "       5.30434e-06, 5.68905e-06, 6.44471e-06, 7.45619e-06, 8.24842e-06,\n",
       "       1.06749e-05, 1.13162e-05, 1.10440e-05, 1.06258e-05, 9.33766e-06,\n",
       "       8.92280e-06, 6.43611e-06, 6.18113e-06, 4.68568e-06, 4.66754e-06,\n",
       "       4.26250e-06, 3.88430e-06, 3.69948e-06, 3.65993e-06, 4.55939e-06,\n",
       "       4.58088e-06, 4.82929e-06, 4.93092e-06, 4.78100e-06, 4.64484e-06,\n",
       "       4.36508e-06, 3.80706e-06, 3.54415e-06, 2.63269e-06, 2.12968e-06,\n",
       "       2.50908e-06, 2.60626e-06, 2.46796e-06, 2.43769e-06, 2.81846e-06,\n",
       "       3.20191e-06, 3.02096e-06, 2.39855e-06, 2.45824e-06, 2.03366e-06,\n",
       "       1.68404e-06, 1.29383e-06, 1.43967e-06, 1.54020e-06, 1.33849e-06,\n",
       "       1.61599e-06, 1.49347e-06, 2.05968e-06, 1.69015e-06, 1.48837e-06,\n",
       "       1.40382e-06, 1.34689e-06, 9.47710e-07, 1.08955e-06, 1.24635e-06,\n",
       "       1.22737e-06, 1.16896e-06, 1.16172e-06, 1.21689e-06, 1.31757e-06,\n",
       "       1.03279e-06, 1.03066e-06, 5.94535e-07, 7.27996e-07, 7.80631e-07,\n",
       "       1.06339e-06, 6.52697e-07, 1.07438e-06, 8.68763e-07, 9.21868e-07,\n",
       "       6.47149e-07, 5.36393e-07, 6.33717e-07, 6.29270e-07, 6.33292e-07,\n",
       "       1.03705e-06, 8.25286e-07, 6.26825e-07, 5.25259e-07, 5.21832e-07,\n",
       "       3.91659e-07, 4.72439e-07, 5.59536e-07, 6.64070e-07, 4.59378e-07,\n",
       "       3.66961e-07, 5.31531e-07, 4.28914e-07, 5.52006e-07, 5.70264e-07,\n",
       "       5.04731e-07, 6.61923e-07, 7.60132e-07, 4.68527e-07, 4.42860e-07,\n",
       "       4.89979e-07, 3.60163e-07, 2.90563e-07, 5.19963e-07, 4.66665e-07,\n",
       "       3.88883e-07, 4.46778e-07, 3.23885e-07, 3.78736e-07, 3.88199e-07,\n",
       "       4.42877e-07, 2.47787e-07, 2.85769e-07, 4.75964e-07, 4.49639e-07,\n",
       "       2.47147e-07, 2.16764e-07, 5.20585e-07, 5.24697e-07, 3.64403e-07,\n",
       "       4.59752e-07, 5.35922e-07, 4.26807e-07, 4.03666e-07, 2.55454e-07,\n",
       "       9.26972e-08, 1.10672e-07, 4.52163e-07, 3.78066e-07, 3.09136e-07,\n",
       "       3.41774e-07, 3.44924e-07, 2.51840e-07, 4.01737e-07, 3.17279e-07,\n",
       "       5.50631e-07, 5.08510e-07, 6.02593e-07, 4.38454e-07, 3.38757e-07,\n",
       "       4.35846e-07, 3.85579e-07, 3.83415e-07])<br><br>Variances (σ²):<br>array([7.23649657e-03, 1.26270169e-02, 6.24174262e-03, 6.28417682e-03,\n",
       "       1.58656697e-02, 1.28357570e-02, 3.74012972e-03, 3.80760575e-03,\n",
       "       1.27080529e-02, 8.04896066e-03, 3.01832668e-03, 3.21627363e-03,\n",
       "       4.70377877e-03, 5.32017066e-03, 2.72084295e-03, 2.29894358e-03,\n",
       "       2.11806130e-03, 2.65393947e-03, 2.24946261e-03, 1.93563042e-03,\n",
       "       5.43655529e-03, 2.45431068e-03, 1.52000956e-03, 1.52079721e-03,\n",
       "       1.73039360e-03, 2.42591711e-03, 8.94506409e-04, 1.02945364e-03,\n",
       "       2.05648645e-03, 1.52523054e-03, 1.28215557e-03, 1.30506620e-03,\n",
       "       1.35368070e-03, 1.03607378e-03, 1.33614374e-03, 1.52190493e-03,\n",
       "       1.32221686e-03, 1.02662568e-03, 9.37088422e-04, 9.90216143e-04,\n",
       "       9.36953734e-04, 5.54800338e-04, 7.39976006e-04, 6.50326502e-04,\n",
       "       1.02222157e-03, 6.77420345e-04, 6.54653630e-04, 7.54331718e-04,\n",
       "       9.30902814e-04, 5.11976604e-04, 5.40413710e-04, 5.05827088e-04,\n",
       "       5.03962091e-04, 6.19935302e-04, 4.88242054e-04, 4.75885499e-04,\n",
       "       4.62645685e-04, 4.95445274e-04, 3.54527475e-04, 2.85025559e-04,\n",
       "       2.55175066e-04, 1.82306704e-04, 1.01255919e-04, 8.38229971e-05,\n",
       "       5.35763978e-05, 4.09483528e-05, 2.96196089e-05, 2.52442939e-05,\n",
       "       1.86141336e-05, 1.64153815e-05, 1.26879865e-05, 1.20254288e-05,\n",
       "       9.09625600e-06, 8.34360556e-06, 8.19001371e-06, 6.16578561e-06,\n",
       "       5.54093937e-06, 4.37487422e-06, 2.07181478e-06, 3.50730493e-06,\n",
       "       2.93855021e-06, 2.67070769e-06, 2.57698809e-06, 2.13586533e-06,\n",
       "       1.96019600e-06, 1.85218490e-06, 1.50474382e-06, 1.38824950e-06,\n",
       "       1.16557934e-06, 1.04499506e-06, 9.89589238e-07, 7.70515284e-07,\n",
       "       7.00145542e-07, 6.95487614e-07, 6.23919893e-07, 5.61919650e-07,\n",
       "       4.98976943e-07, 4.50763189e-07, 4.13054292e-07, 4.00775093e-07,\n",
       "       3.51800824e-07, 3.50475840e-07, 2.80057932e-07, 2.75784623e-07,\n",
       "       2.32205443e-07, 2.03959721e-07, 2.04529158e-07, 1.76269824e-07,\n",
       "       1.71218854e-07, 1.40274219e-07, 1.45200627e-07, 1.32589200e-07,\n",
       "       1.09821320e-07, 9.46823670e-08, 9.30115805e-08, 8.40234574e-08,\n",
       "       7.13840837e-08, 6.32703593e-08, 6.12126977e-08, 5.66216302e-08,\n",
       "       5.01088225e-08, 4.84224426e-08, 4.18828504e-08, 4.32407071e-08,\n",
       "       3.30952502e-08, 3.12197095e-08, 3.06257000e-08, 2.87153359e-08,\n",
       "       2.92153556e-08, 2.89204036e-08, 2.56067204e-08, 2.50531915e-08,\n",
       "       2.33267584e-08, 2.56976930e-08, 2.32788255e-08, 2.53589700e-08,\n",
       "       2.40876608e-08, 2.50889760e-08, 2.24952003e-08, 2.38162056e-08,\n",
       "       2.11399968e-08, 2.24268595e-08, 2.47143553e-08, 2.98899148e-08,\n",
       "       2.84559787e-08, 1.16023058e-08, 2.06864936e-08, 1.63773447e-08,\n",
       "       1.50572533e-08, 2.23795616e-08, 2.26036190e-08, 1.08490973e-08,\n",
       "       1.02600693e-08, 2.00882433e-08, 1.67598916e-08, 9.26402400e-09,\n",
       "       9.47632159e-09, 1.17202276e-08, 1.25989400e-08, 7.04850919e-09,\n",
       "       6.51794646e-09, 5.80292009e-09, 6.12951200e-09, 4.94834868e-09,\n",
       "       4.22346614e-09, 8.46411040e-09, 4.60792519e-09, 2.82508195e-09,\n",
       "       2.37441798e-09, 2.35383137e-09, 2.65109653e-09, 2.04093422e-09,\n",
       "       1.40382105e-09, 8.22416213e-10, 1.08023312e-09, 7.10867576e-10,\n",
       "       5.02185690e-10, 3.72354912e-10, 3.27085310e-10, 2.07538598e-10,\n",
       "       1.72247250e-10, 1.59160933e-10, 9.98444605e-11, 8.24556619e-11,\n",
       "       7.00584066e-11, 5.92766028e-11, 4.75901301e-11, 3.72433135e-11,\n",
       "       4.08494826e-11, 4.30580067e-11, 7.72612872e-11, 6.68934237e-11,\n",
       "       7.33650493e-11, 9.51647075e-11, 1.30352456e-10, 1.07023163e-10,\n",
       "       1.12264620e-10, 1.26591752e-10, 1.52164560e-10, 1.84378378e-10,\n",
       "       1.62712985e-10, 1.74863597e-10, 1.70722969e-10, 1.98508374e-10,\n",
       "       1.44422710e-10, 1.43316812e-10, 1.43335967e-10, 1.35235967e-10,\n",
       "       9.89784225e-11, 1.05138364e-10, 8.02968327e-11, 7.61544202e-11,\n",
       "       5.23617221e-11, 4.38177803e-11, 3.07089981e-11, 2.47170054e-11,\n",
       "       1.56115863e-11, 1.27461852e-11, 8.56282201e-12, 6.29859409e-12,\n",
       "       4.47906430e-12, 3.46157188e-12, 3.23355920e-12, 3.80967939e-12,\n",
       "       3.24360100e-12, 3.57262922e-12, 5.29437090e-12, 5.44008976e-12,\n",
       "       6.04795975e-12, 7.45055238e-12, 7.69002815e-12, 8.16479191e-12,\n",
       "       8.94249216e-12, 1.03857953e-11, 1.00248858e-11, 7.97757429e-12,\n",
       "       7.08911925e-12, 6.50137805e-12, 6.17940051e-12, 4.80013045e-12,\n",
       "       4.00508161e-12, 4.33297530e-12, 2.99189668e-12, 2.12841839e-12,\n",
       "       1.56157514e-12, 1.34504326e-12, 1.12389682e-12, 9.17290809e-13,\n",
       "       7.43283655e-13, 6.12927713e-13, 7.98962459e-13, 8.30482271e-13,\n",
       "       8.24059082e-13, 9.22085824e-13, 1.08345199e-12, 1.16288186e-12,\n",
       "       1.28180891e-12, 1.38893296e-12, 1.32362724e-12, 1.20795486e-12,\n",
       "       1.07619876e-12, 1.02527775e-12, 8.77425624e-13, 6.24811202e-13,\n",
       "       5.81467252e-13, 4.47300128e-13, 4.35342638e-13, 3.41877598e-13,\n",
       "       2.77432905e-13, 2.87398921e-13, 2.74664039e-13, 2.41310843e-13,\n",
       "       2.56144295e-13, 2.55836675e-13, 2.52566554e-13, 3.41685843e-13,\n",
       "       3.27444884e-13, 3.32069825e-13, 3.19828705e-13, 2.76120823e-13,\n",
       "       2.50068005e-13, 1.97747417e-13, 2.07594141e-13, 1.62794496e-13,\n",
       "       1.45106903e-13, 1.41602443e-13, 1.27561837e-13, 1.44143234e-13,\n",
       "       1.25555418e-13, 1.34372832e-13, 1.20452032e-13, 1.22774554e-13,\n",
       "       1.24842089e-13, 1.30505898e-13, 1.15403564e-13, 1.10528987e-13,\n",
       "       1.05870843e-13, 9.32618305e-14, 7.69257960e-14, 6.60803577e-14,\n",
       "       7.20476859e-14, 7.20138693e-14, 6.85449997e-14, 6.03724213e-14,\n",
       "       6.89771432e-14, 7.16750693e-14, 6.49566780e-14, 5.40395113e-14,\n",
       "       5.69041941e-14, 4.98164544e-14, 4.19545096e-14, 4.03065852e-14,\n",
       "       3.54218748e-14, 3.99992000e-14, 3.47755363e-14, 3.47334042e-14,\n",
       "       3.54892850e-14, 3.68908849e-14, 3.12476329e-14, 3.21391671e-14,\n",
       "       3.05298740e-14, 2.90937838e-14, 2.61724448e-14, 3.01029440e-14,\n",
       "       2.73789972e-14, 2.70569601e-14, 2.51083039e-14, 2.31642312e-14,\n",
       "       2.52345933e-14, 2.39033244e-14, 2.16949333e-14, 2.29440697e-14,\n",
       "       2.28529736e-14, 2.04284132e-14, 2.20596756e-14, 2.24790049e-14,\n",
       "       1.68137902e-14, 2.20382932e-14, 2.15684470e-14, 2.10487867e-14,\n",
       "       1.87167025e-14, 1.84112333e-14, 1.70049424e-14, 1.86478142e-14,\n",
       "       1.49947372e-14, 1.83355973e-14, 2.04950719e-14, 1.42222320e-14,\n",
       "       1.50653531e-14, 1.71395227e-14, 1.47306769e-14, 1.95924407e-14,\n",
       "       1.93630008e-14, 2.09864477e-14, 2.29419492e-14, 2.06054541e-14,\n",
       "       2.19952629e-14, 1.85354610e-14, 2.01591723e-14, 2.33784100e-14,\n",
       "       1.86128720e-14, 1.98226688e-14, 2.58312398e-14, 1.81945028e-14,\n",
       "       2.16484140e-14, 1.97205849e-14, 1.78831780e-14, 2.19223558e-14,\n",
       "       2.29710398e-14, 2.44159375e-14, 2.46524541e-14, 2.41839821e-14,\n",
       "       2.32824874e-14, 2.50209124e-14, 2.36885959e-14, 2.22302136e-14,\n",
       "       2.14098350e-14, 1.82614682e-14, 2.36126249e-14, 2.37024499e-14,\n",
       "       2.08288397e-14, 2.22549708e-14, 2.47650022e-14, 2.38829207e-14,\n",
       "       2.40324406e-14, 2.73267349e-14, 3.31396538e-14, 3.13300620e-14,\n",
       "       3.28008321e-14, 2.55133534e-14, 2.73578216e-14, 3.27204685e-14,\n",
       "       2.99951225e-14, 2.29816504e-14, 2.47102680e-14, 2.09722531e-14,\n",
       "       2.54660956e-14, 2.55222990e-14, 2.36587466e-14, 2.86049569e-14,\n",
       "       2.59667442e-14, 2.72217001e-14, 3.02186072e-14, 2.73406225e-14,\n",
       "       3.52083943e-14, 3.91351263e-14, 3.10263564e-14, 3.55149101e-14])</pre></li></ul></div></li></ul></div></div>"
      ],
      "text/plain": [
       "<scipp.Dataset>\n",
       "Dimensions: Sizes[Qz_0:408, ]\n",
       "Coordinates:\n",
       "  Qz_0                      float64           [1/Å]  (Qz_0)  [0.00806022, 0.00813662, ..., 0.460946, 0.465555]  [1.98083e-08, 2.01923e-08, ..., 8.97175e-05, 9.20225e-05]\n",
       "Data:\n",
       "  R_0                       float64  [dimensionless]  (Qz_0)  [0.709581, 0.862281, ..., 3.85579e-07, 3.83415e-07]  [0.0072365, 0.012627, ..., 3.10264e-14, 3.55149e-14]\n",
       "    Attributes:\n",
       "        orso_header              PyObject           [None]  ()  [{'data_source': {'owner': {'name': 'Andrew Nelson', 'affiliation': 'ANSTO', 'contact': 'Andrew.Nelson@ansto.gov.au'}, 'experiment': {'title': 'Example data file from refnx docs', 'instrument': 'platypus', 'start_date': '2021-05-12', 'probe': 'neutrons', 'facility': 'ANSTO'}, 'sample': {'name': 'Polymer Film', 'category': 'solid / liquid', 'composition': 'Si / SiO2 / Film / D2O'}, 'measurement': {'instrument_settings': {'incident_angle': {'magnitude': 3.0, 'unit': 'deg'}, 'wavelength': {'magnitude': 12.0, 'unit': 'angstrom'}, 'polarization': 'unpolarized'}, 'data_files': ['Unknown.nxs'], 'scheme': 'angle-dispersive'}}, 'reduction': {'software': 'ess', 'timestamp': datetime.datetime(2022, 1, 27, 15, 33, 59, tzinfo=datetime.timezone(datetime.timedelta(seconds=3600))), 'corrections': ['footprint', 'incident intensity', 'detector efficiency']}, 'columns': [{'name': 'Qz', 'unit': '1/angstrom', 'dimension': 'WW transfer'}, {'name': 'R', 'dimension': 'reflectivity'}, {'name': 'sR', 'dimension': 'error-reflectivity'}, {'name': 'sQz', 'unit': '1/angstrom', 'dimension': 'resolution-WW transfer'}]}]\n"
      ]
     },
     "execution_count": 4,
     "metadata": {},
     "output_type": "execute_result"
    }
   ],
   "source": [
    "data"
   ]
  },
  {
   "cell_type": "markdown",
   "id": "1e90efd6-f448-4958-9b18-493a6cbd25a5",
   "metadata": {},
   "source": [
    "`EasyReflectometry` also includes a custom plotting function for the data. "
   ]
  },
  {
   "cell_type": "code",
   "execution_count": 5,
   "id": "28580664-86d3-4d25-9389-6670db7e87e5",
   "metadata": {},
   "outputs": [
    {
     "data": {
      "application/vnd.jupyter.widget-view+json": {
       "model_id": "e9e1a5deb5b5453995063003fd01765c",
       "version_major": 2,
       "version_minor": 0
      },
      "image/png": "[encoded data removed]",
      "text/html": [
       "\n",
       "            <div style=\"display: inline-block;\">\n",
       "                <div class=\"jupyter-widgets widget-label\" style=\"text-align: center;\">\n",
       "                    Figure\n",
       "                </div>\n",
       "                <img src='data:image/png;base64,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' width=500.0/>\n",
       "            </div>\n",
       "        "
      ],
      "text/plain": [
       "Canvas(toolbar=Toolbar(toolitems=[('Home', 'Reset original view', 'home', 'home'), ('Back', 'Back to previous …"
      ]
     },
     "execution_count": 5,
     "metadata": {},
     "output_type": "execute_result"
    }
   ],
   "source": [
    "plot(data)"
   ]
  },
  {
   "cell_type": "markdown",
   "id": "4ce54e79-18b6-4dda-a83c-2d538eb84b33",
   "metadata": {},
   "source": [
    "## Building our model\n",
    "\n",
    "Now that we have read in the experimental data that we want to analyse, it is necessary that we construct some model that describes what we **think** the system looks like. \n",
    "The construction of this models is discussed in detail in the [model-dependent analysis](https://www.reflectometry.org/isis_school/2_model_dependent_analysis/what_is_model_dependent_analysis.html) and [reflectometry slab models](https://www.reflectometry.org/isis_school/3_reflectometry_slab_models/the_slab_model.html) sections of the ISIS Virtual Reflectometry Training Course on [neutron reflectometry fitting](https://www.reflectometry.org/isis_school/intro.html). \n",
    "\n",
    "The system that we are investigating consists of four layers (with the top and bottom as semi-finite super- and sub-phases). \n",
    "The super-phase (where the neutrons are incident first) is a silicon (Si) wafer and as a process of the sample preparation there is anticipated to by a layer of silicon dioxide (SiO<sub>2</sub>) on this material.\n",
    "Then a polymer film has been attached to the silicon dioxide by some chemical method and this polymer film is solvated in a heavy water (D<sub>2</sub>O) which also makes up the sub-phase of the system. \n",
    "This is shown pictorially below, as a slab model. \n",
    "\n",
    "<center>\n",
    "    <img src='_static/polymer_film.png' alt='A slab model description of the polymer film system.' width='300px'></img>\n",
    "</center>\n",
    "<center>\n",
    "    A slab model description of the polymer film system (note that the layers are <b>not</b> to scale), showing the four layers of silicon, silicon dioxide, the polymer film and the heavy water subphase.\n",
    "</center>\n",
    "\n",
    "In order to constuct this model in `EasyReflecotmetry`, first we must construct objects for each of the materials that will compose the layers.\n",
    "These objects should be of type `Material`, when constructed `from_pars` the arguments are the real and imaginary components of the scattering length density (in units of 10<sup>-6</sup>Å<sup>-2</sup>) and some name for the material. "
   ]
  },
  {
   "cell_type": "code",
   "execution_count": 6,
   "id": "1fd5d9ba-a912-40f1-96a9-8d8d85c35c18",
   "metadata": {},
   "outputs": [],
   "source": [
    "si = Material.from_pars(2.07, 0, 'Si')\n",
    "sio2 = Material.from_pars(3.47, 0, 'SiO2')\n",
    "film = Material.from_pars(2.0, 0, 'Film')\n",
    "d2o = Material.from_pars(6.36, 0, 'D2O')"
   ]
  },
  {
   "cell_type": "markdown",
   "id": "7c31f6ab-6a22-4ac6-a058-b7bbac241211",
   "metadata": {},
   "source": [
    "We can investigate the properties of one of these objects as follows."
   ]
  },
  {
   "cell_type": "code",
   "execution_count": 7,
   "id": "ed3f08ce-623b-4d08-be48-dbc039ecc5df",
   "metadata": {},
   "outputs": [
    {
     "data": {
      "text/plain": [
       "Film:\n",
       "  sld: 2.000e-6 1 / angstrom ** 2\n",
       "  isld: 0.000e-6 1 / angstrom ** 2"
      ]
     },
     "execution_count": 7,
     "metadata": {},
     "output_type": "execute_result"
    }
   ],
   "source": [
    "film"
   ]
  },
  {
   "cell_type": "markdown",
   "id": "1d11949f-5b75-4185-94bf-bd41c9f4f145",
   "metadata": {},
   "source": [
    "Next we will produce layers from each of these materials, of type `Layer`. The `from_pars` constructor for these take the material, a thickness and a interfacial roughness (on the top of the layer). The thickness and roughness values are both in Å. "
   ]
  },
  {
   "cell_type": "code",
   "execution_count": 8,
   "id": "bfd2d8a1-35fe-4a6c-aeee-93f1b4066b61",
   "metadata": {},
   "outputs": [],
   "source": [
    "si_layer = Layer.from_pars(si, 0, 0, 'Si layer')\n",
    "sio2_layer = Layer.from_pars(sio2, 30, 3, 'SiO2 layer')\n",
    "film_layer = Layer.from_pars(film, 250, 3, 'Film Layer')\n",
    "superphase = Layer.from_pars(d2o, 0, 3, 'D2O Subphase')"
   ]
  },
  {
   "cell_type": "markdown",
   "id": "8e165a80-66d9-469f-a013-e776e63513e6",
   "metadata": {},
   "source": [
    "Again, we can probe the properties of the layer as such."
   ]
  },
  {
   "cell_type": "code",
   "execution_count": 9,
   "id": "a376085b-56a9-4823-9293-c58c294c6f70",
   "metadata": {},
   "outputs": [
    {
     "data": {
      "text/plain": [
       "Film Layer:\n",
       "  material:\n",
       "    Film:\n",
       "      sld: 2.000e-6 1 / angstrom ** 2\n",
       "      isld: 0.000e-6 1 / angstrom ** 2\n",
       "  thickness: 250.000 angstrom\n",
       "  roughness: 3.000 angstrom"
      ]
     },
     "execution_count": 9,
     "metadata": {},
     "output_type": "execute_result"
    }
   ],
   "source": [
    "film_layer"
   ]
  },
  {
   "cell_type": "markdown",
   "id": "7247fc52-6874-47eb-a234-c7bb7db229fd",
   "metadata": {},
   "source": [
    "Given that the silicon and silicon dioxide layer both compose the solid subphase, it can be helpful to combine these as a `Multilayer` [item type](./item_library.html#multilayer) in our code. "
   ]
  },
  {
   "cell_type": "code",
   "execution_count": 10,
   "id": "a6508395-d292-4338-9fbe-77e19b011ae6",
   "metadata": {},
   "outputs": [],
   "source": [
    "subphase = MultiLayer.from_pars([si_layer, sio2_layer], name='Si/SiO2 Superphase')"
   ]
  },
  {
   "cell_type": "markdown",
   "id": "a3a2df9b-8ddb-4b3e-a5c3-55b72280b651",
   "metadata": {},
   "source": [
    "These objects are then combined as a `Structure`, where the constructor takes a series of layers (or some more complex `EasyReflectometry` [item](./item_library.html)) and, optionally, some name for the structure."
   ]
  },
  {
   "cell_type": "code",
   "execution_count": 11,
   "id": "2a0aee2a-e77e-4558-a8b0-ef2d1cffd4d0",
   "metadata": {},
   "outputs": [],
   "source": [
    "structure = Structure.from_pars(subphase, film_layer, superphase, name='Film Structure')"
   ]
  },
  {
   "cell_type": "markdown",
   "id": "b3e5d88e-3da4-4a3e-8067-80e9cd35be8f",
   "metadata": {},
   "source": [
    "This structure can be investigated from the string representation like the other objects. "
   ]
  },
  {
   "cell_type": "code",
   "execution_count": 12,
   "id": "335ed125-f1a6-4366-90b3-d7343b95a258",
   "metadata": {},
   "outputs": [
    {
     "data": {
      "text/plain": [
       "Film Structure:\n",
       "- Si/SiO2 Superphase:\n",
       "    Si layer/SiO2 layer:\n",
       "    - Si layer:\n",
       "        material:\n",
       "          Si:\n",
       "            sld: 2.070e-6 1 / angstrom ** 2\n",
       "            isld: 0.000e-6 1 / angstrom ** 2\n",
       "        thickness: 0.000 angstrom\n",
       "        roughness: 0.000 angstrom\n",
       "    - SiO2 layer:\n",
       "        material:\n",
       "          SiO2:\n",
       "            sld: 3.470e-6 1 / angstrom ** 2\n",
       "            isld: 0.000e-6 1 / angstrom ** 2\n",
       "        thickness: 30.000 angstrom\n",
       "        roughness: 3.000 angstrom\n",
       "- Film Layer:\n",
       "    material:\n",
       "      Film:\n",
       "        sld: 2.000e-6 1 / angstrom ** 2\n",
       "        isld: 0.000e-6 1 / angstrom ** 2\n",
       "    thickness: 250.000 angstrom\n",
       "    roughness: 3.000 angstrom\n",
       "- D2O Subphase:\n",
       "    material:\n",
       "      D2O:\n",
       "        sld: 6.360e-6 1 / angstrom ** 2\n",
       "        isld: 0.000e-6 1 / angstrom ** 2\n",
       "    thickness: 0.000 angstrom\n",
       "    roughness: 3.000 angstrom"
      ]
     },
     "execution_count": 12,
     "metadata": {},
     "output_type": "execute_result"
    }
   ],
   "source": [
    "structure"
   ]
  },
  {
   "cell_type": "markdown",
   "id": "cdd4de17-0802-483a-b706-9b4781dfc57a",
   "metadata": {},
   "source": [
    "## Constructing the model\n",
    "\n",
    "The structure of the system under investigation is just part of the analysis story. \n",
    "It is also necessary to describe the instrumental parameters, namely the background level, the resolution and some option to scale the data in the *y*-axis. \n",
    "<div class=\"alert alert-info\">\n",
    "    \n",
    "Note\n",
    "    \n",
    "Currently, only constant with resolution is supported. We are working to include more complex resolution in future.\n",
    "\n",
    "</div>\n",
    "\n",
    "the `Model` constructor takes our structure, a scale factor, a uniform background level and a resolution width. "
   ]
  },
  {
   "cell_type": "code",
   "execution_count": 13,
   "id": "8646c977-28b4-4cd4-adbd-fc263359ca1c",
   "metadata": {},
   "outputs": [],
   "source": [
    "model = Model.from_pars(structure, 1, 1e-6, 0.02, 'Film Model')"
   ]
  },
  {
   "cell_type": "markdown",
   "id": "d22153d8-63d9-4542-8b29-4ff7dd73b79a",
   "metadata": {},
   "source": [
    "From this object, we can investigate all of the parameters of our model."
   ]
  },
  {
   "cell_type": "code",
   "execution_count": 14,
   "id": "3b4aaba2-6dda-4e4a-b56f-e2ffcf935017",
   "metadata": {},
   "outputs": [
    {
     "data": {
      "text/plain": [
       "Film Model:\n",
       "  scale: 1.0\n",
       "  background: 1.0e-06\n",
       "  resolution: 0.02 %\n",
       "  structure:\n",
       "    Film Structure:\n",
       "    - Si/SiO2 Superphase:\n",
       "        Si layer/SiO2 layer:\n",
       "        - Si layer:\n",
       "            material:\n",
       "              Si:\n",
       "                sld: 2.070e-6 1 / angstrom ** 2\n",
       "                isld: 0.000e-6 1 / angstrom ** 2\n",
       "            thickness: 0.000 angstrom\n",
       "            roughness: 0.000 angstrom\n",
       "        - SiO2 layer:\n",
       "            material:\n",
       "              SiO2:\n",
       "                sld: 3.470e-6 1 / angstrom ** 2\n",
       "                isld: 0.000e-6 1 / angstrom ** 2\n",
       "            thickness: 30.000 angstrom\n",
       "            roughness: 3.000 angstrom\n",
       "    - Film Layer:\n",
       "        material:\n",
       "          Film:\n",
       "            sld: 2.000e-6 1 / angstrom ** 2\n",
       "            isld: 0.000e-6 1 / angstrom ** 2\n",
       "        thickness: 250.000 angstrom\n",
       "        roughness: 3.000 angstrom\n",
       "    - D2O Subphase:\n",
       "        material:\n",
       "          D2O:\n",
       "            sld: 6.360e-6 1 / angstrom ** 2\n",
       "            isld: 0.000e-6 1 / angstrom ** 2\n",
       "        thickness: 0.000 angstrom\n",
       "        roughness: 3.000 angstrom"
      ]
     },
     "execution_count": 14,
     "metadata": {},
     "output_type": "execute_result"
    }
   ],
   "source": [
    "model"
   ]
  },
  {
   "cell_type": "markdown",
   "id": "bb368824-f0fa-411e-b895-70f596e60a53",
   "metadata": {},
   "source": [
    "## Setting varying parameters\n",
    "\n",
    "Now that the model is fully constructed, we can select the parameters in our model that should be varied. \n",
    "Below we set the thickness of the SiO<sub>2</sub> and film layers to vary along with the real scattering length density of the film and all of the roughnesses. "
   ]
  },
  {
   "cell_type": "code",
   "execution_count": 15,
   "id": "a4d3eae5-ec8d-4a7f-91ef-fcce3cc5a5ed",
   "metadata": {},
   "outputs": [],
   "source": [
    "# Thicknesses\n",
    "sio2_layer.thickness.bounds = (15, 50)\n",
    "film_layer.thickness.bounds = (200, 300)\n",
    "# Roughnesses\n",
    "sio2_layer.roughness.bounds = (1, 15)\n",
    "film_layer.roughness.bounds = (1, 15)\n",
    "superphase.roughness.bounds = (1, 15)\n",
    "# Scattering length density\n",
    "film_layer.material.sld.bounds = (0.1, 3)"
   ]
  },
  {
   "cell_type": "markdown",
   "id": "4b909563-a780-4c35-8995-17e53d559114",
   "metadata": {},
   "source": [
    "In addition to these variables of the structure, we will also vary the background level and scale factor. "
   ]
  },
  {
   "cell_type": "code",
   "execution_count": 16,
   "id": "7e2d7b81-7b49-4831-9508-75e0e234f15f",
   "metadata": {},
   "outputs": [],
   "source": [
    "# Background\n",
    "model.background.bounds = (1e-8, 1e-5)\n",
    "# Scale\n",
    "model.scale.bounds = (0.5, 1.5)"
   ]
  },
  {
   "cell_type": "markdown",
   "id": "14bef528-08de-41a6-99cd-c74d40409164",
   "metadata": {
    "tags": []
   },
   "source": [
    "## Choosing our calculation engine\n",
    "\n",
    "The `EasyReflectometry` package enables the calculation of the reflectometry profile using either [*refnx*](https://refnx.readthedocs.io/) or [*Refl1D*](https://refl1d.readthedocs.io/en/latest/).\n",
    "For this tutorial, we will stick to the current default, which is *refnx*. \n",
    "The calculator must be created and associated with the model that we are to fit. "
   ]
  },
  {
   "cell_type": "code",
   "execution_count": 17,
   "id": "cdbe172a-1283-4cdc-8fb2-d3383b8d21b3",
   "metadata": {},
   "outputs": [],
   "source": [
    "interface = Interface()\n",
    "model.interface = interface"
   ]
  },
  {
   "cell_type": "markdown",
   "id": "126c7ab2-79fc-461a-9cde-49edfabbf25b",
   "metadata": {},
   "source": [
    "We can check the calculation engine currently in use as follows. "
   ]
  },
  {
   "cell_type": "code",
   "execution_count": 18,
   "id": "0409e2ab-3554-425d-8e9c-2e64de41878d",
   "metadata": {},
   "outputs": [
    {
     "name": "stdout",
     "output_type": "stream",
     "text": [
      "refnx\n"
     ]
    }
   ],
   "source": [
    "print(interface.current_interface.name)"
   ]
  },
  {
   "cell_type": "markdown",
   "id": "62f596b8-eae5-4fc6-96cc-047ebd689778",
   "metadata": {},
   "source": [
    "## Performing an optimisation\n",
    "\n",
    "The optimisation of our model is achieved with a `Fitter`, which takes our model and calculator. "
   ]
  },
  {
   "cell_type": "code",
   "execution_count": null,
   "id": "3648873e-16bb-449d-b90d-8b1bd4f05eb6",
   "metadata": {},
   "outputs": [],
   "source": [
    "fitter = Fitter(model, interface.fit_func)"
   ]
  },
  {
   "cell_type": "markdown",
   "id": "3f42dfb0-082c-487f-b2ae-b89bfa523a36",
   "metadata": {},
   "source": [
    "To actually perform the optimisation, we must pass our `data` object created from the experimental data. \n",
    "This will return a new `sc.Dataset` with the result of out analysis, and the model will be updated in place. "
   ]
  },
  {
   "cell_type": "code",
   "execution_count": null,
   "id": "9762fc0b-c4c2-4f92-8560-079ea248dfca",
   "metadata": {},
   "outputs": [],
   "source": [
    "analysed = fitter.fit(data)"
   ]
  },
  {
   "cell_type": "code",
   "execution_count": null,
   "id": "80706bce-89ee-4256-8cd6-735d666b9561",
   "metadata": {},
   "outputs": [],
   "source": [
    "analysed"
   ]
  },
  {
   "cell_type": "markdown",
   "id": "4d0a60aa-31cf-47ea-8a72-786c08de7c45",
   "metadata": {},
   "source": [
    "The same `plot` function that was used on the raw data can be used for this `analysed` object and will show the best fit simulated data and the associated scattering length density profile. "
   ]
  },
  {
   "cell_type": "code",
   "execution_count": null,
   "id": "47efa2d9-8f84-407b-98f7-a553d220e1f2",
   "metadata": {},
   "outputs": [],
   "source": [
    "plot(analysed)"
   ]
  },
  {
   "cell_type": "markdown",
   "id": "a786724f-ec35-4b02-9d54-02536e620717",
   "metadata": {},
   "source": [
    "Finally, from the string representation of the parameters we can obtain information about the optimised values."
   ]
  },
  {
   "cell_type": "code",
   "execution_count": null,
   "id": "5339f50e-4e46-4a1a-9da5-3a2cf47580f2",
   "metadata": {},
   "outputs": [],
   "source": [
    "model"
   ]
  },
  {
   "cell_type": "markdown",
   "id": "df6db8c3-6515-478b-bd2e-aac967579231",
   "metadata": {},
   "source": [
    "We note here that the results obtained are very similar to those from the [*refnx* tutorial](https://refnx.readthedocs.io/en/latest/getting_started.html#Fitting-a-neutron-reflectometry-dataset), which is hardly surprising given that we have used the *refnx* engine in this example."
   ]
  }
 ],
 "metadata": {
  "kernelspec": {
   "display_name": "Python 3 (ipykernel)",
   "language": "python",
   "name": "python3"
  },
  "language_info": {
   "codemirror_mode": {
    "name": "ipython",
    "version": 3
   },
   "file_extension": ".py",
   "mimetype": "text/x-python",
   "name": "python",
   "nbconvert_exporter": "python",
   "pygments_lexer": "ipython3",
   "version": "3.9.10"
  }
 },
 "nbformat": 4,
 "nbformat_minor": 5
}
