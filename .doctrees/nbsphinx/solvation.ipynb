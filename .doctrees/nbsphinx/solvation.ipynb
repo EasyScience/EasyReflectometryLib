{
 "cells": [
  {
   "cell_type": "markdown",
   "id": "580b9e5b-6398-42f4-91e8-b51e5759e7f0",
   "metadata": {},
   "source": [
    "# Using the MaterialMixture\n",
    "\n",
    "In the [first tutorial](./simple_fitting.html), we looked at a straight forward example of a polymer film at the solid/liquid interface. \n",
    "To analyse this data, we constructed a model with two layers, one SiO<sub>2</sub> and one of the polymer film, and when the analysis was performed, the scattering length density of the polymer film was allowed to vary to find an optimum value. \n",
    "However, it is likely that this scattering length density is in fact a compound value arising from the mixture of the polymer with some D<sub>2</sub>O intercalated. \n",
    "Therefore, if, for example, the surface covereage of the polymer was known, it may be possible to determine the scattering length density alone. \n",
    "Of course, this could be calculated from the optimal scattering length density for the film, but it is more intuitive to include this in our modelling approach. \n",
    "Here, we will show how to use the `MaterialMixture` [type](./material_library.html#materialmixture) to perform this analysis. "
   ]
  },
  {
   "cell_type": "code",
   "execution_count": 1,
   "id": "88c86e82-88dd-4c2d-ad99-826f409ec7b7",
   "metadata": {
    "execution": {
     "iopub.execute_input": "2022-06-07T15:22:39.945003Z",
     "iopub.status.busy": "2022-06-07T15:22:39.944506Z",
     "iopub.status.idle": "2022-06-07T15:22:42.179131Z",
     "shell.execute_reply": "2022-06-07T15:22:42.178207Z"
    }
   },
   "outputs": [],
   "source": [
    "import numpy as np\n",
    "import scipp as sc\n",
    "import EasyReflectometry\n",
    "import refnx\n",
    "from EasyReflectometry.data import load\n",
    "from EasyReflectometry.sample import Layer, Structure\n",
    "from EasyReflectometry.sample.material import Material, MaterialMixture\n",
    "from EasyReflectometry.sample.item import MultiLayer\n",
    "from EasyReflectometry.experiment.model import Model\n",
    "from EasyReflectometry.interface import InterfaceFactory as Interface\n",
    "from EasyReflectometry.fitting import Fitter\n",
    "from EasyReflectometry.plot import plot"
   ]
  },
  {
   "cell_type": "markdown",
   "id": "ac56f7a4-5a1c-44c4-af2e-6c5918f89ee3",
   "metadata": {},
   "source": [
    "Showing the version of specific softare for reproducibility"
   ]
  },
  {
   "cell_type": "code",
   "execution_count": 2,
   "id": "d40fed9d-5888-4bee-b014-0d6430eea8c0",
   "metadata": {
    "execution": {
     "iopub.execute_input": "2022-06-07T15:22:42.184028Z",
     "iopub.status.busy": "2022-06-07T15:22:42.183481Z",
     "iopub.status.idle": "2022-06-07T15:22:42.191197Z",
     "shell.execute_reply": "2022-06-07T15:22:42.190268Z"
    }
   },
   "outputs": [
    {
     "name": "stdout",
     "output_type": "stream",
     "text": [
      "numpy: 1.22.4\n",
      "scipp: 0.13.1\n",
      "EasyReflectometry: 0.0.2\n",
      "refnx: 0.1.29\n"
     ]
    }
   ],
   "source": [
    "print(f'numpy: {np.__version__}')\n",
    "print(f'scipp: {sc.__version__}')\n",
    "print(f'EasyReflectometry: {EasyReflectometry.__version__}')\n",
    "print(f'refnx: {refnx.__version__}')"
   ]
  },
  {
   "cell_type": "markdown",
   "id": "3ac19f8b-099d-4b19-8d37-7dd651a25949",
   "metadata": {},
   "source": [
    "For information about the data being read in and the details of the model see [the previous tutorial](./simple_fitting.html). \n",
    "We will gloss over these details here. "
   ]
  },
  {
   "cell_type": "code",
   "execution_count": 3,
   "id": "a95a39dd-d0eb-4029-9dc8-41e6e7918f66",
   "metadata": {
    "execution": {
     "iopub.execute_input": "2022-06-07T15:22:42.195680Z",
     "iopub.status.busy": "2022-06-07T15:22:42.195407Z",
     "iopub.status.idle": "2022-06-07T15:22:42.211498Z",
     "shell.execute_reply": "2022-06-07T15:22:42.210561Z"
    }
   },
   "outputs": [],
   "source": [
    "data = load('_static/example.ort')"
   ]
  },
  {
   "cell_type": "markdown",
   "id": "01053a43-967c-4ce9-ae3f-92153eadb647",
   "metadata": {},
   "source": [
    "## Constructing the model\n",
    "\n",
    "Previously the model consisted of four materials, we will construct those again here. "
   ]
  },
  {
   "cell_type": "code",
   "execution_count": 4,
   "id": "60e5a3c5-58a8-429a-a446-a115f489af0f",
   "metadata": {
    "execution": {
     "iopub.execute_input": "2022-06-07T15:22:42.215388Z",
     "iopub.status.busy": "2022-06-07T15:22:42.215085Z",
     "iopub.status.idle": "2022-06-07T15:22:42.232599Z",
     "shell.execute_reply": "2022-06-07T15:22:42.231769Z"
    }
   },
   "outputs": [],
   "source": [
    "si = Material.from_pars(2.07, 0, 'Si')\n",
    "sio2 = Material.from_pars(3.47, 0, 'SiO2')\n",
    "film = Material.from_pars(2.0, 0, 'Film')\n",
    "d2o = Material.from_pars(6.36, 0, 'D2O')"
   ]
  },
  {
   "cell_type": "markdown",
   "id": "64c79212-98f8-472c-8bb2-afbc09d7fe98",
   "metadata": {},
   "source": [
    "However, now we will construct a component object (for type `MaterialMixture`), based on the knowledge that there is a 75 % surface coverage of the silicon block by the polymer film. \n",
    "Note that this object takes the two materials and then the fractional amount of the second material in the first."
   ]
  },
  {
   "cell_type": "code",
   "execution_count": 5,
   "id": "f2b910db-530f-49c5-907a-67712ba939d2",
   "metadata": {
    "execution": {
     "iopub.execute_input": "2022-06-07T15:22:42.236694Z",
     "iopub.status.busy": "2022-06-07T15:22:42.236404Z",
     "iopub.status.idle": "2022-06-07T15:22:42.248718Z",
     "shell.execute_reply": "2022-06-07T15:22:42.247723Z"
    }
   },
   "outputs": [],
   "source": [
    "solvated_film = MaterialMixture.from_pars(film, d2o, 0.25, name='Solvated Film')"
   ]
  },
  {
   "cell_type": "markdown",
   "id": "e77ee2d7-9670-4791-b905-2ce92c9e20d5",
   "metadata": {},
   "source": [
    "So for the `solvated_film` object, the scattering length density is calculated as,\n",
    "\n",
    "$$ \\rho_{\\mathrm{solv film}} = (1-\\phi)\\rho_{\\mathrm{film}} + \\phi\\rho_{\\mathrm{D}_2\\mathrm{O}}, $$\n",
    "\n",
    "where the scattering length densities are given with $\\rho$ and the solvation fraction with $\\phi$. \n",
    "This means that when we investigate the `solvated_film` object, the scattering length density will be 3.09e-6 Å<sup>-2</sup>"
   ]
  },
  {
   "cell_type": "code",
   "execution_count": 6,
   "id": "9762616d-6b1d-4045-8aaf-134b72695a1a",
   "metadata": {
    "execution": {
     "iopub.execute_input": "2022-06-07T15:22:42.252924Z",
     "iopub.status.busy": "2022-06-07T15:22:42.252583Z",
     "iopub.status.idle": "2022-06-07T15:22:42.265724Z",
     "shell.execute_reply": "2022-06-07T15:22:42.264714Z"
    }
   },
   "outputs": [
    {
     "data": {
      "text/plain": [
       "Solvated Film:\n",
       "  fraction: 0.25\n",
       "  sld: 3.090e-6 1 / angstrom ** 2\n",
       "  isld: 0.000e-6 1 / angstrom ** 2\n",
       "  material1:\n",
       "    Film:\n",
       "      sld: 2.000e-6 1 / angstrom ** 2\n",
       "      isld: 0.000e-6 1 / angstrom ** 2\n",
       "  material2:\n",
       "    D2O:\n",
       "      sld: 6.360e-6 1 / angstrom ** 2\n",
       "      isld: 0.000e-6 1 / angstrom ** 2"
      ]
     },
     "execution_count": 6,
     "metadata": {},
     "output_type": "execute_result"
    }
   ],
   "source": [
    "solvated_film"
   ]
  },
  {
   "cell_type": "markdown",
   "id": "0db4114b-3cfb-4d8e-a40e-3d86f869ab5f",
   "metadata": {},
   "source": [
    "Now, we can construct our layers, structure and model. "
   ]
  },
  {
   "cell_type": "code",
   "execution_count": 7,
   "id": "f1ea2e41-f50e-4fbb-989f-aecc0e3e9860",
   "metadata": {
    "execution": {
     "iopub.execute_input": "2022-06-07T15:22:42.269832Z",
     "iopub.status.busy": "2022-06-07T15:22:42.269532Z",
     "iopub.status.idle": "2022-06-07T15:22:42.293700Z",
     "shell.execute_reply": "2022-06-07T15:22:42.292763Z"
    }
   },
   "outputs": [],
   "source": [
    "si_layer = Layer.from_pars(si, 0, 0, 'Si layer')\n",
    "sio2_layer = Layer.from_pars(sio2, 30, 3, 'SiO2 layer')\n",
    "solvated_film_layer = Layer.from_pars(solvated_film, 250, 3, 'Film Layer')\n",
    "superphase = Layer.from_pars(d2o, 0, 3, 'D2O Subphase')\n",
    "\n",
    "subphase = MultiLayer.from_pars([si_layer, sio2_layer], name='Si/SiO2 Superphase')\n",
    "structure = Structure.from_pars(subphase, solvated_film_layer, superphase, name='Film Structure')\n",
    "model = Model.from_pars(structure, 1, 1e-6, 0.02, 'Film Model')"
   ]
  },
  {
   "cell_type": "markdown",
   "id": "902042ee-0b7d-4515-9e4d-f7d34bae85af",
   "metadata": {},
   "source": [
    "## Setting varying parameters\n",
    "\n",
    "Previously, the scattering length density of the `film_layer` was allowed to vary (in addition to other parameters). \n",
    "This time, the scattering length density will for the `film` be varied, leading to a change in the `solvated_film_layer` scattering length density. \n",
    "We show this in the four code cells below. "
   ]
  },
  {
   "cell_type": "code",
   "execution_count": 8,
   "id": "f99fba34-268d-40ee-a74d-982bb2805b11",
   "metadata": {
    "execution": {
     "iopub.execute_input": "2022-06-07T15:22:42.298272Z",
     "iopub.status.busy": "2022-06-07T15:22:42.297961Z",
     "iopub.status.idle": "2022-06-07T15:22:42.305519Z",
     "shell.execute_reply": "2022-06-07T15:22:42.304495Z"
    }
   },
   "outputs": [],
   "source": [
    "film.sld.value = 2.0"
   ]
  },
  {
   "cell_type": "code",
   "execution_count": 9,
   "id": "d361f9ba-e0a3-46a1-890e-b8f57ac2ada0",
   "metadata": {
    "execution": {
     "iopub.execute_input": "2022-06-07T15:22:42.309624Z",
     "iopub.status.busy": "2022-06-07T15:22:42.309303Z",
     "iopub.status.idle": "2022-06-07T15:22:42.316200Z",
     "shell.execute_reply": "2022-06-07T15:22:42.314830Z"
    }
   },
   "outputs": [
    {
     "name": "stdout",
     "output_type": "stream",
     "text": [
      "<Parameter 'sld': 3.09+/-0 1/Å² (fixed), bounds=[-inf:inf]>\n"
     ]
    }
   ],
   "source": [
    "print(solvated_film_layer.material.sld)"
   ]
  },
  {
   "cell_type": "code",
   "execution_count": 10,
   "id": "0e872a4d-f468-4e5a-8938-9cb50d16c460",
   "metadata": {
    "execution": {
     "iopub.execute_input": "2022-06-07T15:22:42.319664Z",
     "iopub.status.busy": "2022-06-07T15:22:42.319375Z",
     "iopub.status.idle": "2022-06-07T15:22:42.326595Z",
     "shell.execute_reply": "2022-06-07T15:22:42.325727Z"
    }
   },
   "outputs": [],
   "source": [
    "film.sld.value = 2.5"
   ]
  },
  {
   "cell_type": "code",
   "execution_count": 11,
   "id": "1c84d8d9-6f94-4b88-9070-55e81cc57858",
   "metadata": {
    "execution": {
     "iopub.execute_input": "2022-06-07T15:22:42.329893Z",
     "iopub.status.busy": "2022-06-07T15:22:42.329606Z",
     "iopub.status.idle": "2022-06-07T15:22:42.335896Z",
     "shell.execute_reply": "2022-06-07T15:22:42.335142Z"
    }
   },
   "outputs": [
    {
     "name": "stdout",
     "output_type": "stream",
     "text": [
      "<Parameter 'sld': 3.465+/-0 1/Å² (fixed), bounds=[-inf:inf]>\n"
     ]
    }
   ],
   "source": [
    "print(solvated_film_layer.material.sld)"
   ]
  },
  {
   "cell_type": "markdown",
   "id": "6dec0a9c-2d43-4a93-b616-2223edf357ef",
   "metadata": {},
   "source": [
    "The parameter bounds are then set as follows. "
   ]
  },
  {
   "cell_type": "code",
   "execution_count": 12,
   "id": "79c3dc7a-b4cd-4eea-b098-08c962d747e6",
   "metadata": {
    "execution": {
     "iopub.execute_input": "2022-06-07T15:22:42.339540Z",
     "iopub.status.busy": "2022-06-07T15:22:42.339296Z",
     "iopub.status.idle": "2022-06-07T15:22:42.347727Z",
     "shell.execute_reply": "2022-06-07T15:22:42.346687Z"
    }
   },
   "outputs": [],
   "source": [
    "# Thicknesses\n",
    "sio2_layer.thickness.bounds = (15, 50)\n",
    "solvated_film_layer.thickness.bounds = (200, 300)\n",
    "# Roughnesses\n",
    "sio2_layer.roughness.bounds = (1, 15)\n",
    "solvated_film_layer.roughness.bounds = (1, 15)\n",
    "superphase.roughness.bounds = (1, 15)\n",
    "# Scattering length density\n",
    "film.sld.bounds = (0.1, 3)\n",
    "# Background\n",
    "model.background.bounds = (1e-8, 1e-5)\n",
    "# Scale\n",
    "model.scale.bounds = (0.5, 1.5)"
   ]
  },
  {
   "cell_type": "markdown",
   "id": "65fa9a7a-6bd5-4afa-9db4-a1cbcc64ca66",
   "metadata": {},
   "source": [
    "## Perform the fitting\n",
    "\n",
    "Having constructed the model and set the relevant varying parameters, we run the analysis (using the default [refnx engine](https://refnx.readthedocs.io/)). "
   ]
  },
  {
   "cell_type": "code",
   "execution_count": 13,
   "id": "3e24b615-cb32-41f8-95e5-5998072c7868",
   "metadata": {
    "execution": {
     "iopub.execute_input": "2022-06-07T15:22:42.351364Z",
     "iopub.status.busy": "2022-06-07T15:22:42.351121Z",
     "iopub.status.idle": "2022-06-07T15:22:43.319158Z",
     "shell.execute_reply": "2022-06-07T15:22:43.318127Z"
    }
   },
   "outputs": [
    {
     "name": "stderr",
     "output_type": "stream",
     "text": [
      "/opt/hostedtoolcache/Python/3.9.13/x64/lib/python3.9/site-packages/easyCore/Objects/Variable.py:213: UnitStrippedWarning: The unit of the quantity is stripped when downcasting to ndarray.\n",
      "  if value != self._value:\n",
      "/opt/hostedtoolcache/Python/3.9.13/x64/lib/python3.9/site-packages/easyCore/Utils/UndoRedo.py:460: UnitStrippedWarning: The unit of the quantity is stripped when downcasting to ndarray.\n",
      "  if new_value == old_value:\n"
     ]
    }
   ],
   "source": [
    "interface = Interface()\n",
    "model.interface = interface\n",
    "fitter = Fitter([model], [interface.fit_func])\n",
    "analysed = fitter.fit(data)"
   ]
  },
  {
   "cell_type": "markdown",
   "id": "0e59e732-3719-4dcd-9f11-f6bb4f76c69e",
   "metadata": {},
   "source": [
    "The model fits well to the data."
   ]
  },
  {
   "cell_type": "code",
   "execution_count": 14,
   "id": "8953f8ae-7b2d-4ef5-89f5-1da86af96ce0",
   "metadata": {
    "execution": {
     "iopub.execute_input": "2022-06-07T15:22:43.324113Z",
     "iopub.status.busy": "2022-06-07T15:22:43.323406Z",
     "iopub.status.idle": "2022-06-07T15:22:44.331291Z",
     "shell.execute_reply": "2022-06-07T15:22:44.330231Z"
    }
   },
   "outputs": [
    {
     "name": "stderr",
     "output_type": "stream",
     "text": [
      "/opt/hostedtoolcache/Python/3.9.13/x64/lib/python3.9/site-packages/easyCore/Objects/Variable.py:213: UnitStrippedWarning: The unit of the quantity is stripped when downcasting to ndarray.\n",
      "  if value != self._value:\n"
     ]
    },
    {
     "data": {
      "application/vnd.jupyter.widget-view+json": {
       "model_id": "30a32fe1f5394f17bbe3042338f0bbfe",
       "version_major": 2,
       "version_minor": 0
      },
      "image/png": "[encoded data removed]",
      "text/html": [
       "\n",
       "            <div style=\"display: inline-block;\">\n",
       "                <div class=\"jupyter-widgets widget-label\" style=\"text-align: center;\">\n",
       "                    Figure\n",
       "                </div>\n",
       "                <img src='data:image/png;base64,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' width=480.0/>\n",
       "            </div>\n",
       "        "
      ],
      "text/plain": [
       "Canvas(toolbar=Toolbar(toolitems=[('Home', 'Reset original view', 'home', 'home'), ('Back', 'Back to previous …"
      ]
     },
     "execution_count": 14,
     "metadata": {},
     "output_type": "execute_result"
    }
   ],
   "source": [
    "plot(analysed)"
   ]
  },
  {
   "cell_type": "markdown",
   "id": "80817366-363b-480b-bcfe-9ca063d3502e",
   "metadata": {},
   "source": [
    "We can probe the `MaterialMixture` object to investigate the scattering length density of the polymer film alone."
   ]
  },
  {
   "cell_type": "code",
   "execution_count": 15,
   "id": "1a87d47b-9508-4b1b-845d-0a5a8cf266d8",
   "metadata": {
    "execution": {
     "iopub.execute_input": "2022-06-07T15:22:44.335810Z",
     "iopub.status.busy": "2022-06-07T15:22:44.335275Z",
     "iopub.status.idle": "2022-06-07T15:22:44.344774Z",
     "shell.execute_reply": "2022-06-07T15:22:44.343681Z"
    }
   },
   "outputs": [
    {
     "data": {
      "text/plain": [
       "Solvated Film:\n",
       "  fraction: 0.25\n",
       "  sld: 2.360e-6 1 / angstrom ** 2\n",
       "  isld: 0.000e-6 1 / angstrom ** 2\n",
       "  material1:\n",
       "    Film:\n",
       "      sld: 1.026e-6 1 / angstrom ** 2\n",
       "      isld: 0.000e-6 1 / angstrom ** 2\n",
       "  material2:\n",
       "    D2O:\n",
       "      sld: 6.360e-6 1 / angstrom ** 2\n",
       "      isld: 0.000e-6 1 / angstrom ** 2"
      ]
     },
     "execution_count": 15,
     "metadata": {},
     "output_type": "execute_result"
    }
   ],
   "source": [
    "solvated_film"
   ]
  },
  {
   "cell_type": "markdown",
   "id": "0e2fbca8-3717-4fee-8854-f081dd79c4c3",
   "metadata": {},
   "source": [
    "The total scattering length density is 2.360e-6 Å<sup>-2</sup> (which is the same as the result from the [previous tutorial](./simple_fitting.html)).\n",
    "We can see that for a surface coverage of the polymer of 75 % the scattering length density for the polymer film alone is 1.026e-6 Å<sup>-2</sup>."
   ]
  }
 ],
 "metadata": {
  "kernelspec": {
   "display_name": "Python 3 (ipykernel)",
   "language": "python",
   "name": "python3"
  },
  "language_info": {
   "codemirror_mode": {
    "name": "ipython",
    "version": 3
   },
   "file_extension": ".py",
   "mimetype": "text/x-python",
   "name": "python",
   "nbconvert_exporter": "python",
   "pygments_lexer": "ipython3",
   "version": "3.9.13"
  },
  "widgets": {
   "application/vnd.jupyter.widget-state+json": {
    "state": {
     "038a4be3fdbc4ff3b665f0be76402bed": {
      "model_module": "jupyter-matplotlib",
      "model_module_version": "^0.11",
      "model_name": "ToolbarModel",
      "state": {
       "_current_action": "",
       "_dom_classes": [],
       "_model_module": "jupyter-matplotlib",
       "_model_module_version": "^0.11",
       "_model_name": "ToolbarModel",
       "_view_count": null,
       "_view_module": "jupyter-matplotlib",
       "_view_module_version": "^0.11",
       "_view_name": "ToolbarView",
       "button_style": "",
       "collapsed": true,
       "layout": "IPY_MODEL_c68c3182d39543beb470cf82418e2c0e",
       "orientation": "vertical",
       "toolitems": [
        [
         "Home",
         "Reset original view",
         "home",
         "home"
        ],
        [
         "Back",
         "Back to previous view",
         "arrow-left",
         "back"
        ],
        [
         "Forward",
         "Forward to next view",
         "arrow-right",
         "forward"
        ],
        [
         "Pan",
         "Left button pans, Right button zooms\nx/y fixes axis, CTRL fixes aspect",
         "arrows",
         "pan"
        ],
        [
         "Zoom",
         "Zoom to rectangle\nx/y fixes axis",
         "square-o",
         "zoom"
        ],
        [
         "Download",
         "Download plot",
         "floppy-o",
         "save_figure"
        ]
       ]
      }
     },
     "08212dbb2a6346c1a4204605c9592593": {
      "model_module": "@jupyter-widgets/base",
      "model_module_version": "1.2.0",
      "model_name": "LayoutModel",
      "state": {
       "_model_module": "@jupyter-widgets/base",
       "_model_module_version": "1.2.0",
       "_model_name": "LayoutModel",
       "_view_count": null,
       "_view_module": "@jupyter-widgets/base",
       "_view_module_version": "1.2.0",
       "_view_name": "LayoutView",
       "align_content": null,
       "align_items": null,
       "align_self": null,
       "border": null,
       "bottom": null,
       "display": null,
       "flex": null,
       "flex_flow": null,
       "grid_area": null,
       "grid_auto_columns": null,
       "grid_auto_flow": null,
       "grid_auto_rows": null,
       "grid_column": null,
       "grid_gap": null,
       "grid_row": null,
       "grid_template_areas": null,
       "grid_template_columns": null,
       "grid_template_rows": null,
       "height": null,
       "justify_content": null,
       "justify_items": null,
       "left": null,
       "margin": null,
       "max_height": null,
       "max_width": null,
       "min_height": null,
       "min_width": null,
       "object_fit": null,
       "object_position": null,
       "order": null,
       "overflow": null,
       "overflow_x": null,
       "overflow_y": null,
       "padding": null,
       "right": null,
       "top": null,
       "visibility": null,
       "width": null
      }
     },
     "09adacf9913841a4ae19655349567b90": {
      "model_module": "@jupyter-widgets/controls",
      "model_module_version": "1.5.0",
      "model_name": "SliderStyleModel",
      "state": {
       "_model_module": "@jupyter-widgets/controls",
       "_model_module_version": "1.5.0",
       "_model_name": "SliderStyleModel",
       "_view_count": null,
       "_view_module": "@jupyter-widgets/base",
       "_view_module_version": "1.2.0",
       "_view_name": "StyleView",
       "description_width": "",
       "handle_color": null
      }
     },
     "0e53b98878da4cf98183e7c2de8f2075": {
      "model_module": "@jupyter-widgets/controls",
      "model_module_version": "1.5.0",
      "model_name": "DescriptionStyleModel",
      "state": {
       "_model_module": "@jupyter-widgets/controls",
       "_model_module_version": "1.5.0",
       "_model_name": "DescriptionStyleModel",
       "_view_count": null,
       "_view_module": "@jupyter-widgets/base",
       "_view_module_version": "1.2.0",
       "_view_name": "StyleView",
       "description_width": ""
      }
     },
     "13056a2d00eb45f5ab2c2262e76044ad": {
      "model_module": "@jupyter-widgets/controls",
      "model_module_version": "1.5.0",
      "model_name": "LinkModel",
      "state": {
       "_model_module": "@jupyter-widgets/controls",
       "_model_module_version": "1.5.0",
       "_model_name": "LinkModel",
       "_view_count": null,
       "_view_module": "@jupyter-widgets/controls",
       "_view_module_version": "1.5.0",
       "_view_name": null,
       "source": [
        "IPY_MODEL_f065836420d94f378c099176f223260f",
        "value"
       ],
       "target": [
        "IPY_MODEL_ed023b7d85e74b4ab717536928a9304b",
        "continuous_update"
       ]
      }
     },
     "13bd6dd2ca2c43f9a1913baed70c0d74": {
      "model_module": "@jupyter-widgets/controls",
      "model_module_version": "1.5.0",
      "model_name": "DescriptionStyleModel",
      "state": {
       "_model_module": "@jupyter-widgets/controls",
       "_model_module_version": "1.5.0",
       "_model_name": "DescriptionStyleModel",
       "_view_count": null,
       "_view_module": "@jupyter-widgets/base",
       "_view_module_version": "1.2.0",
       "_view_name": "StyleView",
       "description_width": ""
      }
     },
     "19ec063030474a79932db72ef6ab20fe": {
      "model_module": "@jupyter-widgets/base",
      "model_module_version": "1.2.0",
      "model_name": "LayoutModel",
      "state": {
       "_model_module": "@jupyter-widgets/base",
       "_model_module_version": "1.2.0",
       "_model_name": "LayoutModel",
       "_view_count": null,
       "_view_module": "@jupyter-widgets/base",
       "_view_module_version": "1.2.0",
       "_view_name": "LayoutView",
       "align_content": null,
       "align_items": null,
       "align_self": null,
       "border": null,
       "bottom": null,
       "display": null,
       "flex": null,
       "flex_flow": null,
       "grid_area": null,
       "grid_auto_columns": null,
       "grid_auto_flow": null,
       "grid_auto_rows": null,
       "grid_column": null,
       "grid_gap": null,
       "grid_row": null,
       "grid_template_areas": null,
       "grid_template_columns": null,
       "grid_template_rows": null,
       "height": null,
       "justify_content": null,
       "justify_items": null,
       "left": null,
       "margin": null,
       "max_height": null,
       "max_width": null,
       "min_height": null,
       "min_width": null,
       "object_fit": null,
       "object_position": null,
       "order": null,
       "overflow": null,
       "overflow_x": null,
       "overflow_y": null,
       "padding": null,
       "right": null,
       "top": null,
       "visibility": null,
       "width": "60px"
      }
     },
     "1ab35c5e50d7464883b18bd2d38fb442": {
      "model_module": "@jupyter-widgets/controls",
      "model_module_version": "1.5.0",
      "model_name": "LinkModel",
      "state": {
       "_model_module": "@jupyter-widgets/controls",
       "_model_module_version": "1.5.0",
       "_model_name": "LinkModel",
       "_view_count": null,
       "_view_module": "@jupyter-widgets/controls",
       "_view_module_version": "1.5.0",
       "_view_name": null,
       "source": [
        "IPY_MODEL_528c450e8e44434396495be30f81094e",
        "value"
       ],
       "target": [
        "IPY_MODEL_fe35aba3cad94058a30345f670bc1f49",
        "continuous_update"
       ]
      }
     },
     "1ba2261ca028465da6ba2098694b955d": {
      "model_module": "@jupyter-widgets/controls",
      "model_module_version": "1.5.0",
      "model_name": "IntSliderModel",
      "state": {
       "_dom_classes": [],
       "_model_module": "@jupyter-widgets/controls",
       "_model_module_version": "1.5.0",
       "_model_name": "IntSliderModel",
       "_view_count": null,
       "_view_module": "@jupyter-widgets/controls",
       "_view_module_version": "1.5.0",
       "_view_name": "IntSliderView",
       "continuous_update": true,
       "description": "",
       "description_tooltip": null,
       "disabled": false,
       "layout": "IPY_MODEL_78b2069811b343bdafde3847ccd44f1b",
       "max": 407,
       "min": 0,
       "orientation": "horizontal",
       "readout": false,
       "readout_format": "d",
       "step": 1,
       "style": "IPY_MODEL_ab8d585578154807993dbfeb56452d8b",
       "value": 0
      }
     },
     "21db87059ece454b9f7de9049868fdfc": {
      "model_module": "@jupyter-widgets/controls",
      "model_module_version": "1.5.0",
      "model_name": "DescriptionStyleModel",
      "state": {
       "_model_module": "@jupyter-widgets/controls",
       "_model_module_version": "1.5.0",
       "_model_name": "DescriptionStyleModel",
       "_view_count": null,
       "_view_module": "@jupyter-widgets/base",
       "_view_module_version": "1.2.0",
       "_view_name": "StyleView",
       "description_width": ""
      }
     },
     "224ad96319fc4243bbf988d278e3fa79": {
      "model_module": "@jupyter-widgets/controls",
      "model_module_version": "1.5.0",
      "model_name": "ButtonStyleModel",
      "state": {
       "_model_module": "@jupyter-widgets/controls",
       "_model_module_version": "1.5.0",
       "_model_name": "ButtonStyleModel",
       "_view_count": null,
       "_view_module": "@jupyter-widgets/base",
       "_view_module_version": "1.2.0",
       "_view_name": "StyleView",
       "button_color": null,
       "font_weight": ""
      }
     },
     "2be917303b8e42afad571fe37bf321d7": {
      "model_module": "@jupyter-widgets/controls",
      "model_module_version": "1.5.0",
      "model_name": "DescriptionStyleModel",
      "state": {
       "_model_module": "@jupyter-widgets/controls",
       "_model_module_version": "1.5.0",
       "_model_name": "DescriptionStyleModel",
       "_view_count": null,
       "_view_module": "@jupyter-widgets/base",
       "_view_module_version": "1.2.0",
       "_view_name": "StyleView",
       "description_width": ""
      }
     },
     "2f808b5afcaa4f16a6e8e83173dcc3e8": {
      "model_module": "@jupyter-widgets/controls",
      "model_module_version": "1.5.0",
      "model_name": "LabelModel",
      "state": {
       "_dom_classes": [],
       "_model_module": "@jupyter-widgets/controls",
       "_model_module_version": "1.5.0",
       "_model_name": "LabelModel",
       "_view_count": null,
       "_view_module": "@jupyter-widgets/controls",
       "_view_module_version": "1.5.0",
       "_view_name": "LabelView",
       "description": "",
       "description_tooltip": null,
       "layout": "IPY_MODEL_08212dbb2a6346c1a4204605c9592593",
       "placeholder": "​",
       "style": "IPY_MODEL_2be917303b8e42afad571fe37bf321d7",
       "value": ""
      }
     },
     "30a32fe1f5394f17bbe3042338f0bbfe": {
      "model_module": "jupyter-matplotlib",
      "model_module_version": "^0.11",
      "model_name": "MPLCanvasModel",
      "state": {
       "_cursor": "pointer",
       "_data_url": "data:image/png;base64,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",
       "_dom_classes": [],
       "_figure_label": "Figure",
       "_image_mode": "full",
       "_message": "",
       "_model_module": "jupyter-matplotlib",
       "_model_module_version": "^0.11",
       "_model_name": "MPLCanvasModel",
       "_rubberband_height": 0,
       "_rubberband_width": 0,
       "_rubberband_x": 0,
       "_rubberband_y": 0,
       "_size": [
        480.0,
        576.0
       ],
       "_view_count": null,
       "_view_module": "jupyter-matplotlib",
       "_view_module_version": "^0.11",
       "_view_name": "MPLCanvasView",
       "capture_scroll": false,
       "footer_visible": true,
       "header_visible": false,
       "layout": "IPY_MODEL_706beb97e18a4b7fa867b5c464414990",
       "pan_zoom_throttle": 33.0,
       "resizable": true,
       "toolbar": "IPY_MODEL_038a4be3fdbc4ff3b665f0be76402bed",
       "toolbar_position": "left",
       "toolbar_visible": "fade-in-fade-out"
      }
     },
     "30fee55277384ea1a2284f14d87b0296": {
      "model_module": "@jupyter-widgets/base",
      "model_module_version": "1.2.0",
      "model_name": "LayoutModel",
      "state": {
       "_model_module": "@jupyter-widgets/base",
       "_model_module_version": "1.2.0",
       "_model_name": "LayoutModel",
       "_view_count": null,
       "_view_module": "@jupyter-widgets/base",
       "_view_module_version": "1.2.0",
       "_view_name": "LayoutView",
       "align_content": null,
       "align_items": null,
       "align_self": null,
       "border": null,
       "bottom": null,
       "display": null,
       "flex": null,
       "flex_flow": null,
       "grid_area": null,
       "grid_auto_columns": null,
       "grid_auto_flow": null,
       "grid_auto_rows": null,
       "grid_column": null,
       "grid_gap": null,
       "grid_row": null,
       "grid_template_areas": null,
       "grid_template_columns": null,
       "grid_template_rows": null,
       "height": null,
       "justify_content": null,
       "justify_items": null,
       "left": null,
       "margin": null,
       "max_height": null,
       "max_width": null,
       "min_height": null,
       "min_width": null,
       "object_fit": null,
       "object_position": null,
       "order": null,
       "overflow": null,
       "overflow_x": null,
       "overflow_y": null,
       "padding": null,
       "right": null,
       "top": null,
       "visibility": null,
       "width": null
      }
     },
     "34acbe3c0a134ca89397fe918b1a9659": {
      "model_module": "@jupyter-widgets/controls",
      "model_module_version": "1.5.0",
      "model_name": "DescriptionStyleModel",
      "state": {
       "_model_module": "@jupyter-widgets/controls",
       "_model_module_version": "1.5.0",
       "_model_name": "DescriptionStyleModel",
       "_view_count": null,
       "_view_module": "@jupyter-widgets/base",
       "_view_module_version": "1.2.0",
       "_view_name": "StyleView",
       "description_width": ""
      }
     },
     "352a73662fb04c5bae0ff5f28aa6e27e": {
      "model_module": "@jupyter-widgets/controls",
      "model_module_version": "1.5.0",
      "model_name": "LinkModel",
      "state": {
       "_model_module": "@jupyter-widgets/controls",
       "_model_module_version": "1.5.0",
       "_model_name": "LinkModel",
       "_view_count": null,
       "_view_module": "@jupyter-widgets/controls",
       "_view_module_version": "1.5.0",
       "_view_name": null,
       "source": [
        "IPY_MODEL_f43d8743ea1d467185334e21fcd62bd3",
        "value"
       ],
       "target": [
        "IPY_MODEL_1ba2261ca028465da6ba2098694b955d",
        "continuous_update"
       ]
      }
     },
     "3cd33cbd86ee4f94a8c936d92dbf6d1b": {
      "model_module": "@jupyter-widgets/controls",
      "model_module_version": "1.5.0",
      "model_name": "LabelModel",
      "state": {
       "_dom_classes": [],
       "_model_module": "@jupyter-widgets/controls",
       "_model_module_version": "1.5.0",
       "_model_name": "LabelModel",
       "_view_count": null,
       "_view_module": "@jupyter-widgets/controls",
       "_view_module_version": "1.5.0",
       "_view_name": "LabelView",
       "description": "",
       "description_tooltip": null,
       "layout": "IPY_MODEL_30fee55277384ea1a2284f14d87b0296",
       "placeholder": "​",
       "style": "IPY_MODEL_0e53b98878da4cf98183e7c2de8f2075",
       "value": ""
      }
     },
     "4b0d04256f3941059c83f48b931ff44a": {
      "model_module": "@jupyter-widgets/controls",
      "model_module_version": "1.5.0",
      "model_name": "LabelModel",
      "state": {
       "_dom_classes": [],
       "_model_module": "@jupyter-widgets/controls",
       "_model_module_version": "1.5.0",
       "_model_name": "LabelModel",
       "_view_count": null,
       "_view_module": "@jupyter-widgets/controls",
       "_view_module_version": "1.5.0",
       "_view_name": "LabelView",
       "description": "",
       "description_tooltip": null,
       "layout": "IPY_MODEL_19ec063030474a79932db72ef6ab20fe",
       "placeholder": "​",
       "style": "IPY_MODEL_13bd6dd2ca2c43f9a1913baed70c0d74",
       "value": " [Å]"
      }
     },
     "4e63a9d5fa5546148ce8648e09636a47": {
      "model_module": "@jupyter-widgets/base",
      "model_module_version": "1.2.0",
      "model_name": "LayoutModel",
      "state": {
       "_model_module": "@jupyter-widgets/base",
       "_model_module_version": "1.2.0",
       "_model_name": "LayoutModel",
       "_view_count": null,
       "_view_module": "@jupyter-widgets/base",
       "_view_module_version": "1.2.0",
       "_view_name": "LayoutView",
       "align_content": null,
       "align_items": null,
       "align_self": null,
       "border": null,
       "bottom": null,
       "display": null,
       "flex": null,
       "flex_flow": null,
       "grid_area": null,
       "grid_auto_columns": null,
       "grid_auto_flow": null,
       "grid_auto_rows": null,
       "grid_column": null,
       "grid_gap": null,
       "grid_row": null,
       "grid_template_areas": null,
       "grid_template_columns": null,
       "grid_template_rows": null,
       "height": null,
       "justify_content": null,
       "justify_items": null,
       "left": null,
       "margin": null,
       "max_height": null,
       "max_width": null,
       "min_height": null,
       "min_width": null,
       "object_fit": null,
       "object_position": null,
       "order": null,
       "overflow": null,
       "overflow_x": null,
       "overflow_y": null,
       "padding": null,
       "right": null,
       "top": null,
       "visibility": null,
       "width": "60px"
      }
     },
     "4f0f24ef61824bff8d7c8e0350087d1b": {
      "model_module": "@jupyter-widgets/controls",
      "model_module_version": "1.5.0",
      "model_name": "SliderStyleModel",
      "state": {
       "_model_module": "@jupyter-widgets/controls",
       "_model_module_version": "1.5.0",
       "_model_name": "SliderStyleModel",
       "_view_count": null,
       "_view_module": "@jupyter-widgets/base",
       "_view_module_version": "1.2.0",
       "_view_name": "StyleView",
       "description_width": "initial",
       "handle_color": null
      }
     },
     "528c450e8e44434396495be30f81094e": {
      "model_module": "@jupyter-widgets/controls",
      "model_module_version": "1.5.0",
      "model_name": "CheckboxModel",
      "state": {
       "_dom_classes": [],
       "_model_module": "@jupyter-widgets/controls",
       "_model_module_version": "1.5.0",
       "_model_name": "CheckboxModel",
       "_view_count": null,
       "_view_module": "@jupyter-widgets/controls",
       "_view_module_version": "1.5.0",
       "_view_name": "CheckboxView",
       "description": "Continuous update",
       "description_tooltip": null,
       "disabled": false,
       "indent": false,
       "layout": "IPY_MODEL_b509f3deb02341c9b5fe2cf2826e1853",
       "style": "IPY_MODEL_34acbe3c0a134ca89397fe918b1a9659",
       "value": true
      }
     },
     "5be8dbb3945f483a8772e96a7778574c": {
      "model_module": "@jupyter-widgets/base",
      "model_module_version": "1.2.0",
      "model_name": "LayoutModel",
      "state": {
       "_model_module": "@jupyter-widgets/base",
       "_model_module_version": "1.2.0",
       "_model_name": "LayoutModel",
       "_view_count": null,
       "_view_module": "@jupyter-widgets/base",
       "_view_module_version": "1.2.0",
       "_view_name": "LayoutView",
       "align_content": null,
       "align_items": null,
       "align_self": null,
       "border": null,
       "bottom": null,
       "display": null,
       "flex": null,
       "flex_flow": null,
       "grid_area": null,
       "grid_auto_columns": null,
       "grid_auto_flow": null,
       "grid_auto_rows": null,
       "grid_column": null,
       "grid_gap": null,
       "grid_row": null,
       "grid_template_areas": null,
       "grid_template_columns": null,
       "grid_template_rows": null,
       "height": null,
       "justify_content": null,
       "justify_items": null,
       "left": null,
       "margin": null,
       "max_height": null,
       "max_width": null,
       "min_height": null,
       "min_width": null,
       "object_fit": null,
       "object_position": null,
       "order": null,
       "overflow": null,
       "overflow_x": null,
       "overflow_y": null,
       "padding": null,
       "right": null,
       "top": null,
       "visibility": null,
       "width": "200px"
      }
     },
     "5f3ddcb96749454380c5241cfd9a7aaa": {
      "model_module": "@jupyter-widgets/controls",
      "model_module_version": "1.5.0",
      "model_name": "SliderStyleModel",
      "state": {
       "_model_module": "@jupyter-widgets/controls",
       "_model_module_version": "1.5.0",
       "_model_name": "SliderStyleModel",
       "_view_count": null,
       "_view_module": "@jupyter-widgets/base",
       "_view_module_version": "1.2.0",
       "_view_name": "StyleView",
       "description_width": "",
       "handle_color": null
      }
     },
     "6088e857f33443f3bc41f96ce987907d": {
      "model_module": "@jupyter-widgets/controls",
      "model_module_version": "1.5.0",
      "model_name": "IntSliderModel",
      "state": {
       "_dom_classes": [],
       "_model_module": "@jupyter-widgets/controls",
       "_model_module_version": "1.5.0",
       "_model_name": "IntSliderModel",
       "_view_count": null,
       "_view_module": "@jupyter-widgets/controls",
       "_view_module_version": "1.5.0",
       "_view_name": "IntSliderView",
       "continuous_update": false,
       "description": "Thickness",
       "description_tooltip": null,
       "disabled": false,
       "layout": "IPY_MODEL_7491e478915e412c8781acd9e3303d75",
       "max": 408,
       "min": 1,
       "orientation": "horizontal",
       "readout": false,
       "readout_format": "d",
       "step": 1,
       "style": "IPY_MODEL_808fed4b0dc5439593987da3eeb0b62d",
       "value": 1
      }
     },
     "66c602ea3b4e43788b6d1840c740d70d": {
      "model_module": "@jupyter-widgets/controls",
      "model_module_version": "1.5.0",
      "model_name": "DescriptionStyleModel",
      "state": {
       "_model_module": "@jupyter-widgets/controls",
       "_model_module_version": "1.5.0",
       "_model_name": "DescriptionStyleModel",
       "_view_count": null,
       "_view_module": "@jupyter-widgets/base",
       "_view_module_version": "1.2.0",
       "_view_name": "StyleView",
       "description_width": ""
      }
     },
     "6d33dc565ee64f02946314c549cb2288": {
      "model_module": "jupyter-matplotlib",
      "model_module_version": "^0.11",
      "model_name": "ToolbarModel",
      "state": {
       "_current_action": "",
       "_dom_classes": [],
       "_model_module": "jupyter-matplotlib",
       "_model_module_version": "^0.11",
       "_model_name": "ToolbarModel",
       "_view_count": null,
       "_view_module": "jupyter-matplotlib",
       "_view_module_version": "^0.11",
       "_view_name": "ToolbarView",
       "button_style": "",
       "collapsed": true,
       "layout": "IPY_MODEL_dff9e1fa402849828822745416bcc568",
       "orientation": "vertical",
       "toolitems": [
        [
         "Home",
         "Reset original view",
         "home",
         "home"
        ],
        [
         "Back",
         "Back to previous view",
         "arrow-left",
         "back"
        ],
        [
         "Forward",
         "Forward to next view",
         "arrow-right",
         "forward"
        ],
        [
         "Pan",
         "Left button pans, Right button zooms\nx/y fixes axis, CTRL fixes aspect",
         "arrows",
         "pan"
        ],
        [
         "Zoom",
         "Zoom to rectangle\nx/y fixes axis",
         "square-o",
         "zoom"
        ],
        [
         "Download",
         "Download plot",
         "floppy-o",
         "save_figure"
        ]
       ]
      }
     },
     "6de79c9ea1ab4a47889156db57f8ea73": {
      "model_module": "@jupyter-widgets/base",
      "model_module_version": "1.2.0",
      "model_name": "LayoutModel",
      "state": {
       "_model_module": "@jupyter-widgets/base",
       "_model_module_version": "1.2.0",
       "_model_name": "LayoutModel",
       "_view_count": null,
       "_view_module": "@jupyter-widgets/base",
       "_view_module_version": "1.2.0",
       "_view_name": "LayoutView",
       "align_content": null,
       "align_items": null,
       "align_self": null,
       "border": null,
       "bottom": null,
       "display": null,
       "flex": null,
       "flex_flow": null,
       "grid_area": null,
       "grid_auto_columns": null,
       "grid_auto_flow": null,
       "grid_auto_rows": null,
       "grid_column": null,
       "grid_gap": null,
       "grid_row": null,
       "grid_template_areas": null,
       "grid_template_columns": null,
       "grid_template_rows": null,
       "height": null,
       "justify_content": null,
       "justify_items": null,
       "left": null,
       "margin": null,
       "max_height": null,
       "max_width": null,
       "min_height": null,
       "min_width": null,
       "object_fit": null,
       "object_position": null,
       "order": null,
       "overflow": null,
       "overflow_x": null,
       "overflow_y": null,
       "padding": null,
       "right": null,
       "top": null,
       "visibility": null,
       "width": "20px"
      }
     },
     "706beb97e18a4b7fa867b5c464414990": {
      "model_module": "@jupyter-widgets/base",
      "model_module_version": "1.2.0",
      "model_name": "LayoutModel",
      "state": {
       "_model_module": "@jupyter-widgets/base",
       "_model_module_version": "1.2.0",
       "_model_name": "LayoutModel",
       "_view_count": null,
       "_view_module": "@jupyter-widgets/base",
       "_view_module_version": "1.2.0",
       "_view_name": "LayoutView",
       "align_content": null,
       "align_items": null,
       "align_self": null,
       "border": null,
       "bottom": null,
       "display": null,
       "flex": null,
       "flex_flow": null,
       "grid_area": null,
       "grid_auto_columns": null,
       "grid_auto_flow": null,
       "grid_auto_rows": null,
       "grid_column": null,
       "grid_gap": null,
       "grid_row": null,
       "grid_template_areas": null,
       "grid_template_columns": null,
       "grid_template_rows": null,
       "height": null,
       "justify_content": null,
       "justify_items": null,
       "left": null,
       "margin": null,
       "max_height": null,
       "max_width": null,
       "min_height": null,
       "min_width": null,
       "object_fit": null,
       "object_position": null,
       "order": null,
       "overflow": null,
       "overflow_x": null,
       "overflow_y": null,
       "padding": null,
       "right": null,
       "top": null,
       "visibility": null,
       "width": null
      }
     },
     "7491e478915e412c8781acd9e3303d75": {
      "model_module": "@jupyter-widgets/base",
      "model_module_version": "1.2.0",
      "model_name": "LayoutModel",
      "state": {
       "_model_module": "@jupyter-widgets/base",
       "_model_module_version": "1.2.0",
       "_model_name": "LayoutModel",
       "_view_count": null,
       "_view_module": "@jupyter-widgets/base",
       "_view_module_version": "1.2.0",
       "_view_name": "LayoutView",
       "align_content": null,
       "align_items": null,
       "align_self": null,
       "border": null,
       "bottom": null,
       "display": null,
       "flex": null,
       "flex_flow": null,
       "grid_area": null,
       "grid_auto_columns": null,
       "grid_auto_flow": null,
       "grid_auto_rows": null,
       "grid_column": null,
       "grid_gap": null,
       "grid_row": null,
       "grid_template_areas": null,
       "grid_template_columns": null,
       "grid_template_rows": null,
       "height": null,
       "justify_content": null,
       "justify_items": null,
       "left": null,
       "margin": null,
       "max_height": null,
       "max_width": null,
       "min_height": null,
       "min_width": null,
       "object_fit": null,
       "object_position": null,
       "order": null,
       "overflow": null,
       "overflow_x": null,
       "overflow_y": null,
       "padding": null,
       "right": null,
       "top": null,
       "visibility": null,
       "width": "180px"
      }
     },
     "78b2069811b343bdafde3847ccd44f1b": {
      "model_module": "@jupyter-widgets/base",
      "model_module_version": "1.2.0",
      "model_name": "LayoutModel",
      "state": {
       "_model_module": "@jupyter-widgets/base",
       "_model_module_version": "1.2.0",
       "_model_name": "LayoutModel",
       "_view_count": null,
       "_view_module": "@jupyter-widgets/base",
       "_view_module_version": "1.2.0",
       "_view_name": "LayoutView",
       "align_content": null,
       "align_items": null,
       "align_self": null,
       "border": null,
       "bottom": null,
       "display": null,
       "flex": null,
       "flex_flow": null,
       "grid_area": null,
       "grid_auto_columns": null,
       "grid_auto_flow": null,
       "grid_auto_rows": null,
       "grid_column": null,
       "grid_gap": null,
       "grid_row": null,
       "grid_template_areas": null,
       "grid_template_columns": null,
       "grid_template_rows": null,
       "height": null,
       "justify_content": null,
       "justify_items": null,
       "left": null,
       "margin": null,
       "max_height": null,
       "max_width": null,
       "min_height": null,
       "min_width": null,
       "object_fit": null,
       "object_position": null,
       "order": null,
       "overflow": null,
       "overflow_x": null,
       "overflow_y": null,
       "padding": null,
       "right": null,
       "top": null,
       "visibility": null,
       "width": "200px"
      }
     },
     "7c4ff0e6d78340389bf2739b9ce053e0": {
      "model_module": "@jupyter-widgets/controls",
      "model_module_version": "1.5.0",
      "model_name": "DescriptionStyleModel",
      "state": {
       "_model_module": "@jupyter-widgets/controls",
       "_model_module_version": "1.5.0",
       "_model_name": "DescriptionStyleModel",
       "_view_count": null,
       "_view_module": "@jupyter-widgets/base",
       "_view_module_version": "1.2.0",
       "_view_name": "StyleView",
       "description_width": ""
      }
     },
     "7d3fa00d741b445d8027d2143bdc6357": {
      "model_module": "@jupyter-widgets/controls",
      "model_module_version": "1.5.0",
      "model_name": "LabelModel",
      "state": {
       "_dom_classes": [],
       "_model_module": "@jupyter-widgets/controls",
       "_model_module_version": "1.5.0",
       "_model_name": "LabelModel",
       "_view_count": null,
       "_view_module": "@jupyter-widgets/controls",
       "_view_module_version": "1.5.0",
       "_view_name": "LabelView",
       "description": "",
       "description_tooltip": null,
       "layout": "IPY_MODEL_b60d9346a0114d9cb57589dbe119db90",
       "placeholder": "​",
       "style": "IPY_MODEL_7c4ff0e6d78340389bf2739b9ce053e0",
       "value": ""
      }
     },
     "8074a6323c2042d1b63ab58c9895daa2": {
      "model_module": "@jupyter-widgets/controls",
      "model_module_version": "1.5.0",
      "model_name": "IntSliderModel",
      "state": {
       "_dom_classes": [],
       "_model_module": "@jupyter-widgets/controls",
       "_model_module_version": "1.5.0",
       "_model_name": "IntSliderModel",
       "_view_count": null,
       "_view_module": "@jupyter-widgets/controls",
       "_view_module_version": "1.5.0",
       "_view_name": "IntSliderView",
       "continuous_update": false,
       "description": "Thickness",
       "description_tooltip": null,
       "disabled": false,
       "layout": "IPY_MODEL_8ee35dd783a64e44a96ca29ae8c0e47e",
       "max": 408,
       "min": 1,
       "orientation": "horizontal",
       "readout": false,
       "readout_format": "d",
       "step": 1,
       "style": "IPY_MODEL_fc7b7533330047aabe031ba29e994dff",
       "value": 1
      }
     },
     "808fed4b0dc5439593987da3eeb0b62d": {
      "model_module": "@jupyter-widgets/controls",
      "model_module_version": "1.5.0",
      "model_name": "SliderStyleModel",
      "state": {
       "_model_module": "@jupyter-widgets/controls",
       "_model_module_version": "1.5.0",
       "_model_name": "SliderStyleModel",
       "_view_count": null,
       "_view_module": "@jupyter-widgets/base",
       "_view_module_version": "1.2.0",
       "_view_name": "StyleView",
       "description_width": "initial",
       "handle_color": null
      }
     },
     "86681f7ed10240098efaa17bda93a054": {
      "model_module": "@jupyter-widgets/controls",
      "model_module_version": "1.5.0",
      "model_name": "LabelModel",
      "state": {
       "_dom_classes": [],
       "_model_module": "@jupyter-widgets/controls",
       "_model_module_version": "1.5.0",
       "_model_name": "LabelModel",
       "_view_count": null,
       "_view_module": "@jupyter-widgets/controls",
       "_view_module_version": "1.5.0",
       "_view_name": "LabelView",
       "description": "",
       "description_tooltip": null,
       "layout": "IPY_MODEL_4e63a9d5fa5546148ce8648e09636a47",
       "placeholder": "​",
       "style": "IPY_MODEL_21db87059ece454b9f7de9049868fdfc",
       "value": " [1/Å]"
      }
     },
     "8ee35dd783a64e44a96ca29ae8c0e47e": {
      "model_module": "@jupyter-widgets/base",
      "model_module_version": "1.2.0",
      "model_name": "LayoutModel",
      "state": {
       "_model_module": "@jupyter-widgets/base",
       "_model_module_version": "1.2.0",
       "_model_name": "LayoutModel",
       "_view_count": null,
       "_view_module": "@jupyter-widgets/base",
       "_view_module_version": "1.2.0",
       "_view_name": "LayoutView",
       "align_content": null,
       "align_items": null,
       "align_self": null,
       "border": null,
       "bottom": null,
       "display": null,
       "flex": null,
       "flex_flow": null,
       "grid_area": null,
       "grid_auto_columns": null,
       "grid_auto_flow": null,
       "grid_auto_rows": null,
       "grid_column": null,
       "grid_gap": null,
       "grid_row": null,
       "grid_template_areas": null,
       "grid_template_columns": null,
       "grid_template_rows": null,
       "height": null,
       "justify_content": null,
       "justify_items": null,
       "left": null,
       "margin": null,
       "max_height": null,
       "max_width": null,
       "min_height": null,
       "min_width": null,
       "object_fit": null,
       "object_position": null,
       "order": null,
       "overflow": null,
       "overflow_x": null,
       "overflow_y": null,
       "padding": null,
       "right": null,
       "top": null,
       "visibility": null,
       "width": "180px"
      }
     },
     "938239bad7ce459ca33f456a7eab6c80": {
      "model_module": "@jupyter-widgets/controls",
      "model_module_version": "1.5.0",
      "model_name": "ButtonStyleModel",
      "state": {
       "_model_module": "@jupyter-widgets/controls",
       "_model_module_version": "1.5.0",
       "_model_name": "ButtonStyleModel",
       "_view_count": null,
       "_view_module": "@jupyter-widgets/base",
       "_view_module_version": "1.2.0",
       "_view_name": "StyleView",
       "button_color": null,
       "font_weight": ""
      }
     },
     "ab3de37877a94831b1b9d51e35a505e6": {
      "model_module": "@jupyter-widgets/controls",
      "model_module_version": "1.5.0",
      "model_name": "ButtonModel",
      "state": {
       "_dom_classes": [],
       "_model_module": "@jupyter-widgets/controls",
       "_model_module_version": "1.5.0",
       "_model_name": "ButtonModel",
       "_view_count": null,
       "_view_module": "@jupyter-widgets/controls",
       "_view_module_version": "1.5.0",
       "_view_name": "ButtonView",
       "button_style": "",
       "description": "Profile",
       "disabled": false,
       "icon": "",
       "layout": "IPY_MODEL_d54651db139742f392ab65e0048e333e",
       "style": "IPY_MODEL_224ad96319fc4243bbf988d278e3fa79",
       "tooltip": ""
      }
     },
     "ab8d585578154807993dbfeb56452d8b": {
      "model_module": "@jupyter-widgets/controls",
      "model_module_version": "1.5.0",
      "model_name": "SliderStyleModel",
      "state": {
       "_model_module": "@jupyter-widgets/controls",
       "_model_module_version": "1.5.0",
       "_model_name": "SliderStyleModel",
       "_view_count": null,
       "_view_module": "@jupyter-widgets/base",
       "_view_module_version": "1.2.0",
       "_view_name": "StyleView",
       "description_width": "",
       "handle_color": null
      }
     },
     "b4eb569611af428c817580a041e5acbb": {
      "model_module": "@jupyter-widgets/controls",
      "model_module_version": "1.5.0",
      "model_name": "DescriptionStyleModel",
      "state": {
       "_model_module": "@jupyter-widgets/controls",
       "_model_module_version": "1.5.0",
       "_model_name": "DescriptionStyleModel",
       "_view_count": null,
       "_view_module": "@jupyter-widgets/base",
       "_view_module_version": "1.2.0",
       "_view_name": "StyleView",
       "description_width": ""
      }
     },
     "b509f3deb02341c9b5fe2cf2826e1853": {
      "model_module": "@jupyter-widgets/base",
      "model_module_version": "1.2.0",
      "model_name": "LayoutModel",
      "state": {
       "_model_module": "@jupyter-widgets/base",
       "_model_module_version": "1.2.0",
       "_model_name": "LayoutModel",
       "_view_count": null,
       "_view_module": "@jupyter-widgets/base",
       "_view_module_version": "1.2.0",
       "_view_name": "LayoutView",
       "align_content": null,
       "align_items": null,
       "align_self": null,
       "border": null,
       "bottom": null,
       "display": null,
       "flex": null,
       "flex_flow": null,
       "grid_area": null,
       "grid_auto_columns": null,
       "grid_auto_flow": null,
       "grid_auto_rows": null,
       "grid_column": null,
       "grid_gap": null,
       "grid_row": null,
       "grid_template_areas": null,
       "grid_template_columns": null,
       "grid_template_rows": null,
       "height": null,
       "justify_content": null,
       "justify_items": null,
       "left": null,
       "margin": null,
       "max_height": null,
       "max_width": null,
       "min_height": null,
       "min_width": null,
       "object_fit": null,
       "object_position": null,
       "order": null,
       "overflow": null,
       "overflow_x": null,
       "overflow_y": null,
       "padding": null,
       "right": null,
       "top": null,
       "visibility": null,
       "width": "20px"
      }
     },
     "b60d9346a0114d9cb57589dbe119db90": {
      "model_module": "@jupyter-widgets/base",
      "model_module_version": "1.2.0",
      "model_name": "LayoutModel",
      "state": {
       "_model_module": "@jupyter-widgets/base",
       "_model_module_version": "1.2.0",
       "_model_name": "LayoutModel",
       "_view_count": null,
       "_view_module": "@jupyter-widgets/base",
       "_view_module_version": "1.2.0",
       "_view_name": "LayoutView",
       "align_content": null,
       "align_items": null,
       "align_self": null,
       "border": null,
       "bottom": null,
       "display": null,
       "flex": null,
       "flex_flow": null,
       "grid_area": null,
       "grid_auto_columns": null,
       "grid_auto_flow": null,
       "grid_auto_rows": null,
       "grid_column": null,
       "grid_gap": null,
       "grid_row": null,
       "grid_template_areas": null,
       "grid_template_columns": null,
       "grid_template_rows": null,
       "height": null,
       "justify_content": null,
       "justify_items": null,
       "left": null,
       "margin": null,
       "max_height": null,
       "max_width": null,
       "min_height": null,
       "min_width": null,
       "object_fit": null,
       "object_position": null,
       "order": null,
       "overflow": null,
       "overflow_x": null,
       "overflow_y": null,
       "padding": null,
       "right": null,
       "top": null,
       "visibility": null,
       "width": null
      }
     },
     "c61a4144a6cb41228ca39bca4a3dd518": {
      "model_module": "@jupyter-widgets/controls",
      "model_module_version": "1.5.0",
      "model_name": "DescriptionStyleModel",
      "state": {
       "_model_module": "@jupyter-widgets/controls",
       "_model_module_version": "1.5.0",
       "_model_name": "DescriptionStyleModel",
       "_view_count": null,
       "_view_module": "@jupyter-widgets/base",
       "_view_module_version": "1.2.0",
       "_view_name": "StyleView",
       "description_width": ""
      }
     },
     "c68c3182d39543beb470cf82418e2c0e": {
      "model_module": "@jupyter-widgets/base",
      "model_module_version": "1.2.0",
      "model_name": "LayoutModel",
      "state": {
       "_model_module": "@jupyter-widgets/base",
       "_model_module_version": "1.2.0",
       "_model_name": "LayoutModel",
       "_view_count": null,
       "_view_module": "@jupyter-widgets/base",
       "_view_module_version": "1.2.0",
       "_view_name": "LayoutView",
       "align_content": null,
       "align_items": null,
       "align_self": null,
       "border": null,
       "bottom": null,
       "display": null,
       "flex": null,
       "flex_flow": null,
       "grid_area": null,
       "grid_auto_columns": null,
       "grid_auto_flow": null,
       "grid_auto_rows": null,
       "grid_column": null,
       "grid_gap": null,
       "grid_row": null,
       "grid_template_areas": null,
       "grid_template_columns": null,
       "grid_template_rows": null,
       "height": null,
       "justify_content": null,
       "justify_items": null,
       "left": null,
       "margin": null,
       "max_height": null,
       "max_width": null,
       "min_height": null,
       "min_width": null,
       "object_fit": null,
       "object_position": null,
       "order": null,
       "overflow": null,
       "overflow_x": null,
       "overflow_y": null,
       "padding": null,
       "right": null,
       "top": null,
       "visibility": null,
       "width": null
      }
     },
     "c72c11a2cb3a451b827f6768b37cb00c": {
      "model_module": "@jupyter-widgets/base",
      "model_module_version": "1.2.0",
      "model_name": "LayoutModel",
      "state": {
       "_model_module": "@jupyter-widgets/base",
       "_model_module_version": "1.2.0",
       "_model_name": "LayoutModel",
       "_view_count": null,
       "_view_module": "@jupyter-widgets/base",
       "_view_module_version": "1.2.0",
       "_view_name": "LayoutView",
       "align_content": null,
       "align_items": null,
       "align_self": null,
       "border": null,
       "bottom": null,
       "display": "none",
       "flex": null,
       "flex_flow": null,
       "grid_area": null,
       "grid_auto_columns": null,
       "grid_auto_flow": null,
       "grid_auto_rows": null,
       "grid_column": null,
       "grid_gap": null,
       "grid_row": null,
       "grid_template_areas": null,
       "grid_template_columns": null,
       "grid_template_rows": null,
       "height": null,
       "justify_content": null,
       "justify_items": null,
       "left": null,
       "margin": null,
       "max_height": null,
       "max_width": null,
       "min_height": null,
       "min_width": null,
       "object_fit": null,
       "object_position": null,
       "order": null,
       "overflow": null,
       "overflow_x": null,
       "overflow_y": null,
       "padding": null,
       "right": null,
       "top": null,
       "visibility": null,
       "width": "initial"
      }
     },
     "c919d7242e0b44c4b8cb1d1d33a265e1": {
      "model_module": "@jupyter-widgets/controls",
      "model_module_version": "1.5.0",
      "model_name": "ButtonStyleModel",
      "state": {
       "_model_module": "@jupyter-widgets/controls",
       "_model_module_version": "1.5.0",
       "_model_name": "ButtonStyleModel",
       "_view_count": null,
       "_view_module": "@jupyter-widgets/base",
       "_view_module_version": "1.2.0",
       "_view_name": "StyleView",
       "button_color": null,
       "font_weight": ""
      }
     },
     "cf3b4f2f0fe744c693c05d894df885d7": {
      "model_module": "@jupyter-widgets/controls",
      "model_module_version": "1.5.0",
      "model_name": "LabelModel",
      "state": {
       "_dom_classes": [],
       "_model_module": "@jupyter-widgets/controls",
       "_model_module_version": "1.5.0",
       "_model_name": "LabelModel",
       "_view_count": null,
       "_view_module": "@jupyter-widgets/controls",
       "_view_module_version": "1.5.0",
       "_view_name": "LabelView",
       "description": "",
       "description_tooltip": null,
       "layout": "IPY_MODEL_e6c0e28a26e845fa87e9be9ace008465",
       "placeholder": "​",
       "style": "IPY_MODEL_b4eb569611af428c817580a041e5acbb",
       "value": " [1/Å]"
      }
     },
     "d51ec9b51bab44d69ea42fc1785843b8": {
      "model_module": "@jupyter-widgets/controls",
      "model_module_version": "1.5.0",
      "model_name": "IntSliderModel",
      "state": {
       "_dom_classes": [],
       "_model_module": "@jupyter-widgets/controls",
       "_model_module_version": "1.5.0",
       "_model_name": "IntSliderModel",
       "_view_count": null,
       "_view_module": "@jupyter-widgets/controls",
       "_view_module_version": "1.5.0",
       "_view_name": "IntSliderView",
       "continuous_update": false,
       "description": "Thickness",
       "description_tooltip": null,
       "disabled": false,
       "layout": "IPY_MODEL_d61915f283f94f3c8f20c249405fe7d0",
       "max": 500,
       "min": 1,
       "orientation": "horizontal",
       "readout": false,
       "readout_format": "d",
       "step": 1,
       "style": "IPY_MODEL_4f0f24ef61824bff8d7c8e0350087d1b",
       "value": 1
      }
     },
     "d54651db139742f392ab65e0048e333e": {
      "model_module": "@jupyter-widgets/base",
      "model_module_version": "1.2.0",
      "model_name": "LayoutModel",
      "state": {
       "_model_module": "@jupyter-widgets/base",
       "_model_module_version": "1.2.0",
       "_model_name": "LayoutModel",
       "_view_count": null,
       "_view_module": "@jupyter-widgets/base",
       "_view_module_version": "1.2.0",
       "_view_name": "LayoutView",
       "align_content": null,
       "align_items": null,
       "align_self": null,
       "border": null,
       "bottom": null,
       "display": "none",
       "flex": null,
       "flex_flow": null,
       "grid_area": null,
       "grid_auto_columns": null,
       "grid_auto_flow": null,
       "grid_auto_rows": null,
       "grid_column": null,
       "grid_gap": null,
       "grid_row": null,
       "grid_template_areas": null,
       "grid_template_columns": null,
       "grid_template_rows": null,
       "height": null,
       "justify_content": null,
       "justify_items": null,
       "left": null,
       "margin": null,
       "max_height": null,
       "max_width": null,
       "min_height": null,
       "min_width": null,
       "object_fit": null,
       "object_position": null,
       "order": null,
       "overflow": null,
       "overflow_x": null,
       "overflow_y": null,
       "padding": null,
       "right": null,
       "top": null,
       "visibility": null,
       "width": "initial"
      }
     },
     "d61915f283f94f3c8f20c249405fe7d0": {
      "model_module": "@jupyter-widgets/base",
      "model_module_version": "1.2.0",
      "model_name": "LayoutModel",
      "state": {
       "_model_module": "@jupyter-widgets/base",
       "_model_module_version": "1.2.0",
       "_model_name": "LayoutModel",
       "_view_count": null,
       "_view_module": "@jupyter-widgets/base",
       "_view_module_version": "1.2.0",
       "_view_name": "LayoutView",
       "align_content": null,
       "align_items": null,
       "align_self": null,
       "border": null,
       "bottom": null,
       "display": null,
       "flex": null,
       "flex_flow": null,
       "grid_area": null,
       "grid_auto_columns": null,
       "grid_auto_flow": null,
       "grid_auto_rows": null,
       "grid_column": null,
       "grid_gap": null,
       "grid_row": null,
       "grid_template_areas": null,
       "grid_template_columns": null,
       "grid_template_rows": null,
       "height": null,
       "justify_content": null,
       "justify_items": null,
       "left": null,
       "margin": null,
       "max_height": null,
       "max_width": null,
       "min_height": null,
       "min_width": null,
       "object_fit": null,
       "object_position": null,
       "order": null,
       "overflow": null,
       "overflow_x": null,
       "overflow_y": null,
       "padding": null,
       "right": null,
       "top": null,
       "visibility": null,
       "width": "180px"
      }
     },
     "dff9e1fa402849828822745416bcc568": {
      "model_module": "@jupyter-widgets/base",
      "model_module_version": "1.2.0",
      "model_name": "LayoutModel",
      "state": {
       "_model_module": "@jupyter-widgets/base",
       "_model_module_version": "1.2.0",
       "_model_name": "LayoutModel",
       "_view_count": null,
       "_view_module": "@jupyter-widgets/base",
       "_view_module_version": "1.2.0",
       "_view_name": "LayoutView",
       "align_content": null,
       "align_items": null,
       "align_self": null,
       "border": null,
       "bottom": null,
       "display": null,
       "flex": null,
       "flex_flow": null,
       "grid_area": null,
       "grid_auto_columns": null,
       "grid_auto_flow": null,
       "grid_auto_rows": null,
       "grid_column": null,
       "grid_gap": null,
       "grid_row": null,
       "grid_template_areas": null,
       "grid_template_columns": null,
       "grid_template_rows": null,
       "height": null,
       "justify_content": null,
       "justify_items": null,
       "left": null,
       "margin": null,
       "max_height": null,
       "max_width": null,
       "min_height": null,
       "min_width": null,
       "object_fit": null,
       "object_position": null,
       "order": null,
       "overflow": null,
       "overflow_x": null,
       "overflow_y": null,
       "padding": null,
       "right": null,
       "top": null,
       "visibility": null,
       "width": null
      }
     },
     "e2e54106711b4c8d8bd8e023c7083302": {
      "model_module": "@jupyter-widgets/controls",
      "model_module_version": "1.5.0",
      "model_name": "ButtonModel",
      "state": {
       "_dom_classes": [],
       "_model_module": "@jupyter-widgets/controls",
       "_model_module_version": "1.5.0",
       "_model_name": "ButtonModel",
       "_view_count": null,
       "_view_module": "@jupyter-widgets/controls",
       "_view_module_version": "1.5.0",
       "_view_name": "ButtonView",
       "button_style": "",
       "description": "Profile",
       "disabled": false,
       "icon": "",
       "layout": "IPY_MODEL_c72c11a2cb3a451b827f6768b37cb00c",
       "style": "IPY_MODEL_c919d7242e0b44c4b8cb1d1d33a265e1",
       "tooltip": ""
      }
     },
     "e4141fdc920f45d98f698703549652c6": {
      "model_module": "@jupyter-widgets/controls",
      "model_module_version": "1.5.0",
      "model_name": "ButtonModel",
      "state": {
       "_dom_classes": [],
       "_model_module": "@jupyter-widgets/controls",
       "_model_module_version": "1.5.0",
       "_model_name": "ButtonModel",
       "_view_count": null,
       "_view_module": "@jupyter-widgets/controls",
       "_view_module_version": "1.5.0",
       "_view_name": "ButtonView",
       "button_style": "",
       "description": "Profile",
       "disabled": false,
       "icon": "",
       "layout": "IPY_MODEL_ec239eb59cdf43cb96af4f0df93e7c1b",
       "style": "IPY_MODEL_938239bad7ce459ca33f456a7eab6c80",
       "tooltip": ""
      }
     },
     "e6c0e28a26e845fa87e9be9ace008465": {
      "model_module": "@jupyter-widgets/base",
      "model_module_version": "1.2.0",
      "model_name": "LayoutModel",
      "state": {
       "_model_module": "@jupyter-widgets/base",
       "_model_module_version": "1.2.0",
       "_model_name": "LayoutModel",
       "_view_count": null,
       "_view_module": "@jupyter-widgets/base",
       "_view_module_version": "1.2.0",
       "_view_name": "LayoutView",
       "align_content": null,
       "align_items": null,
       "align_self": null,
       "border": null,
       "bottom": null,
       "display": null,
       "flex": null,
       "flex_flow": null,
       "grid_area": null,
       "grid_auto_columns": null,
       "grid_auto_flow": null,
       "grid_auto_rows": null,
       "grid_column": null,
       "grid_gap": null,
       "grid_row": null,
       "grid_template_areas": null,
       "grid_template_columns": null,
       "grid_template_rows": null,
       "height": null,
       "justify_content": null,
       "justify_items": null,
       "left": null,
       "margin": null,
       "max_height": null,
       "max_width": null,
       "min_height": null,
       "min_width": null,
       "object_fit": null,
       "object_position": null,
       "order": null,
       "overflow": null,
       "overflow_x": null,
       "overflow_y": null,
       "padding": null,
       "right": null,
       "top": null,
       "visibility": null,
       "width": "60px"
      }
     },
     "ec239eb59cdf43cb96af4f0df93e7c1b": {
      "model_module": "@jupyter-widgets/base",
      "model_module_version": "1.2.0",
      "model_name": "LayoutModel",
      "state": {
       "_model_module": "@jupyter-widgets/base",
       "_model_module_version": "1.2.0",
       "_model_name": "LayoutModel",
       "_view_count": null,
       "_view_module": "@jupyter-widgets/base",
       "_view_module_version": "1.2.0",
       "_view_name": "LayoutView",
       "align_content": null,
       "align_items": null,
       "align_self": null,
       "border": null,
       "bottom": null,
       "display": "none",
       "flex": null,
       "flex_flow": null,
       "grid_area": null,
       "grid_auto_columns": null,
       "grid_auto_flow": null,
       "grid_auto_rows": null,
       "grid_column": null,
       "grid_gap": null,
       "grid_row": null,
       "grid_template_areas": null,
       "grid_template_columns": null,
       "grid_template_rows": null,
       "height": null,
       "justify_content": null,
       "justify_items": null,
       "left": null,
       "margin": null,
       "max_height": null,
       "max_width": null,
       "min_height": null,
       "min_width": null,
       "object_fit": null,
       "object_position": null,
       "order": null,
       "overflow": null,
       "overflow_x": null,
       "overflow_y": null,
       "padding": null,
       "right": null,
       "top": null,
       "visibility": null,
       "width": "initial"
      }
     },
     "ec5f50b40ad5477fba7dbd09d0170740": {
      "model_module": "@jupyter-widgets/base",
      "model_module_version": "1.2.0",
      "model_name": "LayoutModel",
      "state": {
       "_model_module": "@jupyter-widgets/base",
       "_model_module_version": "1.2.0",
       "_model_name": "LayoutModel",
       "_view_count": null,
       "_view_module": "@jupyter-widgets/base",
       "_view_module_version": "1.2.0",
       "_view_name": "LayoutView",
       "align_content": null,
       "align_items": null,
       "align_self": null,
       "border": null,
       "bottom": null,
       "display": null,
       "flex": null,
       "flex_flow": null,
       "grid_area": null,
       "grid_auto_columns": null,
       "grid_auto_flow": null,
       "grid_auto_rows": null,
       "grid_column": null,
       "grid_gap": null,
       "grid_row": null,
       "grid_template_areas": null,
       "grid_template_columns": null,
       "grid_template_rows": null,
       "height": null,
       "justify_content": null,
       "justify_items": null,
       "left": null,
       "margin": null,
       "max_height": null,
       "max_width": null,
       "min_height": null,
       "min_width": null,
       "object_fit": null,
       "object_position": null,
       "order": null,
       "overflow": null,
       "overflow_x": null,
       "overflow_y": null,
       "padding": null,
       "right": null,
       "top": null,
       "visibility": null,
       "width": "200px"
      }
     },
     "ed023b7d85e74b4ab717536928a9304b": {
      "model_module": "@jupyter-widgets/controls",
      "model_module_version": "1.5.0",
      "model_name": "IntSliderModel",
      "state": {
       "_dom_classes": [],
       "_model_module": "@jupyter-widgets/controls",
       "_model_module_version": "1.5.0",
       "_model_name": "IntSliderModel",
       "_view_count": null,
       "_view_module": "@jupyter-widgets/controls",
       "_view_module_version": "1.5.0",
       "_view_name": "IntSliderView",
       "continuous_update": true,
       "description": "",
       "description_tooltip": null,
       "disabled": false,
       "layout": "IPY_MODEL_5be8dbb3945f483a8772e96a7778574c",
       "max": 499,
       "min": 0,
       "orientation": "horizontal",
       "readout": false,
       "readout_format": "d",
       "step": 1,
       "style": "IPY_MODEL_09adacf9913841a4ae19655349567b90",
       "value": 0
      }
     },
     "f065836420d94f378c099176f223260f": {
      "model_module": "@jupyter-widgets/controls",
      "model_module_version": "1.5.0",
      "model_name": "CheckboxModel",
      "state": {
       "_dom_classes": [],
       "_model_module": "@jupyter-widgets/controls",
       "_model_module_version": "1.5.0",
       "_model_name": "CheckboxModel",
       "_view_count": null,
       "_view_module": "@jupyter-widgets/controls",
       "_view_module_version": "1.5.0",
       "_view_name": "CheckboxView",
       "description": "Continuous update",
       "description_tooltip": null,
       "disabled": false,
       "indent": false,
       "layout": "IPY_MODEL_ff93601916f6450aba87956f9ad826cf",
       "style": "IPY_MODEL_66c602ea3b4e43788b6d1840c740d70d",
       "value": true
      }
     },
     "f43d8743ea1d467185334e21fcd62bd3": {
      "model_module": "@jupyter-widgets/controls",
      "model_module_version": "1.5.0",
      "model_name": "CheckboxModel",
      "state": {
       "_dom_classes": [],
       "_model_module": "@jupyter-widgets/controls",
       "_model_module_version": "1.5.0",
       "_model_name": "CheckboxModel",
       "_view_count": null,
       "_view_module": "@jupyter-widgets/controls",
       "_view_module_version": "1.5.0",
       "_view_name": "CheckboxView",
       "description": "Continuous update",
       "description_tooltip": null,
       "disabled": false,
       "indent": false,
       "layout": "IPY_MODEL_6de79c9ea1ab4a47889156db57f8ea73",
       "style": "IPY_MODEL_c61a4144a6cb41228ca39bca4a3dd518",
       "value": true
      }
     },
     "fc7b7533330047aabe031ba29e994dff": {
      "model_module": "@jupyter-widgets/controls",
      "model_module_version": "1.5.0",
      "model_name": "SliderStyleModel",
      "state": {
       "_model_module": "@jupyter-widgets/controls",
       "_model_module_version": "1.5.0",
       "_model_name": "SliderStyleModel",
       "_view_count": null,
       "_view_module": "@jupyter-widgets/base",
       "_view_module_version": "1.2.0",
       "_view_name": "StyleView",
       "description_width": "initial",
       "handle_color": null
      }
     },
     "fe35aba3cad94058a30345f670bc1f49": {
      "model_module": "@jupyter-widgets/controls",
      "model_module_version": "1.5.0",
      "model_name": "IntSliderModel",
      "state": {
       "_dom_classes": [],
       "_model_module": "@jupyter-widgets/controls",
       "_model_module_version": "1.5.0",
       "_model_name": "IntSliderModel",
       "_view_count": null,
       "_view_module": "@jupyter-widgets/controls",
       "_view_module_version": "1.5.0",
       "_view_name": "IntSliderView",
       "continuous_update": true,
       "description": "",
       "description_tooltip": null,
       "disabled": false,
       "layout": "IPY_MODEL_ec5f50b40ad5477fba7dbd09d0170740",
       "max": 407,
       "min": 0,
       "orientation": "horizontal",
       "readout": false,
       "readout_format": "d",
       "step": 1,
       "style": "IPY_MODEL_5f3ddcb96749454380c5241cfd9a7aaa",
       "value": 0
      }
     },
     "ff93601916f6450aba87956f9ad826cf": {
      "model_module": "@jupyter-widgets/base",
      "model_module_version": "1.2.0",
      "model_name": "LayoutModel",
      "state": {
       "_model_module": "@jupyter-widgets/base",
       "_model_module_version": "1.2.0",
       "_model_name": "LayoutModel",
       "_view_count": null,
       "_view_module": "@jupyter-widgets/base",
       "_view_module_version": "1.2.0",
       "_view_name": "LayoutView",
       "align_content": null,
       "align_items": null,
       "align_self": null,
       "border": null,
       "bottom": null,
       "display": null,
       "flex": null,
       "flex_flow": null,
       "grid_area": null,
       "grid_auto_columns": null,
       "grid_auto_flow": null,
       "grid_auto_rows": null,
       "grid_column": null,
       "grid_gap": null,
       "grid_row": null,
       "grid_template_areas": null,
       "grid_template_columns": null,
       "grid_template_rows": null,
       "height": null,
       "justify_content": null,
       "justify_items": null,
       "left": null,
       "margin": null,
       "max_height": null,
       "max_width": null,
       "min_height": null,
       "min_width": null,
       "object_fit": null,
       "object_position": null,
       "order": null,
       "overflow": null,
       "overflow_x": null,
       "overflow_y": null,
       "padding": null,
       "right": null,
       "top": null,
       "visibility": null,
       "width": "20px"
      }
     }
    },
    "version_major": 2,
    "version_minor": 0
   }
  }
 },
 "nbformat": 4,
 "nbformat_minor": 5
}
