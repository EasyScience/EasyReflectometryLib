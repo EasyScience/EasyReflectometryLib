{
 "cells": [
  {
   "cell_type": "markdown",
   "id": "580b9e5b-6398-42f4-91e8-b51e5759e7f0",
   "metadata": {},
   "source": [
    "# Using the MaterialMixture\n",
    "\n",
    "In the [first tutorial](./simple_fitting.html), we looked at a straight forward example of a polymer film at the solid/liquid interface. \n",
    "To analyse this data, we constructed a model with two layers, one SiO<sub>2</sub> and one of the polymer film, and when the analysis was performed, the scattering length density of the polymer film was allowed to vary to find an optimum value. \n",
    "However, it is likely that this scattering length density is in fact a compound value arising from the mixture of the polymer with some D<sub>2</sub>O intercalated. \n",
    "Therefore, if, for example, the surface covereage of the polymer was known, it may be possible to determine the scattering length density alone. \n",
    "Of course, this could be calculated from the optimal scattering length density for the film, but it is more intuitive to include this in our modelling approach. \n",
    "Here, we will show how to use the `MaterialMixture` [type](./materials_options.html#materialmixture) to perform this analysis. "
   ]
  },
  {
   "cell_type": "code",
   "execution_count": 1,
   "id": "88c86e82-88dd-4c2d-ad99-826f409ec7b7",
   "metadata": {
    "execution": {
     "iopub.execute_input": "2022-02-07T14:14:45.777732Z",
     "iopub.status.busy": "2022-02-07T14:14:45.777111Z",
     "iopub.status.idle": "2022-02-07T14:14:48.002042Z",
     "shell.execute_reply": "2022-02-07T14:14:48.000874Z"
    }
   },
   "outputs": [],
   "source": [
    "import numpy as np\n",
    "import scipp as sc\n",
    "import EasyReflectometry\n",
    "import refnx\n",
    "from EasyReflectometry.data import load\n",
    "from EasyReflectometry.sample import Layer, Structure\n",
    "from EasyReflectometry.sample.material import Material, MaterialMixture\n",
    "from EasyReflectometry.sample.item import MultiLayer\n",
    "from EasyReflectometry.experiment.model import Model\n",
    "from EasyReflectometry.interface import InterfaceFactory as Interface\n",
    "from EasyReflectometry.fitting import Fitter\n",
    "from EasyReflectometry.plot import plot"
   ]
  },
  {
   "cell_type": "markdown",
   "id": "ac56f7a4-5a1c-44c4-af2e-6c5918f89ee3",
   "metadata": {},
   "source": [
    "Showing the version of specific softare for reproducibility"
   ]
  },
  {
   "cell_type": "code",
   "execution_count": 2,
   "id": "d40fed9d-5888-4bee-b014-0d6430eea8c0",
   "metadata": {
    "execution": {
     "iopub.execute_input": "2022-02-07T14:14:48.008819Z",
     "iopub.status.busy": "2022-02-07T14:14:48.008186Z",
     "iopub.status.idle": "2022-02-07T14:14:48.010690Z",
     "shell.execute_reply": "2022-02-07T14:14:48.011101Z"
    }
   },
   "outputs": [
    {
     "name": "stdout",
     "output_type": "stream",
     "text": [
      "numpy: 1.21.5\n",
      "scipp: 0.11.1\n",
      "EasyReflectometry: 0.0.1\n",
      "refnx: 0.1.25\n"
     ]
    }
   ],
   "source": [
    "print(f'numpy: {np.__version__}')\n",
    "print(f'scipp: {sc.__version__}')\n",
    "print(f'EasyReflectometry: {EasyReflectometry.__version__}')\n",
    "print(f'refnx: {refnx.__version__}')"
   ]
  },
  {
   "cell_type": "markdown",
   "id": "3ac19f8b-099d-4b19-8d37-7dd651a25949",
   "metadata": {},
   "source": [
    "For information about the data being read in and the details of the model see [the previous tutorial](./simple_fitting.html). \n",
    "We will gloss over these details here. "
   ]
  },
  {
   "cell_type": "code",
   "execution_count": 3,
   "id": "a95a39dd-d0eb-4029-9dc8-41e6e7918f66",
   "metadata": {
    "execution": {
     "iopub.execute_input": "2022-02-07T14:14:48.014892Z",
     "iopub.status.busy": "2022-02-07T14:14:48.013173Z",
     "iopub.status.idle": "2022-02-07T14:14:48.028308Z",
     "shell.execute_reply": "2022-02-07T14:14:48.027787Z"
    }
   },
   "outputs": [],
   "source": [
    "data = load('_static/example.ort')"
   ]
  },
  {
   "cell_type": "markdown",
   "id": "01053a43-967c-4ce9-ae3f-92153eadb647",
   "metadata": {},
   "source": [
    "## Constructing the model\n",
    "\n",
    "Previously the model consisted of four materials, we will construct those again here. "
   ]
  },
  {
   "cell_type": "code",
   "execution_count": 4,
   "id": "60e5a3c5-58a8-429a-a446-a115f489af0f",
   "metadata": {
    "execution": {
     "iopub.execute_input": "2022-02-07T14:14:48.050990Z",
     "iopub.status.busy": "2022-02-07T14:14:48.042363Z",
     "iopub.status.idle": "2022-02-07T14:14:48.052892Z",
     "shell.execute_reply": "2022-02-07T14:14:48.053360Z"
    }
   },
   "outputs": [],
   "source": [
    "si = Material.from_pars(2.07, 0, 'Si')\n",
    "sio2 = Material.from_pars(3.47, 0, 'SiO2')\n",
    "film = Material.from_pars(2.0, 0, 'Film')\n",
    "d2o = Material.from_pars(6.36, 0, 'D2O')"
   ]
  },
  {
   "cell_type": "markdown",
   "id": "64c79212-98f8-472c-8bb2-afbc09d7fe98",
   "metadata": {},
   "source": [
    "However, now we will construct a component object (for type `MaterialMixture`), based on the knowledge that there is a 75 % surface coverage of the silicon block by the polymer film. \n",
    "Note that this object takes the two materials and then the fractional amount of the second material in the first."
   ]
  },
  {
   "cell_type": "code",
   "execution_count": 5,
   "id": "f2b910db-530f-49c5-907a-67712ba939d2",
   "metadata": {
    "execution": {
     "iopub.execute_input": "2022-02-07T14:14:48.066948Z",
     "iopub.status.busy": "2022-02-07T14:14:48.065568Z",
     "iopub.status.idle": "2022-02-07T14:14:48.067636Z",
     "shell.execute_reply": "2022-02-07T14:14:48.068063Z"
    }
   },
   "outputs": [],
   "source": [
    "solvated_film = MaterialMixture.from_pars(film, d2o, 0.25, name='Solvated Film')"
   ]
  },
  {
   "cell_type": "markdown",
   "id": "e77ee2d7-9670-4791-b905-2ce92c9e20d5",
   "metadata": {},
   "source": [
    "So for the `solvated_film` object, the scattering length density is calculated as,\n",
    "\n",
    "$$ \\rho_{\\mathrm{solv film}} = (1-\\phi)\\rho_{\\mathrm{film}} + \\phi\\rho_{\\mathrm{D}_2\\mathrm{O}}, $$\n",
    "\n",
    "where the scattering length densities are given with $\\rho$ and the solvation fraction with $\\phi$. \n",
    "This means that when we investigate the `solvated_film` object, the scattering length density will be 3.09e-6 Å<sup>-2</sup>"
   ]
  },
  {
   "cell_type": "code",
   "execution_count": 6,
   "id": "9762616d-6b1d-4045-8aaf-134b72695a1a",
   "metadata": {
    "execution": {
     "iopub.execute_input": "2022-02-07T14:14:48.079599Z",
     "iopub.status.busy": "2022-02-07T14:14:48.075460Z",
     "iopub.status.idle": "2022-02-07T14:14:48.083023Z",
     "shell.execute_reply": "2022-02-07T14:14:48.083571Z"
    }
   },
   "outputs": [
    {
     "data": {
      "text/plain": [
       "Solvated Film:\n",
       "  fraction: 0.25\n",
       "  sld: 3.09e-6 1 / angstrom ** 2\n",
       "  isld: 0.0e-6 1 / angstrom ** 2\n",
       "  material1:\n",
       "    Film:\n",
       "      sld: 2.000e-6 1 / angstrom ** 2\n",
       "      isld: 0.000e-6 1 / angstrom ** 2\n",
       "  material2:\n",
       "    D2O:\n",
       "      sld: 6.360e-6 1 / angstrom ** 2\n",
       "      isld: 0.000e-6 1 / angstrom ** 2"
      ]
     },
     "execution_count": 6,
     "metadata": {},
     "output_type": "execute_result"
    }
   ],
   "source": [
    "solvated_film"
   ]
  },
  {
   "cell_type": "markdown",
   "id": "0db4114b-3cfb-4d8e-a40e-3d86f869ab5f",
   "metadata": {},
   "source": [
    "Now, we can construct our layers, structure and model. "
   ]
  },
  {
   "cell_type": "code",
   "execution_count": 7,
   "id": "f1ea2e41-f50e-4fbb-989f-aecc0e3e9860",
   "metadata": {
    "execution": {
     "iopub.execute_input": "2022-02-07T14:14:48.109393Z",
     "iopub.status.busy": "2022-02-07T14:14:48.107906Z",
     "iopub.status.idle": "2022-02-07T14:14:48.110122Z",
     "shell.execute_reply": "2022-02-07T14:14:48.110737Z"
    }
   },
   "outputs": [],
   "source": [
    "si_layer = Layer.from_pars(si, 0, 0, 'Si layer')\n",
    "sio2_layer = Layer.from_pars(sio2, 30, 3, 'SiO2 layer')\n",
    "solvated_film_layer = Layer.from_pars(solvated_film, 250, 3, 'Film Layer')\n",
    "superphase = Layer.from_pars(d2o, 0, 3, 'D2O Subphase')\n",
    "\n",
    "subphase = MultiLayer.from_pars([si_layer, sio2_layer], name='Si/SiO2 Superphase')\n",
    "structure = Structure.from_pars(subphase, solvated_film_layer, superphase, name='Film Structure')\n",
    "model = Model.from_pars(structure, 1, 1e-6, 0.02, 'Film Model')"
   ]
  },
  {
   "cell_type": "markdown",
   "id": "902042ee-0b7d-4515-9e4d-f7d34bae85af",
   "metadata": {},
   "source": [
    "## Setting varying parameters\n",
    "\n",
    "Previously, the scattering length density of the `film_layer` was allowed to vary (in addition to other parameters). \n",
    "This time, the scattering length density will for the `film` be varied, leading to a change in the `solvated_film_layer` scattering length density. \n",
    "We show this in the four code cells below. "
   ]
  },
  {
   "cell_type": "code",
   "execution_count": 8,
   "id": "f99fba34-268d-40ee-a74d-982bb2805b11",
   "metadata": {
    "execution": {
     "iopub.execute_input": "2022-02-07T14:14:48.117164Z",
     "iopub.status.busy": "2022-02-07T14:14:48.115947Z",
     "iopub.status.idle": "2022-02-07T14:14:48.117909Z",
     "shell.execute_reply": "2022-02-07T14:14:48.118388Z"
    }
   },
   "outputs": [],
   "source": [
    "film.sld.value = 2.0"
   ]
  },
  {
   "cell_type": "code",
   "execution_count": 9,
   "id": "d361f9ba-e0a3-46a1-890e-b8f57ac2ada0",
   "metadata": {
    "execution": {
     "iopub.execute_input": "2022-02-07T14:14:48.124319Z",
     "iopub.status.busy": "2022-02-07T14:14:48.122940Z",
     "iopub.status.idle": "2022-02-07T14:14:48.126447Z",
     "shell.execute_reply": "2022-02-07T14:14:48.125860Z"
    }
   },
   "outputs": [
    {
     "name": "stdout",
     "output_type": "stream",
     "text": [
      "<Parameter 'sld': 3.09+/-0 1/Å² (fixed), bounds=[-inf:inf]>\n"
     ]
    }
   ],
   "source": [
    "print(solvated_film_layer.material.sld)"
   ]
  },
  {
   "cell_type": "code",
   "execution_count": 10,
   "id": "0e872a4d-f468-4e5a-8938-9cb50d16c460",
   "metadata": {
    "execution": {
     "iopub.execute_input": "2022-02-07T14:14:48.133354Z",
     "iopub.status.busy": "2022-02-07T14:14:48.131897Z",
     "iopub.status.idle": "2022-02-07T14:14:48.133966Z",
     "shell.execute_reply": "2022-02-07T14:14:48.134426Z"
    }
   },
   "outputs": [],
   "source": [
    "film.sld.value = 2.5"
   ]
  },
  {
   "cell_type": "code",
   "execution_count": 11,
   "id": "1c84d8d9-6f94-4b88-9070-55e81cc57858",
   "metadata": {
    "execution": {
     "iopub.execute_input": "2022-02-07T14:14:48.139912Z",
     "iopub.status.busy": "2022-02-07T14:14:48.138643Z",
     "iopub.status.idle": "2022-02-07T14:14:48.141849Z",
     "shell.execute_reply": "2022-02-07T14:14:48.141314Z"
    }
   },
   "outputs": [
    {
     "name": "stdout",
     "output_type": "stream",
     "text": [
      "<Parameter 'sld': 3.465+/-0 1/Å² (fixed), bounds=[-inf:inf]>\n"
     ]
    }
   ],
   "source": [
    "print(solvated_film_layer.material.sld)"
   ]
  },
  {
   "cell_type": "markdown",
   "id": "6dec0a9c-2d43-4a93-b616-2223edf357ef",
   "metadata": {},
   "source": [
    "The parameter bounds are then set as follows. "
   ]
  },
  {
   "cell_type": "code",
   "execution_count": 12,
   "id": "79c3dc7a-b4cd-4eea-b098-08c962d747e6",
   "metadata": {
    "execution": {
     "iopub.execute_input": "2022-02-07T14:14:48.150324Z",
     "iopub.status.busy": "2022-02-07T14:14:48.149775Z",
     "iopub.status.idle": "2022-02-07T14:14:48.152216Z",
     "shell.execute_reply": "2022-02-07T14:14:48.151678Z"
    }
   },
   "outputs": [],
   "source": [
    "# Thicknesses\n",
    "sio2_layer.thickness.bounds = (15, 50)\n",
    "solvated_film_layer.thickness.bounds = (200, 300)\n",
    "# Roughnesses\n",
    "sio2_layer.roughness.bounds = (1, 15)\n",
    "solvated_film_layer.roughness.bounds = (1, 15)\n",
    "superphase.roughness.bounds = (1, 15)\n",
    "# Scattering length density\n",
    "film.sld.bounds = (0.1, 3)\n",
    "# Background\n",
    "model.background.bounds = (1e-8, 1e-5)\n",
    "# Scale\n",
    "model.scale.bounds = (0.5, 1.5)"
   ]
  },
  {
   "cell_type": "markdown",
   "id": "65fa9a7a-6bd5-4afa-9db4-a1cbcc64ca66",
   "metadata": {},
   "source": [
    "## Perform the fitting\n",
    "\n",
    "Having constructed the model and set the relevant varying parameters, we run the analysis (using the default [refnx engine](https://refnx.readthedocs.io/)). "
   ]
  },
  {
   "cell_type": "code",
   "execution_count": 13,
   "id": "3e24b615-cb32-41f8-95e5-5998072c7868",
   "metadata": {
    "execution": {
     "iopub.execute_input": "2022-02-07T14:14:48.164754Z",
     "iopub.status.busy": "2022-02-07T14:14:48.164230Z",
     "iopub.status.idle": "2022-02-07T14:14:49.073294Z",
     "shell.execute_reply": "2022-02-07T14:14:49.072044Z"
    }
   },
   "outputs": [
    {
     "name": "stderr",
     "output_type": "stream",
     "text": [
      "/opt/hostedtoolcache/Python/3.9.10/x64/lib/python3.9/site-packages/easyCore/Objects/Variable.py:216: UnitStrippedWarning: The unit of the quantity is stripped when downcasting to ndarray.\n",
      "  if value != self._value:\n",
      "/opt/hostedtoolcache/Python/3.9.10/x64/lib/python3.9/site-packages/easyCore/Utils/UndoRedo.py:460: UnitStrippedWarning: The unit of the quantity is stripped when downcasting to ndarray.\n",
      "  if new_value == old_value:\n"
     ]
    }
   ],
   "source": [
    "interface = Interface()\n",
    "model.interface = interface\n",
    "fitter = Fitter(model, interface)\n",
    "analysed = fitter.fit(data)"
   ]
  },
  {
   "cell_type": "markdown",
   "id": "0e59e732-3719-4dcd-9f11-f6bb4f76c69e",
   "metadata": {},
   "source": [
    "The model fits well to the data."
   ]
  },
  {
   "cell_type": "code",
   "execution_count": 14,
   "id": "8953f8ae-7b2d-4ef5-89f5-1da86af96ce0",
   "metadata": {
    "execution": {
     "iopub.execute_input": "2022-02-07T14:14:49.091257Z",
     "iopub.status.busy": "2022-02-07T14:14:49.086898Z",
     "iopub.status.idle": "2022-02-07T14:14:49.984750Z",
     "shell.execute_reply": "2022-02-07T14:14:49.984234Z"
    }
   },
   "outputs": [
    {
     "data": {
      "application/vnd.jupyter.widget-view+json": {
       "model_id": "870e6d079be94b9eb2db6db479805e09",
       "version_major": 2,
       "version_minor": 0
      },
      "image/png": "[encoded data removed]",
      "text/html": [
       "\n",
       "            <div style=\"display: inline-block;\">\n",
       "                <div class=\"jupyter-widgets widget-label\" style=\"text-align: center;\">\n",
       "                    Figure\n",
       "                </div>\n",
       "                <img src='data:image/png;base64,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' width=500.0/>\n",
       "            </div>\n",
       "        "
      ],
      "text/plain": [
       "Canvas(toolbar=Toolbar(toolitems=[('Home', 'Reset original view', 'home', 'home'), ('Back', 'Back to previous …"
      ]
     },
     "execution_count": 14,
     "metadata": {},
     "output_type": "execute_result"
    }
   ],
   "source": [
    "plot(analysed)"
   ]
  },
  {
   "cell_type": "markdown",
   "id": "80817366-363b-480b-bcfe-9ca063d3502e",
   "metadata": {},
   "source": [
    "We can probe the `MaterialMixture` object to investigate the scattering length density of the polymer film alone."
   ]
  },
  {
   "cell_type": "code",
   "execution_count": 15,
   "id": "1a87d47b-9508-4b1b-845d-0a5a8cf266d8",
   "metadata": {
    "execution": {
     "iopub.execute_input": "2022-02-07T14:14:49.991058Z",
     "iopub.status.busy": "2022-02-07T14:14:49.990533Z",
     "iopub.status.idle": "2022-02-07T14:14:49.995103Z",
     "shell.execute_reply": "2022-02-07T14:14:49.994664Z"
    }
   },
   "outputs": [
    {
     "data": {
      "text/plain": [
       "Solvated Film:\n",
       "  fraction: 0.25\n",
       "  sld: 2.3598696143639337e-6 1 / angstrom ** 2\n",
       "  isld: 0.0e-6 1 / angstrom ** 2\n",
       "  material1:\n",
       "    Film:\n",
       "      sld: 1.026e-6 1 / angstrom ** 2\n",
       "      isld: 0.000e-6 1 / angstrom ** 2\n",
       "  material2:\n",
       "    D2O:\n",
       "      sld: 6.360e-6 1 / angstrom ** 2\n",
       "      isld: 0.000e-6 1 / angstrom ** 2"
      ]
     },
     "execution_count": 15,
     "metadata": {},
     "output_type": "execute_result"
    }
   ],
   "source": [
    "solvated_film"
   ]
  },
  {
   "cell_type": "markdown",
   "id": "0e2fbca8-3717-4fee-8854-f081dd79c4c3",
   "metadata": {},
   "source": [
    "The total scattering length density is 2.360e-6 Å<sup>-2</sup> (which is the same as the result from the [previous tutorial](./simple_fitting.html)).\n",
    "We can see that for a surface coverage of the polymer of 75 % the scattering length density for the polymer film alone is 1.026e-6 Å<sup>-2</sup>."
   ]
  }
 ],
 "metadata": {
  "kernelspec": {
   "display_name": "Python 3 (ipykernel)",
   "language": "python",
   "name": "python3"
  },
  "language_info": {
   "codemirror_mode": {
    "name": "ipython",
    "version": 3
   },
   "file_extension": ".py",
   "mimetype": "text/x-python",
   "name": "python",
   "nbconvert_exporter": "python",
   "pygments_lexer": "ipython3",
   "version": "3.9.10"
  },
  "widgets": {
   "application/vnd.jupyter.widget-state+json": {
    "state": {
     "036f671b634f4fc393d31bd94a4e2cf4": {
      "model_module": "@jupyter-widgets/controls",
      "model_module_version": "1.5.0",
      "model_name": "SliderStyleModel",
      "state": {
       "_model_module": "@jupyter-widgets/controls",
       "_model_module_version": "1.5.0",
       "_model_name": "SliderStyleModel",
       "_view_count": null,
       "_view_module": "@jupyter-widgets/base",
       "_view_module_version": "1.2.0",
       "_view_name": "StyleView",
       "description_width": "",
       "handle_color": null
      }
     },
     "04ce46ef6be64ec5a6f5f4d2364003d4": {
      "model_module": "@jupyter-widgets/controls",
      "model_module_version": "1.5.0",
      "model_name": "IntSliderModel",
      "state": {
       "_dom_classes": [],
       "_model_module": "@jupyter-widgets/controls",
       "_model_module_version": "1.5.0",
       "_model_name": "IntSliderModel",
       "_view_count": null,
       "_view_module": "@jupyter-widgets/controls",
       "_view_module_version": "1.5.0",
       "_view_name": "IntSliderView",
       "continuous_update": false,
       "description": "Thickness",
       "description_tooltip": null,
       "disabled": false,
       "layout": "IPY_MODEL_664dcf6087ea49af94c5ceb6f126f7b2",
       "max": 500,
       "min": 1,
       "orientation": "horizontal",
       "readout": false,
       "readout_format": "d",
       "step": 1,
       "style": "IPY_MODEL_cfc53b587d8f4be1b5cc8a62d403e4a5",
       "value": 1
      }
     },
     "05331f0cadf94cc1b64f52820464cbe5": {
      "model_module": "@jupyter-widgets/controls",
      "model_module_version": "1.5.0",
      "model_name": "LabelModel",
      "state": {
       "_dom_classes": [],
       "_model_module": "@jupyter-widgets/controls",
       "_model_module_version": "1.5.0",
       "_model_name": "LabelModel",
       "_view_count": null,
       "_view_module": "@jupyter-widgets/controls",
       "_view_module_version": "1.5.0",
       "_view_name": "LabelView",
       "description": "",
       "description_tooltip": null,
       "layout": "IPY_MODEL_1dfe5666c6ed45fe93ad82064b8c90b0",
       "placeholder": "​",
       "style": "IPY_MODEL_20feb095eec74fd5902b04241ad8a9d2",
       "value": " [1/Å]"
      }
     },
     "06aeade7ad2344cd95821e2f4ff5af02": {
      "model_module": "@jupyter-widgets/base",
      "model_module_version": "1.2.0",
      "model_name": "LayoutModel",
      "state": {
       "_model_module": "@jupyter-widgets/base",
       "_model_module_version": "1.2.0",
       "_model_name": "LayoutModel",
       "_view_count": null,
       "_view_module": "@jupyter-widgets/base",
       "_view_module_version": "1.2.0",
       "_view_name": "LayoutView",
       "align_content": null,
       "align_items": null,
       "align_self": null,
       "border": null,
       "bottom": null,
       "display": null,
       "flex": null,
       "flex_flow": null,
       "grid_area": null,
       "grid_auto_columns": null,
       "grid_auto_flow": null,
       "grid_auto_rows": null,
       "grid_column": null,
       "grid_gap": null,
       "grid_row": null,
       "grid_template_areas": null,
       "grid_template_columns": null,
       "grid_template_rows": null,
       "height": null,
       "justify_content": null,
       "justify_items": null,
       "left": null,
       "margin": null,
       "max_height": null,
       "max_width": null,
       "min_height": null,
       "min_width": null,
       "object_fit": null,
       "object_position": null,
       "order": null,
       "overflow": null,
       "overflow_x": null,
       "overflow_y": null,
       "padding": null,
       "right": null,
       "top": null,
       "visibility": null,
       "width": "20px"
      }
     },
     "0720161ad2a94ef580ca56fb199fe772": {
      "model_module": "@jupyter-widgets/controls",
      "model_module_version": "1.5.0",
      "model_name": "SliderStyleModel",
      "state": {
       "_model_module": "@jupyter-widgets/controls",
       "_model_module_version": "1.5.0",
       "_model_name": "SliderStyleModel",
       "_view_count": null,
       "_view_module": "@jupyter-widgets/base",
       "_view_module_version": "1.2.0",
       "_view_name": "StyleView",
       "description_width": "",
       "handle_color": null
      }
     },
     "0ac69f59100148e28a5e7432ddd2d9b4": {
      "model_module": "@jupyter-widgets/base",
      "model_module_version": "1.2.0",
      "model_name": "LayoutModel",
      "state": {
       "_model_module": "@jupyter-widgets/base",
       "_model_module_version": "1.2.0",
       "_model_name": "LayoutModel",
       "_view_count": null,
       "_view_module": "@jupyter-widgets/base",
       "_view_module_version": "1.2.0",
       "_view_name": "LayoutView",
       "align_content": null,
       "align_items": null,
       "align_self": null,
       "border": null,
       "bottom": null,
       "display": null,
       "flex": null,
       "flex_flow": null,
       "grid_area": null,
       "grid_auto_columns": null,
       "grid_auto_flow": null,
       "grid_auto_rows": null,
       "grid_column": null,
       "grid_gap": null,
       "grid_row": null,
       "grid_template_areas": null,
       "grid_template_columns": null,
       "grid_template_rows": null,
       "height": null,
       "justify_content": null,
       "justify_items": null,
       "left": null,
       "margin": null,
       "max_height": null,
       "max_width": null,
       "min_height": null,
       "min_width": null,
       "object_fit": null,
       "object_position": null,
       "order": null,
       "overflow": null,
       "overflow_x": null,
       "overflow_y": null,
       "padding": null,
       "right": null,
       "top": null,
       "visibility": null,
       "width": "200px"
      }
     },
     "0b4d7d1bacce42fcba09a3931b2b1a93": {
      "model_module": "@jupyter-widgets/base",
      "model_module_version": "1.2.0",
      "model_name": "LayoutModel",
      "state": {
       "_model_module": "@jupyter-widgets/base",
       "_model_module_version": "1.2.0",
       "_model_name": "LayoutModel",
       "_view_count": null,
       "_view_module": "@jupyter-widgets/base",
       "_view_module_version": "1.2.0",
       "_view_name": "LayoutView",
       "align_content": null,
       "align_items": null,
       "align_self": null,
       "border": null,
       "bottom": null,
       "display": "none",
       "flex": null,
       "flex_flow": null,
       "grid_area": null,
       "grid_auto_columns": null,
       "grid_auto_flow": null,
       "grid_auto_rows": null,
       "grid_column": null,
       "grid_gap": null,
       "grid_row": null,
       "grid_template_areas": null,
       "grid_template_columns": null,
       "grid_template_rows": null,
       "height": null,
       "justify_content": null,
       "justify_items": null,
       "left": null,
       "margin": null,
       "max_height": null,
       "max_width": null,
       "min_height": null,
       "min_width": null,
       "object_fit": null,
       "object_position": null,
       "order": null,
       "overflow": null,
       "overflow_x": null,
       "overflow_y": null,
       "padding": null,
       "right": null,
       "top": null,
       "visibility": null,
       "width": "initial"
      }
     },
     "1938eb2f718d4ff39acf0826611a7222": {
      "model_module": "@jupyter-widgets/controls",
      "model_module_version": "1.5.0",
      "model_name": "SliderStyleModel",
      "state": {
       "_model_module": "@jupyter-widgets/controls",
       "_model_module_version": "1.5.0",
       "_model_name": "SliderStyleModel",
       "_view_count": null,
       "_view_module": "@jupyter-widgets/base",
       "_view_module_version": "1.2.0",
       "_view_name": "StyleView",
       "description_width": "",
       "handle_color": null
      }
     },
     "1dfe5666c6ed45fe93ad82064b8c90b0": {
      "model_module": "@jupyter-widgets/base",
      "model_module_version": "1.2.0",
      "model_name": "LayoutModel",
      "state": {
       "_model_module": "@jupyter-widgets/base",
       "_model_module_version": "1.2.0",
       "_model_name": "LayoutModel",
       "_view_count": null,
       "_view_module": "@jupyter-widgets/base",
       "_view_module_version": "1.2.0",
       "_view_name": "LayoutView",
       "align_content": null,
       "align_items": null,
       "align_self": null,
       "border": null,
       "bottom": null,
       "display": null,
       "flex": null,
       "flex_flow": null,
       "grid_area": null,
       "grid_auto_columns": null,
       "grid_auto_flow": null,
       "grid_auto_rows": null,
       "grid_column": null,
       "grid_gap": null,
       "grid_row": null,
       "grid_template_areas": null,
       "grid_template_columns": null,
       "grid_template_rows": null,
       "height": null,
       "justify_content": null,
       "justify_items": null,
       "left": null,
       "margin": null,
       "max_height": null,
       "max_width": null,
       "min_height": null,
       "min_width": null,
       "object_fit": null,
       "object_position": null,
       "order": null,
       "overflow": null,
       "overflow_x": null,
       "overflow_y": null,
       "padding": null,
       "right": null,
       "top": null,
       "visibility": null,
       "width": "60px"
      }
     },
     "1fd757fd75a5420d9a26ec30df354583": {
      "model_module": "@jupyter-widgets/base",
      "model_module_version": "1.2.0",
      "model_name": "LayoutModel",
      "state": {
       "_model_module": "@jupyter-widgets/base",
       "_model_module_version": "1.2.0",
       "_model_name": "LayoutModel",
       "_view_count": null,
       "_view_module": "@jupyter-widgets/base",
       "_view_module_version": "1.2.0",
       "_view_name": "LayoutView",
       "align_content": null,
       "align_items": null,
       "align_self": null,
       "border": null,
       "bottom": null,
       "display": null,
       "flex": null,
       "flex_flow": null,
       "grid_area": null,
       "grid_auto_columns": null,
       "grid_auto_flow": null,
       "grid_auto_rows": null,
       "grid_column": null,
       "grid_gap": null,
       "grid_row": null,
       "grid_template_areas": null,
       "grid_template_columns": null,
       "grid_template_rows": null,
       "height": null,
       "justify_content": null,
       "justify_items": null,
       "left": null,
       "margin": null,
       "max_height": null,
       "max_width": null,
       "min_height": null,
       "min_width": null,
       "object_fit": null,
       "object_position": null,
       "order": null,
       "overflow": null,
       "overflow_x": null,
       "overflow_y": null,
       "padding": null,
       "right": null,
       "top": null,
       "visibility": null,
       "width": null
      }
     },
     "20feb095eec74fd5902b04241ad8a9d2": {
      "model_module": "@jupyter-widgets/controls",
      "model_module_version": "1.5.0",
      "model_name": "DescriptionStyleModel",
      "state": {
       "_model_module": "@jupyter-widgets/controls",
       "_model_module_version": "1.5.0",
       "_model_name": "DescriptionStyleModel",
       "_view_count": null,
       "_view_module": "@jupyter-widgets/base",
       "_view_module_version": "1.2.0",
       "_view_name": "StyleView",
       "description_width": ""
      }
     },
     "282bb0f312f54d33b1046d3d80833041": {
      "model_module": "@jupyter-widgets/base",
      "model_module_version": "1.2.0",
      "model_name": "LayoutModel",
      "state": {
       "_model_module": "@jupyter-widgets/base",
       "_model_module_version": "1.2.0",
       "_model_name": "LayoutModel",
       "_view_count": null,
       "_view_module": "@jupyter-widgets/base",
       "_view_module_version": "1.2.0",
       "_view_name": "LayoutView",
       "align_content": null,
       "align_items": null,
       "align_self": null,
       "border": null,
       "bottom": null,
       "display": null,
       "flex": null,
       "flex_flow": null,
       "grid_area": null,
       "grid_auto_columns": null,
       "grid_auto_flow": null,
       "grid_auto_rows": null,
       "grid_column": null,
       "grid_gap": null,
       "grid_row": null,
       "grid_template_areas": null,
       "grid_template_columns": null,
       "grid_template_rows": null,
       "height": null,
       "justify_content": null,
       "justify_items": null,
       "left": null,
       "margin": null,
       "max_height": null,
       "max_width": null,
       "min_height": null,
       "min_width": null,
       "object_fit": null,
       "object_position": null,
       "order": null,
       "overflow": null,
       "overflow_x": null,
       "overflow_y": null,
       "padding": null,
       "right": null,
       "top": null,
       "visibility": null,
       "width": null
      }
     },
     "299049b736204728978c3c0306787d5b": {
      "model_module": "@jupyter-widgets/controls",
      "model_module_version": "1.5.0",
      "model_name": "ButtonModel",
      "state": {
       "_dom_classes": [],
       "_model_module": "@jupyter-widgets/controls",
       "_model_module_version": "1.5.0",
       "_model_name": "ButtonModel",
       "_view_count": null,
       "_view_module": "@jupyter-widgets/controls",
       "_view_module_version": "1.5.0",
       "_view_name": "ButtonView",
       "button_style": "",
       "description": "Profile",
       "disabled": false,
       "icon": "",
       "layout": "IPY_MODEL_ff513bcd4378467993cca661293a5c65",
       "style": "IPY_MODEL_6fc27e4c50c245d7a29c86498b0c64c1",
       "tooltip": ""
      }
     },
     "3353ebf067d34ccf99651f3993a7de53": {
      "model_module": "@jupyter-widgets/controls",
      "model_module_version": "1.5.0",
      "model_name": "SliderStyleModel",
      "state": {
       "_model_module": "@jupyter-widgets/controls",
       "_model_module_version": "1.5.0",
       "_model_name": "SliderStyleModel",
       "_view_count": null,
       "_view_module": "@jupyter-widgets/base",
       "_view_module_version": "1.2.0",
       "_view_name": "StyleView",
       "description_width": "initial",
       "handle_color": null
      }
     },
     "3833d844b6e4447f9b94969e7292b5fb": {
      "model_module": "@jupyter-widgets/controls",
      "model_module_version": "1.5.0",
      "model_name": "DescriptionStyleModel",
      "state": {
       "_model_module": "@jupyter-widgets/controls",
       "_model_module_version": "1.5.0",
       "_model_name": "DescriptionStyleModel",
       "_view_count": null,
       "_view_module": "@jupyter-widgets/base",
       "_view_module_version": "1.2.0",
       "_view_name": "StyleView",
       "description_width": ""
      }
     },
     "4123d29c258b480ab0cd1a4fddc44bde": {
      "model_module": "@jupyter-widgets/base",
      "model_module_version": "1.2.0",
      "model_name": "LayoutModel",
      "state": {
       "_model_module": "@jupyter-widgets/base",
       "_model_module_version": "1.2.0",
       "_model_name": "LayoutModel",
       "_view_count": null,
       "_view_module": "@jupyter-widgets/base",
       "_view_module_version": "1.2.0",
       "_view_name": "LayoutView",
       "align_content": null,
       "align_items": null,
       "align_self": null,
       "border": null,
       "bottom": null,
       "display": null,
       "flex": null,
       "flex_flow": null,
       "grid_area": null,
       "grid_auto_columns": null,
       "grid_auto_flow": null,
       "grid_auto_rows": null,
       "grid_column": null,
       "grid_gap": null,
       "grid_row": null,
       "grid_template_areas": null,
       "grid_template_columns": null,
       "grid_template_rows": null,
       "height": null,
       "justify_content": null,
       "justify_items": null,
       "left": null,
       "margin": null,
       "max_height": null,
       "max_width": null,
       "min_height": null,
       "min_width": null,
       "object_fit": null,
       "object_position": null,
       "order": null,
       "overflow": null,
       "overflow_x": null,
       "overflow_y": null,
       "padding": null,
       "right": null,
       "top": null,
       "visibility": null,
       "width": "60px"
      }
     },
     "4242b8bea7174bea91e6d632e21135fc": {
      "model_module": "@jupyter-widgets/controls",
      "model_module_version": "1.5.0",
      "model_name": "ButtonModel",
      "state": {
       "_dom_classes": [],
       "_model_module": "@jupyter-widgets/controls",
       "_model_module_version": "1.5.0",
       "_model_name": "ButtonModel",
       "_view_count": null,
       "_view_module": "@jupyter-widgets/controls",
       "_view_module_version": "1.5.0",
       "_view_name": "ButtonView",
       "button_style": "",
       "description": "Profile",
       "disabled": false,
       "icon": "",
       "layout": "IPY_MODEL_0b4d7d1bacce42fcba09a3931b2b1a93",
       "style": "IPY_MODEL_b17a2c79ed9c47ee9acb0a075e1fc540",
       "tooltip": ""
      }
     },
     "436f450c590d4aa482c538ab28d6fb59": {
      "model_module": "@jupyter-widgets/controls",
      "model_module_version": "1.5.0",
      "model_name": "DescriptionStyleModel",
      "state": {
       "_model_module": "@jupyter-widgets/controls",
       "_model_module_version": "1.5.0",
       "_model_name": "DescriptionStyleModel",
       "_view_count": null,
       "_view_module": "@jupyter-widgets/base",
       "_view_module_version": "1.2.0",
       "_view_name": "StyleView",
       "description_width": ""
      }
     },
     "4439b8b653834ca094c043993c1f4f15": {
      "model_module": "@jupyter-widgets/controls",
      "model_module_version": "1.5.0",
      "model_name": "IntSliderModel",
      "state": {
       "_dom_classes": [],
       "_model_module": "@jupyter-widgets/controls",
       "_model_module_version": "1.5.0",
       "_model_name": "IntSliderModel",
       "_view_count": null,
       "_view_module": "@jupyter-widgets/controls",
       "_view_module_version": "1.5.0",
       "_view_name": "IntSliderView",
       "continuous_update": false,
       "description": "Thickness",
       "description_tooltip": null,
       "disabled": false,
       "layout": "IPY_MODEL_9816f8b0a2ae46129562c6cc65a337c0",
       "max": 408,
       "min": 1,
       "orientation": "horizontal",
       "readout": false,
       "readout_format": "d",
       "step": 1,
       "style": "IPY_MODEL_6d64cd5188174d108c714c3e7606c443",
       "value": 1
      }
     },
     "60b08cbfc89940f6af697e4748358698": {
      "model_module": "@jupyter-widgets/controls",
      "model_module_version": "1.5.0",
      "model_name": "DescriptionStyleModel",
      "state": {
       "_model_module": "@jupyter-widgets/controls",
       "_model_module_version": "1.5.0",
       "_model_name": "DescriptionStyleModel",
       "_view_count": null,
       "_view_module": "@jupyter-widgets/base",
       "_view_module_version": "1.2.0",
       "_view_name": "StyleView",
       "description_width": ""
      }
     },
     "62c4d814b13842c9bfc996830ac8bc6f": {
      "model_module": "@jupyter-widgets/controls",
      "model_module_version": "1.5.0",
      "model_name": "IntSliderModel",
      "state": {
       "_dom_classes": [],
       "_model_module": "@jupyter-widgets/controls",
       "_model_module_version": "1.5.0",
       "_model_name": "IntSliderModel",
       "_view_count": null,
       "_view_module": "@jupyter-widgets/controls",
       "_view_module_version": "1.5.0",
       "_view_name": "IntSliderView",
       "continuous_update": false,
       "description": "Thickness",
       "description_tooltip": null,
       "disabled": false,
       "layout": "IPY_MODEL_fd7c42fecb1a405d848954f1827277b9",
       "max": 408,
       "min": 1,
       "orientation": "horizontal",
       "readout": false,
       "readout_format": "d",
       "step": 1,
       "style": "IPY_MODEL_3353ebf067d34ccf99651f3993a7de53",
       "value": 1
      }
     },
     "664dcf6087ea49af94c5ceb6f126f7b2": {
      "model_module": "@jupyter-widgets/base",
      "model_module_version": "1.2.0",
      "model_name": "LayoutModel",
      "state": {
       "_model_module": "@jupyter-widgets/base",
       "_model_module_version": "1.2.0",
       "_model_name": "LayoutModel",
       "_view_count": null,
       "_view_module": "@jupyter-widgets/base",
       "_view_module_version": "1.2.0",
       "_view_name": "LayoutView",
       "align_content": null,
       "align_items": null,
       "align_self": null,
       "border": null,
       "bottom": null,
       "display": null,
       "flex": null,
       "flex_flow": null,
       "grid_area": null,
       "grid_auto_columns": null,
       "grid_auto_flow": null,
       "grid_auto_rows": null,
       "grid_column": null,
       "grid_gap": null,
       "grid_row": null,
       "grid_template_areas": null,
       "grid_template_columns": null,
       "grid_template_rows": null,
       "height": null,
       "justify_content": null,
       "justify_items": null,
       "left": null,
       "margin": null,
       "max_height": null,
       "max_width": null,
       "min_height": null,
       "min_width": null,
       "object_fit": null,
       "object_position": null,
       "order": null,
       "overflow": null,
       "overflow_x": null,
       "overflow_y": null,
       "padding": null,
       "right": null,
       "top": null,
       "visibility": null,
       "width": "180px"
      }
     },
     "692ea31a4c184a13bad2cda8ddc75946": {
      "model_module": "@jupyter-widgets/controls",
      "model_module_version": "1.5.0",
      "model_name": "DescriptionStyleModel",
      "state": {
       "_model_module": "@jupyter-widgets/controls",
       "_model_module_version": "1.5.0",
       "_model_name": "DescriptionStyleModel",
       "_view_count": null,
       "_view_module": "@jupyter-widgets/base",
       "_view_module_version": "1.2.0",
       "_view_name": "StyleView",
       "description_width": ""
      }
     },
     "6d64cd5188174d108c714c3e7606c443": {
      "model_module": "@jupyter-widgets/controls",
      "model_module_version": "1.5.0",
      "model_name": "SliderStyleModel",
      "state": {
       "_model_module": "@jupyter-widgets/controls",
       "_model_module_version": "1.5.0",
       "_model_name": "SliderStyleModel",
       "_view_count": null,
       "_view_module": "@jupyter-widgets/base",
       "_view_module_version": "1.2.0",
       "_view_name": "StyleView",
       "description_width": "initial",
       "handle_color": null
      }
     },
     "6fc27e4c50c245d7a29c86498b0c64c1": {
      "model_module": "@jupyter-widgets/controls",
      "model_module_version": "1.5.0",
      "model_name": "ButtonStyleModel",
      "state": {
       "_model_module": "@jupyter-widgets/controls",
       "_model_module_version": "1.5.0",
       "_model_name": "ButtonStyleModel",
       "_view_count": null,
       "_view_module": "@jupyter-widgets/base",
       "_view_module_version": "1.2.0",
       "_view_name": "StyleView",
       "button_color": null,
       "font_weight": ""
      }
     },
     "722d9d3241e44e68b71d428dae7c6331": {
      "model_module": "@jupyter-widgets/base",
      "model_module_version": "1.2.0",
      "model_name": "LayoutModel",
      "state": {
       "_model_module": "@jupyter-widgets/base",
       "_model_module_version": "1.2.0",
       "_model_name": "LayoutModel",
       "_view_count": null,
       "_view_module": "@jupyter-widgets/base",
       "_view_module_version": "1.2.0",
       "_view_name": "LayoutView",
       "align_content": null,
       "align_items": null,
       "align_self": null,
       "border": null,
       "bottom": null,
       "display": null,
       "flex": null,
       "flex_flow": null,
       "grid_area": null,
       "grid_auto_columns": null,
       "grid_auto_flow": null,
       "grid_auto_rows": null,
       "grid_column": null,
       "grid_gap": null,
       "grid_row": null,
       "grid_template_areas": null,
       "grid_template_columns": null,
       "grid_template_rows": null,
       "height": null,
       "justify_content": null,
       "justify_items": null,
       "left": null,
       "margin": null,
       "max_height": null,
       "max_width": null,
       "min_height": null,
       "min_width": null,
       "object_fit": null,
       "object_position": null,
       "order": null,
       "overflow": null,
       "overflow_x": null,
       "overflow_y": null,
       "padding": null,
       "right": null,
       "top": null,
       "visibility": null,
       "width": "20px"
      }
     },
     "746b01b99c6c4db5a5f396c95eafc1aa": {
      "model_module": "@jupyter-widgets/controls",
      "model_module_version": "1.5.0",
      "model_name": "LinkModel",
      "state": {
       "_model_module": "@jupyter-widgets/controls",
       "_model_module_version": "1.5.0",
       "_model_name": "LinkModel",
       "_view_count": null,
       "_view_module": "@jupyter-widgets/controls",
       "_view_module_version": "1.5.0",
       "_view_name": null,
       "source": [
        "IPY_MODEL_fc00a4ad905f4a839df725e40276b6b3",
        "value"
       ],
       "target": [
        "IPY_MODEL_a813380d090544a58347120b4610d8d8",
        "continuous_update"
       ]
      }
     },
     "76b1bae4a0864b4388ac756158002a82": {
      "model_module": "@jupyter-widgets/base",
      "model_module_version": "1.2.0",
      "model_name": "LayoutModel",
      "state": {
       "_model_module": "@jupyter-widgets/base",
       "_model_module_version": "1.2.0",
       "_model_name": "LayoutModel",
       "_view_count": null,
       "_view_module": "@jupyter-widgets/base",
       "_view_module_version": "1.2.0",
       "_view_name": "LayoutView",
       "align_content": null,
       "align_items": null,
       "align_self": null,
       "border": null,
       "bottom": null,
       "display": null,
       "flex": null,
       "flex_flow": null,
       "grid_area": null,
       "grid_auto_columns": null,
       "grid_auto_flow": null,
       "grid_auto_rows": null,
       "grid_column": null,
       "grid_gap": null,
       "grid_row": null,
       "grid_template_areas": null,
       "grid_template_columns": null,
       "grid_template_rows": null,
       "height": null,
       "justify_content": null,
       "justify_items": null,
       "left": null,
       "margin": null,
       "max_height": null,
       "max_width": null,
       "min_height": null,
       "min_width": null,
       "object_fit": null,
       "object_position": null,
       "order": null,
       "overflow": null,
       "overflow_x": null,
       "overflow_y": null,
       "padding": null,
       "right": null,
       "top": null,
       "visibility": null,
       "width": null
      }
     },
     "76f7e196201d46caa633cb8b54867f23": {
      "model_module": "@jupyter-widgets/base",
      "model_module_version": "1.2.0",
      "model_name": "LayoutModel",
      "state": {
       "_model_module": "@jupyter-widgets/base",
       "_model_module_version": "1.2.0",
       "_model_name": "LayoutModel",
       "_view_count": null,
       "_view_module": "@jupyter-widgets/base",
       "_view_module_version": "1.2.0",
       "_view_name": "LayoutView",
       "align_content": null,
       "align_items": null,
       "align_self": null,
       "border": null,
       "bottom": null,
       "display": null,
       "flex": null,
       "flex_flow": null,
       "grid_area": null,
       "grid_auto_columns": null,
       "grid_auto_flow": null,
       "grid_auto_rows": null,
       "grid_column": null,
       "grid_gap": null,
       "grid_row": null,
       "grid_template_areas": null,
       "grid_template_columns": null,
       "grid_template_rows": null,
       "height": null,
       "justify_content": null,
       "justify_items": null,
       "left": null,
       "margin": null,
       "max_height": null,
       "max_width": null,
       "min_height": null,
       "min_width": null,
       "object_fit": null,
       "object_position": null,
       "order": null,
       "overflow": null,
       "overflow_x": null,
       "overflow_y": null,
       "padding": null,
       "right": null,
       "top": null,
       "visibility": null,
       "width": null
      }
     },
     "775ad615278a4cad8248b699196582df": {
      "model_module": "@jupyter-widgets/base",
      "model_module_version": "1.2.0",
      "model_name": "LayoutModel",
      "state": {
       "_model_module": "@jupyter-widgets/base",
       "_model_module_version": "1.2.0",
       "_model_name": "LayoutModel",
       "_view_count": null,
       "_view_module": "@jupyter-widgets/base",
       "_view_module_version": "1.2.0",
       "_view_name": "LayoutView",
       "align_content": null,
       "align_items": null,
       "align_self": null,
       "border": null,
       "bottom": null,
       "display": null,
       "flex": null,
       "flex_flow": null,
       "grid_area": null,
       "grid_auto_columns": null,
       "grid_auto_flow": null,
       "grid_auto_rows": null,
       "grid_column": null,
       "grid_gap": null,
       "grid_row": null,
       "grid_template_areas": null,
       "grid_template_columns": null,
       "grid_template_rows": null,
       "height": null,
       "justify_content": null,
       "justify_items": null,
       "left": null,
       "margin": null,
       "max_height": null,
       "max_width": null,
       "min_height": null,
       "min_width": null,
       "object_fit": null,
       "object_position": null,
       "order": null,
       "overflow": null,
       "overflow_x": null,
       "overflow_y": null,
       "padding": null,
       "right": null,
       "top": null,
       "visibility": null,
       "width": "20px"
      }
     },
     "78b989127f0d4a20b0b2978f49b470e3": {
      "model_module": "@jupyter-widgets/controls",
      "model_module_version": "1.5.0",
      "model_name": "LabelModel",
      "state": {
       "_dom_classes": [],
       "_model_module": "@jupyter-widgets/controls",
       "_model_module_version": "1.5.0",
       "_model_name": "LabelModel",
       "_view_count": null,
       "_view_module": "@jupyter-widgets/controls",
       "_view_module_version": "1.5.0",
       "_view_name": "LabelView",
       "description": "",
       "description_tooltip": null,
       "layout": "IPY_MODEL_4123d29c258b480ab0cd1a4fddc44bde",
       "placeholder": "​",
       "style": "IPY_MODEL_60b08cbfc89940f6af697e4748358698",
       "value": " [Å]"
      }
     },
     "78f1e0a53e9e4b3f96e0ecc7eb70d447": {
      "model_module": "@jupyter-widgets/controls",
      "model_module_version": "1.5.0",
      "model_name": "LabelModel",
      "state": {
       "_dom_classes": [],
       "_model_module": "@jupyter-widgets/controls",
       "_model_module_version": "1.5.0",
       "_model_name": "LabelModel",
       "_view_count": null,
       "_view_module": "@jupyter-widgets/controls",
       "_view_module_version": "1.5.0",
       "_view_name": "LabelView",
       "description": "",
       "description_tooltip": null,
       "layout": "IPY_MODEL_aae8b03a2a2b4c37b3546f1e3e354b85",
       "placeholder": "​",
       "style": "IPY_MODEL_436f450c590d4aa482c538ab28d6fb59",
       "value": " [1/Å]"
      }
     },
     "7f05dadc270246a89035f126b91bd7ab": {
      "model_module": "@jupyter-widgets/controls",
      "model_module_version": "1.5.0",
      "model_name": "DescriptionStyleModel",
      "state": {
       "_model_module": "@jupyter-widgets/controls",
       "_model_module_version": "1.5.0",
       "_model_name": "DescriptionStyleModel",
       "_view_count": null,
       "_view_module": "@jupyter-widgets/base",
       "_view_module_version": "1.2.0",
       "_view_name": "StyleView",
       "description_width": ""
      }
     },
     "81d1ef950f2443bebf1ba17deb0e8125": {
      "model_module": "@jupyter-widgets/controls",
      "model_module_version": "1.5.0",
      "model_name": "LabelModel",
      "state": {
       "_dom_classes": [],
       "_model_module": "@jupyter-widgets/controls",
       "_model_module_version": "1.5.0",
       "_model_name": "LabelModel",
       "_view_count": null,
       "_view_module": "@jupyter-widgets/controls",
       "_view_module_version": "1.5.0",
       "_view_name": "LabelView",
       "description": "",
       "description_tooltip": null,
       "layout": "IPY_MODEL_ad83a54cfcb84dbaaac07f727bb61551",
       "placeholder": "​",
       "style": "IPY_MODEL_7f05dadc270246a89035f126b91bd7ab",
       "value": ""
      }
     },
     "870e6d079be94b9eb2db6db479805e09": {
      "model_module": "jupyter-matplotlib",
      "model_module_version": "^0.10.5",
      "model_name": "MPLCanvasModel",
      "state": {
       "_cursor": "default",
       "_data_url": "data:image/png;base64,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",
       "_dom_classes": [],
       "_figure_label": "Figure",
       "_image_mode": "full",
       "_message": "",
       "_model_module": "jupyter-matplotlib",
       "_model_module_version": "^0.10.5",
       "_model_name": "MPLCanvasModel",
       "_rubberband_height": 0,
       "_rubberband_width": 0,
       "_rubberband_x": 0,
       "_rubberband_y": 0,
       "_size": [
        500.0,
        600.0
       ],
       "_view_count": null,
       "_view_module": "jupyter-matplotlib",
       "_view_module_version": "^0.10.5",
       "_view_name": "MPLCanvasView",
       "capture_scroll": false,
       "footer_visible": true,
       "header_visible": false,
       "layout": "IPY_MODEL_1fd757fd75a5420d9a26ec30df354583",
       "pan_zoom_throttle": 33.0,
       "resizable": true,
       "toolbar": "IPY_MODEL_a7e86f91ba054dc1b3006ea81637e906",
       "toolbar_position": "left",
       "toolbar_visible": "fade-in-fade-out"
      }
     },
     "8fdec43b240f4bb7aba34ba593e12aec": {
      "model_module": "@jupyter-widgets/controls",
      "model_module_version": "1.5.0",
      "model_name": "DescriptionStyleModel",
      "state": {
       "_model_module": "@jupyter-widgets/controls",
       "_model_module_version": "1.5.0",
       "_model_name": "DescriptionStyleModel",
       "_view_count": null,
       "_view_module": "@jupyter-widgets/base",
       "_view_module_version": "1.2.0",
       "_view_name": "StyleView",
       "description_width": ""
      }
     },
     "9816f8b0a2ae46129562c6cc65a337c0": {
      "model_module": "@jupyter-widgets/base",
      "model_module_version": "1.2.0",
      "model_name": "LayoutModel",
      "state": {
       "_model_module": "@jupyter-widgets/base",
       "_model_module_version": "1.2.0",
       "_model_name": "LayoutModel",
       "_view_count": null,
       "_view_module": "@jupyter-widgets/base",
       "_view_module_version": "1.2.0",
       "_view_name": "LayoutView",
       "align_content": null,
       "align_items": null,
       "align_self": null,
       "border": null,
       "bottom": null,
       "display": null,
       "flex": null,
       "flex_flow": null,
       "grid_area": null,
       "grid_auto_columns": null,
       "grid_auto_flow": null,
       "grid_auto_rows": null,
       "grid_column": null,
       "grid_gap": null,
       "grid_row": null,
       "grid_template_areas": null,
       "grid_template_columns": null,
       "grid_template_rows": null,
       "height": null,
       "justify_content": null,
       "justify_items": null,
       "left": null,
       "margin": null,
       "max_height": null,
       "max_width": null,
       "min_height": null,
       "min_width": null,
       "object_fit": null,
       "object_position": null,
       "order": null,
       "overflow": null,
       "overflow_x": null,
       "overflow_y": null,
       "padding": null,
       "right": null,
       "top": null,
       "visibility": null,
       "width": "180px"
      }
     },
     "a30ee932c5f545639c76dfc205b68620": {
      "model_module": "@jupyter-widgets/base",
      "model_module_version": "1.2.0",
      "model_name": "LayoutModel",
      "state": {
       "_model_module": "@jupyter-widgets/base",
       "_model_module_version": "1.2.0",
       "_model_name": "LayoutModel",
       "_view_count": null,
       "_view_module": "@jupyter-widgets/base",
       "_view_module_version": "1.2.0",
       "_view_name": "LayoutView",
       "align_content": null,
       "align_items": null,
       "align_self": null,
       "border": null,
       "bottom": null,
       "display": null,
       "flex": null,
       "flex_flow": null,
       "grid_area": null,
       "grid_auto_columns": null,
       "grid_auto_flow": null,
       "grid_auto_rows": null,
       "grid_column": null,
       "grid_gap": null,
       "grid_row": null,
       "grid_template_areas": null,
       "grid_template_columns": null,
       "grid_template_rows": null,
       "height": null,
       "justify_content": null,
       "justify_items": null,
       "left": null,
       "margin": null,
       "max_height": null,
       "max_width": null,
       "min_height": null,
       "min_width": null,
       "object_fit": null,
       "object_position": null,
       "order": null,
       "overflow": null,
       "overflow_x": null,
       "overflow_y": null,
       "padding": null,
       "right": null,
       "top": null,
       "visibility": null,
       "width": "200px"
      }
     },
     "a5239175c91440b29a78488970e19d2a": {
      "model_module": "@jupyter-widgets/controls",
      "model_module_version": "1.5.0",
      "model_name": "ButtonStyleModel",
      "state": {
       "_model_module": "@jupyter-widgets/controls",
       "_model_module_version": "1.5.0",
       "_model_name": "ButtonStyleModel",
       "_view_count": null,
       "_view_module": "@jupyter-widgets/base",
       "_view_module_version": "1.2.0",
       "_view_name": "StyleView",
       "button_color": null,
       "font_weight": ""
      }
     },
     "a7e86f91ba054dc1b3006ea81637e906": {
      "model_module": "jupyter-matplotlib",
      "model_module_version": "^0.10.5",
      "model_name": "ToolbarModel",
      "state": {
       "_current_action": "",
       "_dom_classes": [],
       "_model_module": "jupyter-matplotlib",
       "_model_module_version": "^0.10.5",
       "_model_name": "ToolbarModel",
       "_view_count": null,
       "_view_module": "jupyter-matplotlib",
       "_view_module_version": "^0.10.5",
       "_view_name": "ToolbarView",
       "button_style": "",
       "collapsed": true,
       "layout": "IPY_MODEL_76f7e196201d46caa633cb8b54867f23",
       "orientation": "vertical",
       "toolitems": [
        [
         "Home",
         "Reset original view",
         "home",
         "home"
        ],
        [
         "Back",
         "Back to previous view",
         "arrow-left",
         "back"
        ],
        [
         "Forward",
         "Forward to next view",
         "arrow-right",
         "forward"
        ],
        [
         "Pan",
         "Left button pans, Right button zooms\nx/y fixes axis, CTRL fixes aspect",
         "arrows",
         "pan"
        ],
        [
         "Zoom",
         "Zoom to rectangle\nx/y fixes axis",
         "square-o",
         "zoom"
        ],
        [
         "Download",
         "Download plot",
         "floppy-o",
         "save_figure"
        ]
       ]
      }
     },
     "a813380d090544a58347120b4610d8d8": {
      "model_module": "@jupyter-widgets/controls",
      "model_module_version": "1.5.0",
      "model_name": "IntSliderModel",
      "state": {
       "_dom_classes": [],
       "_model_module": "@jupyter-widgets/controls",
       "_model_module_version": "1.5.0",
       "_model_name": "IntSliderModel",
       "_view_count": null,
       "_view_module": "@jupyter-widgets/controls",
       "_view_module_version": "1.5.0",
       "_view_name": "IntSliderView",
       "continuous_update": true,
       "description": "",
       "description_tooltip": null,
       "disabled": false,
       "layout": "IPY_MODEL_a30ee932c5f545639c76dfc205b68620",
       "max": 499,
       "min": 0,
       "orientation": "horizontal",
       "readout": false,
       "readout_format": "d",
       "step": 1,
       "style": "IPY_MODEL_0720161ad2a94ef580ca56fb199fe772",
       "value": 0
      }
     },
     "a93f0e57ebfa4ee9b12facc8f51539de": {
      "model_module": "@jupyter-widgets/controls",
      "model_module_version": "1.5.0",
      "model_name": "IntSliderModel",
      "state": {
       "_dom_classes": [],
       "_model_module": "@jupyter-widgets/controls",
       "_model_module_version": "1.5.0",
       "_model_name": "IntSliderModel",
       "_view_count": null,
       "_view_module": "@jupyter-widgets/controls",
       "_view_module_version": "1.5.0",
       "_view_name": "IntSliderView",
       "continuous_update": true,
       "description": "",
       "description_tooltip": null,
       "disabled": false,
       "layout": "IPY_MODEL_abbdee8ca8a6404da53e08f05413d7ae",
       "max": 407,
       "min": 0,
       "orientation": "horizontal",
       "readout": false,
       "readout_format": "d",
       "step": 1,
       "style": "IPY_MODEL_036f671b634f4fc393d31bd94a4e2cf4",
       "value": 0
      }
     },
     "aae8b03a2a2b4c37b3546f1e3e354b85": {
      "model_module": "@jupyter-widgets/base",
      "model_module_version": "1.2.0",
      "model_name": "LayoutModel",
      "state": {
       "_model_module": "@jupyter-widgets/base",
       "_model_module_version": "1.2.0",
       "_model_name": "LayoutModel",
       "_view_count": null,
       "_view_module": "@jupyter-widgets/base",
       "_view_module_version": "1.2.0",
       "_view_name": "LayoutView",
       "align_content": null,
       "align_items": null,
       "align_self": null,
       "border": null,
       "bottom": null,
       "display": null,
       "flex": null,
       "flex_flow": null,
       "grid_area": null,
       "grid_auto_columns": null,
       "grid_auto_flow": null,
       "grid_auto_rows": null,
       "grid_column": null,
       "grid_gap": null,
       "grid_row": null,
       "grid_template_areas": null,
       "grid_template_columns": null,
       "grid_template_rows": null,
       "height": null,
       "justify_content": null,
       "justify_items": null,
       "left": null,
       "margin": null,
       "max_height": null,
       "max_width": null,
       "min_height": null,
       "min_width": null,
       "object_fit": null,
       "object_position": null,
       "order": null,
       "overflow": null,
       "overflow_x": null,
       "overflow_y": null,
       "padding": null,
       "right": null,
       "top": null,
       "visibility": null,
       "width": "60px"
      }
     },
     "abbdee8ca8a6404da53e08f05413d7ae": {
      "model_module": "@jupyter-widgets/base",
      "model_module_version": "1.2.0",
      "model_name": "LayoutModel",
      "state": {
       "_model_module": "@jupyter-widgets/base",
       "_model_module_version": "1.2.0",
       "_model_name": "LayoutModel",
       "_view_count": null,
       "_view_module": "@jupyter-widgets/base",
       "_view_module_version": "1.2.0",
       "_view_name": "LayoutView",
       "align_content": null,
       "align_items": null,
       "align_self": null,
       "border": null,
       "bottom": null,
       "display": null,
       "flex": null,
       "flex_flow": null,
       "grid_area": null,
       "grid_auto_columns": null,
       "grid_auto_flow": null,
       "grid_auto_rows": null,
       "grid_column": null,
       "grid_gap": null,
       "grid_row": null,
       "grid_template_areas": null,
       "grid_template_columns": null,
       "grid_template_rows": null,
       "height": null,
       "justify_content": null,
       "justify_items": null,
       "left": null,
       "margin": null,
       "max_height": null,
       "max_width": null,
       "min_height": null,
       "min_width": null,
       "object_fit": null,
       "object_position": null,
       "order": null,
       "overflow": null,
       "overflow_x": null,
       "overflow_y": null,
       "padding": null,
       "right": null,
       "top": null,
       "visibility": null,
       "width": "200px"
      }
     },
     "ad83a54cfcb84dbaaac07f727bb61551": {
      "model_module": "@jupyter-widgets/base",
      "model_module_version": "1.2.0",
      "model_name": "LayoutModel",
      "state": {
       "_model_module": "@jupyter-widgets/base",
       "_model_module_version": "1.2.0",
       "_model_name": "LayoutModel",
       "_view_count": null,
       "_view_module": "@jupyter-widgets/base",
       "_view_module_version": "1.2.0",
       "_view_name": "LayoutView",
       "align_content": null,
       "align_items": null,
       "align_self": null,
       "border": null,
       "bottom": null,
       "display": null,
       "flex": null,
       "flex_flow": null,
       "grid_area": null,
       "grid_auto_columns": null,
       "grid_auto_flow": null,
       "grid_auto_rows": null,
       "grid_column": null,
       "grid_gap": null,
       "grid_row": null,
       "grid_template_areas": null,
       "grid_template_columns": null,
       "grid_template_rows": null,
       "height": null,
       "justify_content": null,
       "justify_items": null,
       "left": null,
       "margin": null,
       "max_height": null,
       "max_width": null,
       "min_height": null,
       "min_width": null,
       "object_fit": null,
       "object_position": null,
       "order": null,
       "overflow": null,
       "overflow_x": null,
       "overflow_y": null,
       "padding": null,
       "right": null,
       "top": null,
       "visibility": null,
       "width": null
      }
     },
     "b17a2c79ed9c47ee9acb0a075e1fc540": {
      "model_module": "@jupyter-widgets/controls",
      "model_module_version": "1.5.0",
      "model_name": "ButtonStyleModel",
      "state": {
       "_model_module": "@jupyter-widgets/controls",
       "_model_module_version": "1.5.0",
       "_model_name": "ButtonStyleModel",
       "_view_count": null,
       "_view_module": "@jupyter-widgets/base",
       "_view_module_version": "1.2.0",
       "_view_name": "StyleView",
       "button_color": null,
       "font_weight": ""
      }
     },
     "b2ff3e8285b24bf0a5ee3b4f0747e119": {
      "model_module": "@jupyter-widgets/controls",
      "model_module_version": "1.5.0",
      "model_name": "CheckboxModel",
      "state": {
       "_dom_classes": [],
       "_model_module": "@jupyter-widgets/controls",
       "_model_module_version": "1.5.0",
       "_model_name": "CheckboxModel",
       "_view_count": null,
       "_view_module": "@jupyter-widgets/controls",
       "_view_module_version": "1.5.0",
       "_view_name": "CheckboxView",
       "description": "Continuous update",
       "description_tooltip": null,
       "disabled": false,
       "indent": false,
       "layout": "IPY_MODEL_775ad615278a4cad8248b699196582df",
       "style": "IPY_MODEL_3833d844b6e4447f9b94969e7292b5fb",
       "value": true
      }
     },
     "b7c02743fafd46caa16a5cc8c87f3e6c": {
      "model_module": "@jupyter-widgets/base",
      "model_module_version": "1.2.0",
      "model_name": "LayoutModel",
      "state": {
       "_model_module": "@jupyter-widgets/base",
       "_model_module_version": "1.2.0",
       "_model_name": "LayoutModel",
       "_view_count": null,
       "_view_module": "@jupyter-widgets/base",
       "_view_module_version": "1.2.0",
       "_view_name": "LayoutView",
       "align_content": null,
       "align_items": null,
       "align_self": null,
       "border": null,
       "bottom": null,
       "display": "none",
       "flex": null,
       "flex_flow": null,
       "grid_area": null,
       "grid_auto_columns": null,
       "grid_auto_flow": null,
       "grid_auto_rows": null,
       "grid_column": null,
       "grid_gap": null,
       "grid_row": null,
       "grid_template_areas": null,
       "grid_template_columns": null,
       "grid_template_rows": null,
       "height": null,
       "justify_content": null,
       "justify_items": null,
       "left": null,
       "margin": null,
       "max_height": null,
       "max_width": null,
       "min_height": null,
       "min_width": null,
       "object_fit": null,
       "object_position": null,
       "order": null,
       "overflow": null,
       "overflow_x": null,
       "overflow_y": null,
       "padding": null,
       "right": null,
       "top": null,
       "visibility": null,
       "width": "initial"
      }
     },
     "c5f11061fcc84a029a0f5ae0f6a133b4": {
      "model_module": "@jupyter-widgets/controls",
      "model_module_version": "1.5.0",
      "model_name": "LinkModel",
      "state": {
       "_model_module": "@jupyter-widgets/controls",
       "_model_module_version": "1.5.0",
       "_model_name": "LinkModel",
       "_view_count": null,
       "_view_module": "@jupyter-widgets/controls",
       "_view_module_version": "1.5.0",
       "_view_name": null,
       "source": [
        "IPY_MODEL_d5813accc1c5496c91c306057eaa8e72",
        "value"
       ],
       "target": [
        "IPY_MODEL_e0ea55533a854623a02f60cd5050ca13",
        "continuous_update"
       ]
      }
     },
     "cfc53b587d8f4be1b5cc8a62d403e4a5": {
      "model_module": "@jupyter-widgets/controls",
      "model_module_version": "1.5.0",
      "model_name": "SliderStyleModel",
      "state": {
       "_model_module": "@jupyter-widgets/controls",
       "_model_module_version": "1.5.0",
       "_model_name": "SliderStyleModel",
       "_view_count": null,
       "_view_module": "@jupyter-widgets/base",
       "_view_module_version": "1.2.0",
       "_view_name": "StyleView",
       "description_width": "initial",
       "handle_color": null
      }
     },
     "d5813accc1c5496c91c306057eaa8e72": {
      "model_module": "@jupyter-widgets/controls",
      "model_module_version": "1.5.0",
      "model_name": "CheckboxModel",
      "state": {
       "_dom_classes": [],
       "_model_module": "@jupyter-widgets/controls",
       "_model_module_version": "1.5.0",
       "_model_name": "CheckboxModel",
       "_view_count": null,
       "_view_module": "@jupyter-widgets/controls",
       "_view_module_version": "1.5.0",
       "_view_name": "CheckboxView",
       "description": "Continuous update",
       "description_tooltip": null,
       "disabled": false,
       "indent": false,
       "layout": "IPY_MODEL_06aeade7ad2344cd95821e2f4ff5af02",
       "style": "IPY_MODEL_692ea31a4c184a13bad2cda8ddc75946",
       "value": true
      }
     },
     "df6733d030ea4580977f190b30abcbe7": {
      "model_module": "@jupyter-widgets/controls",
      "model_module_version": "1.5.0",
      "model_name": "DescriptionStyleModel",
      "state": {
       "_model_module": "@jupyter-widgets/controls",
       "_model_module_version": "1.5.0",
       "_model_name": "DescriptionStyleModel",
       "_view_count": null,
       "_view_module": "@jupyter-widgets/base",
       "_view_module_version": "1.2.0",
       "_view_name": "StyleView",
       "description_width": ""
      }
     },
     "e0ea55533a854623a02f60cd5050ca13": {
      "model_module": "@jupyter-widgets/controls",
      "model_module_version": "1.5.0",
      "model_name": "IntSliderModel",
      "state": {
       "_dom_classes": [],
       "_model_module": "@jupyter-widgets/controls",
       "_model_module_version": "1.5.0",
       "_model_name": "IntSliderModel",
       "_view_count": null,
       "_view_module": "@jupyter-widgets/controls",
       "_view_module_version": "1.5.0",
       "_view_name": "IntSliderView",
       "continuous_update": true,
       "description": "",
       "description_tooltip": null,
       "disabled": false,
       "layout": "IPY_MODEL_0ac69f59100148e28a5e7432ddd2d9b4",
       "max": 407,
       "min": 0,
       "orientation": "horizontal",
       "readout": false,
       "readout_format": "d",
       "step": 1,
       "style": "IPY_MODEL_1938eb2f718d4ff39acf0826611a7222",
       "value": 0
      }
     },
     "ea0de9350ab14585950af3908bde983d": {
      "model_module": "@jupyter-widgets/controls",
      "model_module_version": "1.5.0",
      "model_name": "ButtonModel",
      "state": {
       "_dom_classes": [],
       "_model_module": "@jupyter-widgets/controls",
       "_model_module_version": "1.5.0",
       "_model_name": "ButtonModel",
       "_view_count": null,
       "_view_module": "@jupyter-widgets/controls",
       "_view_module_version": "1.5.0",
       "_view_name": "ButtonView",
       "button_style": "",
       "description": "Profile",
       "disabled": false,
       "icon": "",
       "layout": "IPY_MODEL_b7c02743fafd46caa16a5cc8c87f3e6c",
       "style": "IPY_MODEL_a5239175c91440b29a78488970e19d2a",
       "tooltip": ""
      }
     },
     "eaba48bc035748a6a119af027e28f45b": {
      "model_module": "@jupyter-widgets/controls",
      "model_module_version": "1.5.0",
      "model_name": "LabelModel",
      "state": {
       "_dom_classes": [],
       "_model_module": "@jupyter-widgets/controls",
       "_model_module_version": "1.5.0",
       "_model_name": "LabelModel",
       "_view_count": null,
       "_view_module": "@jupyter-widgets/controls",
       "_view_module_version": "1.5.0",
       "_view_name": "LabelView",
       "description": "",
       "description_tooltip": null,
       "layout": "IPY_MODEL_282bb0f312f54d33b1046d3d80833041",
       "placeholder": "​",
       "style": "IPY_MODEL_8fdec43b240f4bb7aba34ba593e12aec",
       "value": ""
      }
     },
     "eb563ddce9d04cf0aa4ffbc452a728ca": {
      "model_module": "@jupyter-widgets/controls",
      "model_module_version": "1.5.0",
      "model_name": "LabelModel",
      "state": {
       "_dom_classes": [],
       "_model_module": "@jupyter-widgets/controls",
       "_model_module_version": "1.5.0",
       "_model_name": "LabelModel",
       "_view_count": null,
       "_view_module": "@jupyter-widgets/controls",
       "_view_module_version": "1.5.0",
       "_view_name": "LabelView",
       "description": "",
       "description_tooltip": null,
       "layout": "IPY_MODEL_76b1bae4a0864b4388ac756158002a82",
       "placeholder": "​",
       "style": "IPY_MODEL_df6733d030ea4580977f190b30abcbe7",
       "value": ""
      }
     },
     "f0d5a6ee637945e29b628a72b3d4a573": {
      "model_module": "@jupyter-widgets/controls",
      "model_module_version": "1.5.0",
      "model_name": "DescriptionStyleModel",
      "state": {
       "_model_module": "@jupyter-widgets/controls",
       "_model_module_version": "1.5.0",
       "_model_name": "DescriptionStyleModel",
       "_view_count": null,
       "_view_module": "@jupyter-widgets/base",
       "_view_module_version": "1.2.0",
       "_view_name": "StyleView",
       "description_width": ""
      }
     },
     "fc00a4ad905f4a839df725e40276b6b3": {
      "model_module": "@jupyter-widgets/controls",
      "model_module_version": "1.5.0",
      "model_name": "CheckboxModel",
      "state": {
       "_dom_classes": [],
       "_model_module": "@jupyter-widgets/controls",
       "_model_module_version": "1.5.0",
       "_model_name": "CheckboxModel",
       "_view_count": null,
       "_view_module": "@jupyter-widgets/controls",
       "_view_module_version": "1.5.0",
       "_view_name": "CheckboxView",
       "description": "Continuous update",
       "description_tooltip": null,
       "disabled": false,
       "indent": false,
       "layout": "IPY_MODEL_722d9d3241e44e68b71d428dae7c6331",
       "style": "IPY_MODEL_f0d5a6ee637945e29b628a72b3d4a573",
       "value": true
      }
     },
     "fd7c42fecb1a405d848954f1827277b9": {
      "model_module": "@jupyter-widgets/base",
      "model_module_version": "1.2.0",
      "model_name": "LayoutModel",
      "state": {
       "_model_module": "@jupyter-widgets/base",
       "_model_module_version": "1.2.0",
       "_model_name": "LayoutModel",
       "_view_count": null,
       "_view_module": "@jupyter-widgets/base",
       "_view_module_version": "1.2.0",
       "_view_name": "LayoutView",
       "align_content": null,
       "align_items": null,
       "align_self": null,
       "border": null,
       "bottom": null,
       "display": null,
       "flex": null,
       "flex_flow": null,
       "grid_area": null,
       "grid_auto_columns": null,
       "grid_auto_flow": null,
       "grid_auto_rows": null,
       "grid_column": null,
       "grid_gap": null,
       "grid_row": null,
       "grid_template_areas": null,
       "grid_template_columns": null,
       "grid_template_rows": null,
       "height": null,
       "justify_content": null,
       "justify_items": null,
       "left": null,
       "margin": null,
       "max_height": null,
       "max_width": null,
       "min_height": null,
       "min_width": null,
       "object_fit": null,
       "object_position": null,
       "order": null,
       "overflow": null,
       "overflow_x": null,
       "overflow_y": null,
       "padding": null,
       "right": null,
       "top": null,
       "visibility": null,
       "width": "180px"
      }
     },
     "ff513bcd4378467993cca661293a5c65": {
      "model_module": "@jupyter-widgets/base",
      "model_module_version": "1.2.0",
      "model_name": "LayoutModel",
      "state": {
       "_model_module": "@jupyter-widgets/base",
       "_model_module_version": "1.2.0",
       "_model_name": "LayoutModel",
       "_view_count": null,
       "_view_module": "@jupyter-widgets/base",
       "_view_module_version": "1.2.0",
       "_view_name": "LayoutView",
       "align_content": null,
       "align_items": null,
       "align_self": null,
       "border": null,
       "bottom": null,
       "display": "none",
       "flex": null,
       "flex_flow": null,
       "grid_area": null,
       "grid_auto_columns": null,
       "grid_auto_flow": null,
       "grid_auto_rows": null,
       "grid_column": null,
       "grid_gap": null,
       "grid_row": null,
       "grid_template_areas": null,
       "grid_template_columns": null,
       "grid_template_rows": null,
       "height": null,
       "justify_content": null,
       "justify_items": null,
       "left": null,
       "margin": null,
       "max_height": null,
       "max_width": null,
       "min_height": null,
       "min_width": null,
       "object_fit": null,
       "object_position": null,
       "order": null,
       "overflow": null,
       "overflow_x": null,
       "overflow_y": null,
       "padding": null,
       "right": null,
       "top": null,
       "visibility": null,
       "width": "initial"
      }
     },
     "ffd643f7d9d64552a4d624971b422cac": {
      "model_module": "@jupyter-widgets/controls",
      "model_module_version": "1.5.0",
      "model_name": "LinkModel",
      "state": {
       "_model_module": "@jupyter-widgets/controls",
       "_model_module_version": "1.5.0",
       "_model_name": "LinkModel",
       "_view_count": null,
       "_view_module": "@jupyter-widgets/controls",
       "_view_module_version": "1.5.0",
       "_view_name": null,
       "source": [
        "IPY_MODEL_b2ff3e8285b24bf0a5ee3b4f0747e119",
        "value"
       ],
       "target": [
        "IPY_MODEL_a93f0e57ebfa4ee9b12facc8f51539de",
        "continuous_update"
       ]
      }
     }
    },
    "version_major": 2,
    "version_minor": 0
   }
  }
 },
 "nbformat": 4,
 "nbformat_minor": 5
}
