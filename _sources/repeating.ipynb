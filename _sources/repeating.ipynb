{
 "cells": [
  {
   "cell_type": "markdown",
   "id": "a60117e3-d089-4375-ac7c-12a52ed47271",
   "metadata": {},
   "source": [
    "# A multilayer fitting model\n",
    "\n",
    "One of the main tools in `EasyReflectometry` is the [item library](./item_library.html). \n",
    "This allows the user to define their model, using specific parameters for their system of interest (if it is included in the item library). \n",
    "These items will impose necessary constraints and computational efficiencies based on the item that is used. \n",
    "\n",
    "In this tutorial, we will look at one of these items, that of a `RepeatingMultiLayer` ([documented here](https://easyscience.github.io/EasyReflectometryLib/item_library.html#repeatingmultiLayer)). \n",
    "This tutorial is based on an example from the [BornAgain](https://www.bornagainproject.org) documentation looking at [specular reflectivity analysis](https://www.bornagainproject.org/m/py/fitting/extended/fit-specular-data/). \n",
    "Before performing analysis, we should import the packages that we need."
   ]
  },
  {
   "cell_type": "markdown",
   "id": "f5d0bd58",
   "metadata": {},
   "source": [
    "First configure matplotlib to place figures in notebook and import needed modules"
   ]
  },
  {
   "cell_type": "code",
   "execution_count": null,
   "id": "29d5d62d-af4a-416d-bbe2-1338d32b30f5",
   "metadata": {},
   "outputs": [],
   "source": [
    "%matplotlib inline\n",
    "\n",
    "import numpy as np\n",
    "import scipp as sc\n",
    "import EasyReflectometry\n",
    "import refl1d\n",
    "from EasyReflectometry.data import load\n",
    "from EasyReflectometry.sample import Layer, Structure\n",
    "from EasyReflectometry.sample.material import Material\n",
    "from EasyReflectometry.sample.item import RepeatingMultiLayer\n",
    "from EasyReflectometry.experiment.model import Model\n",
    "from EasyReflectometry.interface import InterfaceFactory as Interface\n",
    "from EasyReflectometry.fitting import Fitter\n",
    "from EasyReflectometry.plot import plot"
   ]
  },
  {
   "cell_type": "markdown",
   "id": "8fd3e8f7-84ac-41c4-a89d-922ed82a001e",
   "metadata": {},
   "source": [
    "As mentioned in the [previous tutorial](./simple_fitting.html), we share the version of the software packages we will use. "
   ]
  },
  {
   "cell_type": "code",
   "execution_count": null,
   "id": "549734c1-bbd9-41f3-8a20-d7a8ded37802",
   "metadata": {},
   "outputs": [],
   "source": [
    "print(f'numpy: {np.__version__}')\n",
    "print(f'scipp: {sc.__version__}')\n",
    "print(f'EasyReflectometry: {EasyReflectometry.__version__}')\n",
    "print(f'Refl1D: {refl1d.__version__}')"
   ]
  },
  {
   "cell_type": "markdown",
   "id": "687719c7-d5a2-4d60-953f-c854c5ca1c4a",
   "metadata": {},
   "source": [
    "## Reading in experimental data\n",
    "\n",
    "The data that we will investigate in this tutorial was generated with [GenX](https://aglavic.github.io/genx/) and is stored in an `.ort` [format file](https://github.com/reflectivity/file_format/blob/master/specification.md). "
   ]
  },
  {
   "cell_type": "code",
   "execution_count": null,
   "id": "609174e5-1371-412d-a29f-cb05bfe36df0",
   "metadata": {},
   "outputs": [],
   "source": [
    "data = load('_static/repeating_layers.ort')\n",
    "data"
   ]
  },
  {
   "cell_type": "markdown",
   "id": "1ab3a164-62c8-4bd3-b0d8-e6f22c83dc74",
   "metadata": {},
   "source": [
    "This data is very featureful, with many fringes present (arising from the multilayer structure)"
   ]
  },
  {
   "cell_type": "code",
   "execution_count": null,
   "id": "31ab44d3-826a-4270-9046-ad667dcb66ba",
   "metadata": {},
   "outputs": [],
   "source": [
    "plot(data)"
   ]
  },
  {
   "cell_type": "markdown",
   "id": "dad78ccc-1e6f-47cd-8557-c4fa6c736f4b",
   "metadata": {},
   "source": [
    "## Building our model\n",
    "\n",
    "The system that was used to produce the data shown above is based on a silicon subphase, with a repeating multilayer of nickel and titanium grown upon it. \n",
    "Typcially, under experimental conditions, the producer of the sample will know how many repeats there will be of the multilayer system (as these are grown using some vapour disposition or sputtering method that the producer controls). \n",
    "We show the model that will be used graphically below. \n",
    "\n",
    "<center>\n",
    "    <img src='_static/repeating.png' alt='A slab model description of the repeating multilayer system.' width='300px'></img>\n",
    "</center>\n",
    "<center>\n",
    "    A slab model description of the repeating multilayer, showing the four layers of vacuum, titanium, nickel and silicon, with the titanium/nickel layers being repeated 10 times.\n",
    "</center>\n",
    "\n",
    "To construct such a layer structure, first we create each of the materials and associated layers"
   ]
  },
  {
   "cell_type": "code",
   "execution_count": null,
   "id": "0f95d620-35b7-4b47-a3b4-9e33d5525b50",
   "metadata": {},
   "outputs": [],
   "source": [
    "vacuum = Material.from_pars(0, 0, 'Vacuum')\n",
    "ti = Material.from_pars(-1.9493, 0, 'Ti')\n",
    "ni = Material.from_pars(9.4245, 0, 'Ni')\n",
    "si = Material.from_pars(2.0704, 0, 'Si')"
   ]
  },
  {
   "cell_type": "code",
   "execution_count": null,
   "id": "9a0b37ed-8714-4614-b49f-1e86ac232ac1",
   "metadata": {},
   "outputs": [],
   "source": [
    "superphase = Layer.from_pars(vacuum, 0, 0, 'Vacuum Superphase')\n",
    "ti_layer = Layer.from_pars(ti, 40, 0, 'Ti Layer')\n",
    "ni_layer = Layer.from_pars(ni, 70, 0, 'Ni Layer')\n",
    "subphase = Layer.from_pars(si, 0, 0, 'Si Subphase')"
   ]
  },
  {
   "cell_type": "markdown",
   "id": "f63ec440-089f-46cf-8ff5-be5012ad8dc8",
   "metadata": {},
   "source": [
    "Then, to produce the repeating multilayer, we use the `RepeatingMultilayer` [item type](https://easyscience.github.io/EasyReflectometryLib/item.html#EasyReflectometry.sample.item.RepeatingMultiLayer). \n",
    "This can be constructed in a range of different ways, however here we pass a list of `Layer` type objects and a number of repetitions. "
   ]
  },
  {
   "cell_type": "code",
   "execution_count": null,
   "id": "311b25a1-6d5d-4e91-a72e-394ad8dcf464",
   "metadata": {},
   "outputs": [],
   "source": [
    "rep_multilayer = RepeatingMultiLayer.from_pars([ti_layer, ni_layer], repetitions=10, name='NiTi Multilayer')\n",
    "rep_multilayer"
   ]
  },
  {
   "cell_type": "markdown",
   "id": "1c32d8ad-9baf-41bf-9fd8-419b92be36c4",
   "metadata": {},
   "source": [
    "From these objects, we can construct our structure and combine this with a scaling, background and resolution (since this data is simulated there is no background or resolution smearing). "
   ]
  },
  {
   "cell_type": "code",
   "execution_count": null,
   "id": "fed8d60f-a4a7-40f1-8063-eb975bfa6115",
   "metadata": {},
   "outputs": [],
   "source": [
    "structure = Structure.from_pars(superphase, rep_multilayer, subphase, name='Multilayer Structure')\n",
    "model = Model.from_pars(structure, 1, 0, 0, 'Multilayer Model')"
   ]
  },
  {
   "cell_type": "markdown",
   "id": "4a7dbfcf-05e8-4795-926b-b9c6af0f26dc",
   "metadata": {},
   "source": [
    "In the analysis, we will only vary a single parameter, the thickness of titanium layer. "
   ]
  },
  {
   "cell_type": "code",
   "execution_count": null,
   "id": "db1e3df9-d0fa-421a-a959-a8b2fe483310",
   "metadata": {},
   "outputs": [],
   "source": [
    "ti_layer.thickness.bounds = (10, 60)"
   ]
  },
  {
   "cell_type": "markdown",
   "id": "8f0581b9-7690-4b17-9a4f-766ed92aaba2",
   "metadata": {},
   "source": [
    "## Choosing our calculation engine\n",
    "\n",
    "In the [previous tutorial](./simple_fitting.html), we used the default [refnx](https://refnx.readthedocs.io/) engine for our analysis. \n",
    "Here, we will change our engine to be [*Refl1D*](https://refl1d.readthedocs.io/en/latest/).\n",
    "This is achieved with the `interface.switch('refl1d')` method below. "
   ]
  },
  {
   "cell_type": "code",
   "execution_count": null,
   "id": "f1500603-d85d-4e16-b697-e1bf16502991",
   "metadata": {},
   "outputs": [],
   "source": [
    "interface = Interface()\n",
    "interface.switch('refl1d')\n",
    "model.interface = interface\n",
    "print(interface.current_interface.name)"
   ]
  },
  {
   "cell_type": "markdown",
   "id": "defd6dd5-c618-4af6-a5c7-17532207f0a0",
   "metadata": {},
   "source": [
    "## Performing an optimisation\n",
    "\n",
    "The [easyScience](easyScience.github.io/easyCore) framework allows us to access a broad range of optimisation methods.\n",
    "Below, we have selected the [differential evolution method from lmfit](https://lmfit.github.io/lmfit-py/examples/example_diffev.html)."
   ]
  },
  {
   "cell_type": "code",
   "execution_count": null,
   "id": "880d10d7-b655-4ef1-b376-21b2e4394160",
   "metadata": {},
   "outputs": [],
   "source": [
    "fitter = Fitter(model)\n",
    "analysed = fitter.fit(data, method='differential_evolution')\n",
    "analysed"
   ]
  },
  {
   "cell_type": "markdown",
   "id": "0481604e-3973-4e5d-a0ee-2f5915461d71",
   "metadata": {},
   "source": [
    "We can visualise the analysed model and SLD profile with the `plot` function. "
   ]
  },
  {
   "cell_type": "code",
   "execution_count": null,
   "id": "e59d3153-f0da-4fce-a4f0-a424010acbec",
   "metadata": {},
   "outputs": [],
   "source": [
    "plot(analysed)"
   ]
  },
  {
   "cell_type": "markdown",
   "id": "60d1896d-06ca-4bd2-b44c-d3788304220c",
   "metadata": {},
   "source": [
    "The value of the titanium layer thickness that gives this best fit can be found from the relavant object.\n",
    "Note that the uncertainty of 0 is due to the use of the lmfit differential evolution algorithm, which does not include uncertainty analysis. "
   ]
  },
  {
   "cell_type": "code",
   "execution_count": null,
   "id": "66608697-6199-4cb2-b030-3bc7107e5d5e",
   "metadata": {},
   "outputs": [],
   "source": [
    "ti_layer.thickness"
   ]
  },
  {
   "cell_type": "markdown",
   "id": "2bda9eee-f945-48df-a6d9-96d74f7bf1e4",
   "metadata": {},
   "source": [
    "This result of a thickness of 30 Å is the same as that which is used to produce the data. "
   ]
  }
 ],
 "metadata": {
  "kernelspec": {
   "display_name": "Python 3 (ipykernel)",
   "language": "python",
   "name": "python3"
  },
  "language_info": {
   "codemirror_mode": {
    "name": "ipython",
    "version": 3
   },
   "file_extension": ".py",
   "mimetype": "text/x-python",
   "name": "python",
   "nbconvert_exporter": "python",
   "pygments_lexer": "ipython3",
   "version": "3.11.7"
  }
 },
 "nbformat": 4,
 "nbformat_minor": 5
}
