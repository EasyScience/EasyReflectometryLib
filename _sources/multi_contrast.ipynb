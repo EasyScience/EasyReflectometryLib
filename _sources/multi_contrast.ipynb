{
 "cells": [
  {
   "cell_type": "markdown",
   "id": "7e1a1f25-dc5c-4768-8d0e-7a7aa9bb98fc",
   "metadata": {},
   "source": [
    "# Analysis of multiple isotopic contrasts\n",
    "\n",
    "In the use of neutron reflectometry, it is common to use multiple isotopic contrasts of experimental data to analyse a system in a constrained fashion. \n",
    "That is to say, that we have data from multiple different species (where isotopic substitution has been used to produce data with different scattering length density) that shar ethe same structure. \n",
    "In this tutorial we will look at how `EasyReflectometry` can be used to fit multiple contrasts of data from a [surfactant monolayer](./monolayer.html) system, if you haven't looked at the tutorial for a single contrast of surfactant monolayer data it is suggested that you as this tutorial will build on it."
   ]
  },
  {
   "cell_type": "markdown",
   "id": "9e2929d2",
   "metadata": {},
   "source": [
    "First configure matplotlib to place figures in notebook and import needed modules"
   ]
  },
  {
   "cell_type": "code",
   "execution_count": null,
   "id": "e7055fbd-2a72-40ce-aca5-6e35f723f8ec",
   "metadata": {},
   "outputs": [],
   "source": [
    "%matplotlib inline\n",
    "\n",
    "import EasyReflectometry\n",
    "import refnx\n",
    "from EasyReflectometry.data import load\n",
    "from EasyReflectometry.plot import plot\n",
    "from EasyReflectometry.sample.material import Material\n",
    "from EasyReflectometry.sample.item import SurfactantLayer\n",
    "from EasyReflectometry.sample import Layer, Structure\n",
    "from EasyReflectometry.experiment.model import Model\n",
    "from EasyReflectometry.interface import InterfaceFactory as Interface\n",
    "from EasyReflectometry.fitting import Fitter\n",
    "print(f'EasyReflectometry: {EasyReflectometry.__version__}')\n",
    "print(f'refnx: {refnx.__version__}')"
   ]
  },
  {
   "cell_type": "markdown",
   "id": "9c15bac0-c762-4235-ab57-aaa99471e2f1",
   "metadata": {},
   "source": [
    "## Reading in the experimental data\n",
    "\n",
    "We load in three different isotopic contrast that are stored in a single `.ort` file. \n",
    "This `.ort` file uses the [mutliple data set syntax](https://github.com/reflectivity/file_format/blob/master/specification.md#multiple-data-sets) to indicate that different measurements are present in a single file. "
   ]
  },
  {
   "cell_type": "code",
   "execution_count": null,
   "id": "694b4e5e-2d1a-402e-aa3f-a26cc82f7774",
   "metadata": {},
   "outputs": [],
   "source": [
    "data = load('_static/multiple.ort')"
   ]
  },
  {
   "cell_type": "markdown",
   "id": "0f30bd22-3c91-4b4e-819a-3fd9e555528e",
   "metadata": {},
   "source": [
    "We can plot the data and return the dimensions of the data to see the contrasts that are present. "
   ]
  },
  {
   "cell_type": "code",
   "execution_count": null,
   "id": "82c89248-9852-4196-859c-6beb8232599b",
   "metadata": {},
   "outputs": [],
   "source": [
    "data.dims"
   ]
  },
  {
   "cell_type": "code",
   "execution_count": null,
   "id": "095696d6-cb54-4c6c-b0d8-45b1c7ad103f",
   "metadata": {},
   "outputs": [],
   "source": [
    "plot(data)"
   ]
  },
  {
   "cell_type": "markdown",
   "id": "0fa55bb4-f20c-4008-b49b-109229bea64b",
   "metadata": {},
   "source": [
    "## Building our models\n",
    "\n",
    "It can be seen above that there are three isotopic contrasts present in the `'multiple.ort'` file, namely:\n",
    "- `'d13DSPC-D2O'`\n",
    "- `'d70DSPC-D2O'`\n",
    "- `'d83DSPC-ACMW'`\n",
    "\n",
    "where, `'d13'` indicates that it is the head layer that is deuterated, `'d70'` indicates that the tail is deuterated and `'d83'` indicates the whole molecule is deuterated. \n",
    "We describe these different deuterations as chemical formulae below. "
   ]
  },
  {
   "cell_type": "code",
   "execution_count": null,
   "id": "7834b80e-1dc9-47b8-923a-dec58e3494be",
   "metadata": {},
   "outputs": [],
   "source": [
    "dspc = {'d-head': 'C10D18NO8P', 'd-tail': 'C34D70',\n",
    "        'h-head': 'C10H18NO8P', 'h-tail': 'C34H70'}"
   ]
  },
  {
   "cell_type": "markdown",
   "id": "60bb92d4-62dc-4bd4-9a2a-e0cc09cb167b",
   "metadata": {},
   "source": [
    "The solvent contrast is indicated as either D2O or ACMW (air-contrast matched water). "
   ]
  },
  {
   "cell_type": "code",
   "execution_count": null,
   "id": "58855c68-c95b-40de-9fee-a662771c247b",
   "metadata": {},
   "outputs": [],
   "source": [
    "d2o = Material.from_pars(6.36, 0, 'D2O')\n",
    "acmw = Material.from_pars(0, 0, 'ACMW')"
   ]
  },
  {
   "cell_type": "markdown",
   "id": "f249860e-10a7-4ca6-82d5-44f275949dee",
   "metadata": {},
   "source": [
    "All of the contrasts are at the air/water interface, so we also need an `air` material."
   ]
  },
  {
   "cell_type": "code",
   "execution_count": null,
   "id": "08112c21-2027-47ba-845b-a3135439d862",
   "metadata": {},
   "outputs": [],
   "source": [
    "air = Material.from_pars(0, 0, 'Air')"
   ]
  },
  {
   "cell_type": "markdown",
   "id": "b0fb931b-fa81-42ab-a907-fe5d384d003e",
   "metadata": {},
   "source": [
    "Then we can create all of the traditional layers that we will need. "
   ]
  },
  {
   "cell_type": "code",
   "execution_count": null,
   "id": "e7caedc2-8305-4f3b-bad2-c042bacb363b",
   "metadata": {},
   "outputs": [],
   "source": [
    "d2o_layer = Layer.from_pars(d2o, 0, 3, 'D2O Subphase')\n",
    "acmw_layer = Layer.from_pars(acmw, 0, 3, 'D2O Subphase')\n",
    "air_layer = Layer.from_pars(air, 0, 0, 'Air Superphase')"
   ]
  },
  {
   "cell_type": "markdown",
   "id": "bb3c7fa9-162a-43b3-b70b-4d2813db2d29",
   "metadata": {},
   "source": [
    "The different isotopic contrasts of `SurfactantLayer` objects can also be created (all with the same structural parameters)."
   ]
  },
  {
   "cell_type": "code",
   "execution_count": null,
   "id": "74e19578-03d4-4295-b6e2-a65fb2508c78",
   "metadata": {},
   "outputs": [],
   "source": [
    "head_thickness = 12\n",
    "tail_thickness = 20\n",
    "head_solvation = 0.5\n",
    "tail_solvation = 0.0\n",
    "area_per_molecule = 45\n",
    "roughness = 3"
   ]
  },
  {
   "cell_type": "code",
   "execution_count": null,
   "id": "021272e0-7abb-4703-a4cd-92daed10ae50",
   "metadata": {},
   "outputs": [],
   "source": [
    "d13d2o = SurfactantLayer.from_pars(dspc['h-tail'], tail_thickness, d2o, tail_solvation, \n",
    "                                   area_per_molecule, roughness,\n",
    "                                   dspc['d-head'], head_thickness, d2o, head_solvation, \n",
    "                                   area_per_molecule, roughness)\n",
    "d13d2o.constrain_apm = True\n",
    "d13d2o.conformal_roughness = True\n",
    "d13d2o.constrain_solvent_roughness(d2o_layer)\n",
    "d70d2o = SurfactantLayer.from_pars(dspc['d-tail'], tail_thickness, d2o, tail_solvation, \n",
    "                                   area_per_molecule, roughness,\n",
    "                                   dspc['h-head'], head_thickness, d2o, head_solvation, \n",
    "                                   area_per_molecule, roughness)\n",
    "d70d2o.constrain_apm = True\n",
    "d70d2o.conformal_roughness = True\n",
    "d70d2o.constrain_solvent_roughness(d2o_layer)\n",
    "d83acmw = SurfactantLayer.from_pars(dspc['d-tail'], tail_thickness, acmw, tail_solvation, \n",
    "                                    area_per_molecule, roughness,\n",
    "                                    dspc['d-head'], head_thickness, acmw, head_solvation, \n",
    "                                    area_per_molecule, roughness)\n",
    "d83acmw.constrain_apm = True\n",
    "d83acmw.conformal_roughness = True\n",
    "d83acmw.constrain_solvent_roughness(acmw_layer)"
   ]
  },
  {
   "cell_type": "markdown",
   "id": "58dad79b-6145-4159-966e-9eb0f15558e5",
   "metadata": {},
   "source": [
    "## Introducing constraints\n",
    "\n",
    "Then to ensure that the structure (thicknesss, area per molecule, etc.) is kept the same between the different contrasts we constain these (`layer2` is the head layer and `layer1`, which the neutron are incident on first are the tail layer). \n",
    "The `constrain_multiple_contrast` method allows this, not that is it important that a chain of constraints is produced, one constraining the next. "
   ]
  },
  {
   "cell_type": "code",
   "execution_count": null,
   "id": "24808923-ba02-4a7d-9be3-8d717b08aa8e",
   "metadata": {},
   "outputs": [],
   "source": [
    "# These four lines should be removed in future\n",
    "d70d2o.layers[1].area_per_molecule.enabled = True\n",
    "d70d2o.layers[0].area_per_molecule.enabled = True\n",
    "d83acmw.layers[1].area_per_molecule.enabled = True\n",
    "d83acmw.layers[0].area_per_molecule.enabled = True\n",
    "\n",
    "d70d2o.constain_multiple_contrast(d13d2o)\n",
    "d83acmw.constain_multiple_contrast(d70d2o)"
   ]
  },
  {
   "cell_type": "markdown",
   "id": "bfad7f64-7c81-41e0-8f7c-d99b535bade3",
   "metadata": {},
   "source": [
    "We can check this constraint as worked as follows."
   ]
  },
  {
   "cell_type": "code",
   "execution_count": null,
   "id": "f21a92b7-f2b0-4315-a92b-950aa1e80b63",
   "metadata": {},
   "outputs": [],
   "source": [
    "d13d2o.layers[1].thickness.raw_value, d70d2o.layers[1].thickness.raw_value, d83acmw.layers[1].thickness.raw_value"
   ]
  },
  {
   "cell_type": "code",
   "execution_count": null,
   "id": "e31a4807-c6f4-4bfd-986e-749955aa7e49",
   "metadata": {},
   "outputs": [],
   "source": [
    "d13d2o.layers[1].thickness.value = 10"
   ]
  },
  {
   "cell_type": "code",
   "execution_count": null,
   "id": "df2dbb56-6dc1-4388-97b7-1aef9da1769e",
   "metadata": {},
   "outputs": [],
   "source": [
    "d13d2o.layers[1].thickness.raw_value, d70d2o.layers[1].thickness.raw_value, d83acmw.layers[1].thickness.raw_value"
   ]
  },
  {
   "cell_type": "markdown",
   "id": "01abb1a2-1c77-4c59-b8ae-58fc29c00857",
   "metadata": {},
   "source": [
    "Even through only as single value (that for the d13-DSPC head thickness) was changed, all three values changed. \n",
    "\n",
    "Having constructed each of the surfactant layer object and implemented the constraints, we can now build structures and models. "
   ]
  },
  {
   "cell_type": "code",
   "execution_count": null,
   "id": "6e92498a-581b-445d-94cd-dda6474f1984",
   "metadata": {},
   "outputs": [],
   "source": [
    "d13d2o_structure = Structure.from_pars(air_layer, d13d2o, d2o_layer)\n",
    "d70d2o_structure = Structure.from_pars(air_layer, d70d2o, d2o_layer)\n",
    "d83acmw_structure = Structure.from_pars(air_layer, d83acmw, acmw_layer)\n",
    "d13d2o_model = Model.from_pars(d13d2o_structure, 0.1, data['data']['R_d13DSPC-D2O'].values.min(), 5)\n",
    "d70d2o_model = Model.from_pars(d70d2o_structure, 0.1, data['data']['R_d70DSPC-D2O'].values.min(), 5)\n",
    "d83acmw_model = Model.from_pars(d83acmw_structure, 0.1, data['data']['R_d83DSPC-ACMW'].values.min(), 5)"
   ]
  },
  {
   "cell_type": "markdown",
   "id": "f40ff64a-2777-4d9a-b7ff-ad0ac66f7916",
   "metadata": {},
   "source": [
    "## Setting varying parameters\n",
    "\n",
    "For this analysis, we want the scale and background for each model to vary and then some of the structural parameters. \n",
    "Since the structural parameters are constrained, we only need to define the bounds once. \n",
    "In the case on the `d13d2o` object, as this is the basis for the constraints. "
   ]
  },
  {
   "cell_type": "code",
   "execution_count": null,
   "id": "cf35ee97-2d64-4a0f-9212-7cca8bb2dcfc",
   "metadata": {},
   "outputs": [],
   "source": [
    "d13d2o_model.scale.bounds = (0.05, 1.5)\n",
    "d13d2o_model.background.bounds = (4e-8, 1e-5)\n",
    "d70d2o_model.scale.bounds = (0.05, 1.5)\n",
    "d70d2o_model.background.bounds = (4e-8, 1e-5)\n",
    "d83acmw_model.scale.bounds = (0.05, 1.5)\n",
    "d83acmw_model.background.bounds = (4e-8, 1e-5)\n",
    "\n",
    "d13d2o.layers[0].area_per_molecule.bounds = (40, 50)\n",
    "d13d2o.layers[1].solvation.bounds = (0.2, 0.6)\n",
    "d13d2o.layers[0].thickness.bounds = (18, 24)\n",
    "d13d2o.layers[1].thickness.bounds = (8, 12)"
   ]
  },
  {
   "cell_type": "markdown",
   "id": "de0f41e9-785a-4591-8dfe-d694ef0d52b3",
   "metadata": {},
   "source": [
    "## Creating interfaces and performing the fitting\n",
    "\n",
    "The model has been created and the parameters defined, so the fitting process can begin. \n",
    "First, we should create a unique interface for each of the models. "
   ]
  },
  {
   "cell_type": "code",
   "execution_count": null,
   "id": "dc8e7f8f-6b4b-45ce-a38c-274dea683df4",
   "metadata": {},
   "outputs": [],
   "source": [
    "d13d2o_model.interface = Interface()\n",
    "d70d2o_model.interface = Interface()\n",
    "d83acmw_model.interface = Interface()"
   ]
  },
  {
   "cell_type": "markdown",
   "id": "0570619e-2768-409d-ab9d-2c2c584dd711",
   "metadata": {},
   "source": [
    "The models and the interface fit functions are then passed to the `Fitter` object, which is capable of performed the multiple dataset fitting process."
   ]
  },
  {
   "cell_type": "code",
   "execution_count": null,
   "id": "ce890544-f3cf-4a74-b927-d19dc292e12c",
   "metadata": {},
   "outputs": [],
   "source": [
    "f = Fitter(d13d2o_model, d70d2o_model, d83acmw_model)"
   ]
  },
  {
   "cell_type": "code",
   "execution_count": null,
   "id": "0cb9d7b4-aa04-4c73-a700-4ff5af7e6f47",
   "metadata": {},
   "outputs": [],
   "source": [
    "analysed = f.fit(data)"
   ]
  },
  {
   "cell_type": "markdown",
   "id": "47526f09-c8b9-40bf-ba31-8873dc64e11e",
   "metadata": {},
   "source": [
    "Once the fitting is complete, we can probe a given value to check that the constraints have been respected or plot the results."
   ]
  },
  {
   "cell_type": "code",
   "execution_count": null,
   "id": "28f5d3e2-0e2f-4ef0-bc70-0f508b7fbc52",
   "metadata": {},
   "outputs": [],
   "source": [
    "d13d2o.layers[1].area_per_molecule.raw_value, d70d2o.layers[1].area_per_molecule.raw_value, d83acmw.layers[1].area_per_molecule.raw_value"
   ]
  },
  {
   "cell_type": "code",
   "execution_count": null,
   "id": "faf00d17-55ea-45c3-be9e-772bf5cea70f",
   "metadata": {},
   "outputs": [],
   "source": [
    "plot(analysed)"
   ]
  }
 ],
 "metadata": {
  "kernelspec": {
   "display_name": "Python 3 (ipykernel)",
   "language": "python",
   "name": "python3"
  },
  "language_info": {
   "codemirror_mode": {
    "name": "ipython",
    "version": 3
   },
   "file_extension": ".py",
   "mimetype": "text/x-python",
   "name": "python",
   "nbconvert_exporter": "python",
   "pygments_lexer": "ipython3",
   "version": "3.11.7"
  }
 },
 "nbformat": 4,
 "nbformat_minor": 5
}
