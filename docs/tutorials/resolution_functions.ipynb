{
 "cells": [
  {
   "cell_type": "markdown",
   "id": "a60117e3-d089-4375-ac7c-12a52ed47271",
   "metadata": {},
   "source": [
    "# Resolution functions\n",
    "The purpose of the resolution function is to enable the `EasyReflectometry` model to quantify the experimental uncertainties in wavelength and incident angle.\n",
    "When determining reflectivity the resolution function defines the smearing to apply.  For a given Q-point such smearing is applied by determining an average of the neighboring Q-point weigthed by a normal distribution, which has a Q-point dependent Full Width at the Half Maximum (FWHM) that again is defined by the resolution function.\n",
    "\n",
    "Often we rely on a resolution function that has a simple functional dependecy of the Q-point.  By this is understood that the applied smearing in an Q point-has a FWHM that is given as a percentage of the value of the Q-point.\n",
    "\n",
    "Alternatively the FWHM value might be determined and declared directly for each measured Q-point.\n",
    "When this is the case the provided Q-points and the corresponding FWHM values can be used to declare a linear spline function and thereby enable a determination of the reflectivity at an arbitrary point within the provided range of discrete Q-points."
   ]
  },
  {
   "cell_type": "markdown",
   "id": "f5d0bd58",
   "metadata": {},
   "source": [
    "## Setup\n",
    "First configure matplotlib to place figures in notebook and import needed modules"
   ]
  },
  {
   "cell_type": "code",
   "execution_count": null,
   "id": "29d5d62d-af4a-416d-bbe2-1338d32b30f5",
   "metadata": {},
   "outputs": [],
   "source": [
    "%matplotlib inline\n",
    "\n",
    "import matplotlib.pyplot as plt\n",
    "import numpy as np\n",
    "import scipp as sc\n",
    "\n",
    "\n",
    "import EasyReflectometry\n",
    "import refnx\n",
    "\n",
    "from EasyReflectometry.calculators import CalculatorFactory\n",
    "from EasyReflectometry.data import load\n",
    "from EasyReflectometry.experiment import Model\n",
    "from EasyReflectometry.experiment import percentage_fhwm_resolution_function\n",
    "from EasyReflectometry.experiment import linear_spline_resolution_function\n",
    "from EasyReflectometry.sample import Layer\n",
    "from EasyReflectometry.sample import Material\n",
    "from EasyReflectometry.sample import Multilayer\n",
    "from EasyReflectometry.sample import Sample\n",
    "from EasyReflectometry.plot import plot"
   ]
  },
  {
   "cell_type": "markdown",
   "id": "8fd3e8f7-84ac-41c4-a89d-922ed82a001e",
   "metadata": {},
   "source": [
    "For reference we fetch the version of the software packages we are using. "
   ]
  },
  {
   "cell_type": "code",
   "execution_count": null,
   "id": "549734c1-bbd9-41f3-8a20-d7a8ded37802",
   "metadata": {},
   "outputs": [],
   "source": [
    "print(f'numpy: {np.__version__}')\n",
    "print(f'scipp: {sc.__version__}')\n",
    "print(f'EasyReflectometry: {EasyReflectometry.__version__}')\n",
    "print(f'Refl1D: {refnx.__version__}')"
   ]
  },
  {
   "cell_type": "markdown",
   "id": "687719c7-d5a2-4d60-953f-c854c5ca1c4a",
   "metadata": {},
   "source": [
    "## Reading in measured data\n",
    "\n",
    "The data that we will investigate in this tutorial was generated with `Refnx` and are stored in `.ort` [format file](https://github.com/reflectivity/file_format/blob/master/specification.md) files. In this tutorial we are investigation how we can include resolution effects when simulating and reproducing data measured in an experiment.  For an `.ort` file the resoultion data for reflectivity is stored in the fourth column.\n",
    "\n",
    "IMPORTANT when using `EasyReflectometry` functionality for loading an `.ort` file we store the resolution data as a variance (squared value).  As a consequence one needs to take the squareroot of the loaded data to recover the raw values (fourth column)."
   ]
  },
  {
   "cell_type": "code",
   "execution_count": null,
   "id": "609174e5-1371-412d-a29f-cb05bfe36df0",
   "metadata": {},
   "outputs": [],
   "source": [
    "dict_reference = {}\n",
    "dict_reference['0'] = load(\"_static/resolution/mod_pointwise_two_layer_sample_dq-0.0.ort\")\n",
    "dict_reference['1'] = load(\"_static/resolution/mod_pointwise_two_layer_sample_dq-1.0.ort\")\n",
    "dict_reference['10'] = load('_static/resolution/mod_pointwise_two_layer_sample_dq-10.0.ort')"
   ]
  },
  {
   "cell_type": "markdown",
   "id": "1ab3a164-62c8-4bd3-b0d8-e6f22c83dc74",
   "metadata": {},
   "source": [
    "As an example we can plot the reference data without any resolution effects."
   ]
  },
  {
   "cell_type": "code",
   "execution_count": null,
   "id": "31ab44d3-826a-4270-9046-ad667dcb66ba",
   "metadata": {},
   "outputs": [],
   "source": [
    "plot(dict_reference['0'])"
   ]
  },
  {
   "cell_type": "markdown",
   "id": "dad78ccc-1e6f-47cd-8557-c4fa6c736f4b",
   "metadata": {},
   "source": [
    "## Building our model\n",
    "\n",
    "The system that was used to produce the data shown above is based on a silicon subphase with two layers upon it. \n",
    "These two layers are charachterized by having a scattering length density (SLD) of respectively 4 and 8.\n",
    "Both layers have a rougness of 2 but their thicknesses are 100 and 150 angstrom respectively.\n",
    "We show the model that will be used graphically below. \n",
    "\n",
    "<center>\n",
    "    <img src='_static/two_layers.png' alt='A slab model description of the two_layers system.' width='300px'></img>\n",
    "</center>\n",
    "<center>\n",
    "    A slab model description of the two layer.\n",
    "</center>\n",
    "\n",
    "To construct such a layer structure, first we create each of the materials, the associated layers, and the sub and super phases. "
   ]
  },
  {
   "cell_type": "code",
   "execution_count": null,
   "id": "0f95d620-35b7-4b47-a3b4-9e33d5525b50",
   "metadata": {},
   "outputs": [],
   "source": [
    "sld_4 = Material(sld=4.0, isld=0, name='Sld 4')\n",
    "sld_8 = Material(sld=8.0, isld=0, name='Sld 8')\n",
    "vacuum = Material(sld=0, isld=0, name='Vacuum')\n",
    "si = Material(sld=2.047, isld=0, name='Si')"
   ]
  },
  {
   "cell_type": "code",
   "execution_count": null,
   "id": "9a0b37ed-8714-4614-b49f-1e86ac232ac1",
   "metadata": {},
   "outputs": [],
   "source": [
    "sld_4_layer = Layer(material=sld_4, thickness=100, roughness=2, name='SLD 4 Layer')\n",
    "sld_8_layer = Layer(material=sld_8, thickness=150, roughness=2, name='SLD 8 Layer')\n",
    "superphase = Layer(material=vacuum, thickness=0, roughness=0, name='Vacuum Superphase')\n",
    "subphase = Layer(material=si, thickness=0, roughness=2, name='Si Subphase')"
   ]
  },
  {
   "cell_type": "markdown",
   "id": "f63ec440-089f-46cf-8ff5-be5012ad8dc8",
   "metadata": {},
   "source": [
    "Then, to produce the two layered structure, we use the `Multilayer` [assembly type](../sample/assemblies_library.rst#Multilayer)."
   ]
  },
  {
   "cell_type": "code",
   "execution_count": null,
   "id": "311b25a1-6d5d-4e91-a72e-394ad8dcf464",
   "metadata": {},
   "outputs": [],
   "source": [
    "two_layers = Multilayer([sld_4_layer, sld_8_layer], name='SLD 4/8 Layer')\n",
    "two_layers"
   ]
  },
  {
   "cell_type": "markdown",
   "id": "1c32d8ad-9baf-41bf-9fd8-419b92be36c4",
   "metadata": {},
   "source": [
    "From this, we can construct our structure and combine this with a scaling and background."
   ]
  },
  {
   "cell_type": "code",
   "execution_count": null,
   "id": "2af8c30b",
   "metadata": {},
   "outputs": [],
   "source": [
    "sample = Sample(superphase, two_layers, subphase, name='Two Layer Sample')\n",
    "model = Model(\n",
    "    sample=sample,\n",
    "    scale=1,\n",
    "    background=0,\n",
    "    name='Two Layer Model',\n",
    ")"
   ]
  },
  {
   "cell_type": "markdown",
   "id": "8f0581b9-7690-4b17-9a4f-766ed92aaba2",
   "metadata": {},
   "source": [
    "## Set the calculation engine\n",
    "\n",
    "We will use the default [Refnx](https://refnx.readthedocs.io/) calculator for our analysis. "
   ]
  },
  {
   "cell_type": "code",
   "execution_count": null,
   "id": "f1500603-d85d-4e16-b697-e1bf16502991",
   "metadata": {},
   "outputs": [],
   "source": [
    "interface = CalculatorFactory()\n",
    "model.interface = interface\n",
    "print(interface.current_interface.name)"
   ]
  },
  {
   "cell_type": "markdown",
   "id": "defd6dd5-c618-4af6-a5c7-17532207f0a0",
   "metadata": {},
   "source": [
    "## Resolution functions\n",
    "\n",
    "We now define the different resoultion functions.  "
   ]
  },
  {
   "cell_type": "code",
   "execution_count": null,
   "id": "880d10d7-b655-4ef1-b376-21b2e4394160",
   "metadata": {},
   "outputs": [],
   "source": [
    "resolution_function_dict = {}\n",
    "resolution_function_dict['0'] = linear_spline_resolution_function(\n",
    "    q_data_points=dict_reference['0']['coords']['Qz_0'].values,\n",
    "    fwhm_values=np.sqrt(dict_reference['0']['coords']['Qz_0'].variances),\n",
    ")\n",
    "\n",
    "resolution_function_dict['1'] = linear_spline_resolution_function(\n",
    "    q_data_points=dict_reference['1']['coords']['Qz_0'].values,\n",
    "    fwhm_values=np.sqrt(dict_reference['1']['coords']['Qz_0'].variances),\n",
    ")\n",
    "\n",
    "resolution_function_dict['10'] = linear_spline_resolution_function(\n",
    "    q_data_points=dict_reference['10']['coords']['Qz_0'].values,\n",
    "    fwhm_values=np.sqrt(dict_reference['10']['coords']['Qz_0'].variances),\n",
    ")"
   ]
  },
  {
   "cell_type": "markdown",
   "id": "0481604e-3973-4e5d-a0ee-2f5915461d71",
   "metadata": {},
   "source": [
    "## Simulations\n",
    "The next step is to visualise how the resolution functions affect the model.  \n",
    "Furthermore, we compare the here determined reflectivities (Resolution) and the ones that were determined in `Refnx` (Reference)."
   ]
  },
  {
   "cell_type": "code",
   "execution_count": null,
   "id": "e59d3153-f0da-4fce-a4f0-a424010acbec",
   "metadata": {},
   "outputs": [],
   "source": [
    "for key in resolution_function_dict.keys():\n",
    "    reference_coords = dict_reference[key]['coords']['Qz_0'].values\n",
    "    reference_data = dict_reference[key]['data']['R_0'].values\n",
    "    model_coords = np.linspace(\n",
    "        start=min(reference_coords),\n",
    "        stop=max(reference_coords),\n",
    "        num=1000,\n",
    "    )\n",
    "    model.resolution_function = resolution_function_dict[key]\n",
    "    model_data = model.interface().fit_func(\n",
    "        model_coords,\n",
    "        model.uid,\n",
    "    )\n",
    "    plt.plot(model_coords, model_data, 'k-', label=f'Resolution: {key}%')\n",
    "    plt.plot(reference_coords, reference_data, 'rx', label=f'Reference')\n",
    "    ax = plt.gca()\n",
    "    ax.set_xlim([-0.01, 0.45])\n",
    "    ax.set_ylim([1e-10, 2.5])\n",
    "    plt.legend()\n",
    "    plt.yscale('log')\n",
    "    plt.show()"
   ]
  },
  {
   "cell_type": "markdown",
   "id": "60d1896d-06ca-4bd2-b44c-d3788304220c",
   "metadata": {},
   "source": [
    "From the plots it is apparent that an increasing resolution flattens the reflectivity profile."
   ]
  },
  {
   "cell_type": "markdown",
   "id": "e3c97d1b",
   "metadata": {},
   "source": [
    "## Afterthoughts\n",
    "As a last task we will compare the reflectivity determined using a percentage resolution function and a point-wise function.\n",
    "We should recall that the \"experimental\" data was generated using `Refnx`.\n",
    "By comparing the reflectivities determined using a resolution function with a FWHM of 1.0% and the point-wise FHWN constructed from data in a `.ort` file it is apparent that this reference data also was constructed using a resolution function of 1.0%."
   ]
  },
  {
   "cell_type": "code",
   "execution_count": null,
   "id": "ca0932f6",
   "metadata": {},
   "outputs": [],
   "source": [
    "key = '1'\n",
    "reference_coords = dict_reference[key]['coords']['Qz_0'].values\n",
    "reference_data = dict_reference[key]['data']['R_0'].values\n",
    "model_coords = np.linspace(\n",
    "    start=min(reference_coords),\n",
    "    stop=max(reference_coords),\n",
    "    num=1000,\n",
    ")\n",
    "\n",
    "model.resolution_function = resolution_function_dict[key]\n",
    "model_data = model.interface().fit_func(\n",
    "    model_coords,\n",
    "    model.uid,\n",
    ")\n",
    "plt.plot(model_coords, model_data, 'k-', label=f'Variable', linewidth=5)\n",
    "\n",
    "model.resolution_function = percentage_fhwm_resolution_function(1.0)\n",
    "model_data = model.interface().fit_func(\n",
    "    model_coords,\n",
    "    model.uid,\n",
    ")\n",
    "plt.plot(model_coords, model_data, 'r-', label=f'Percentage')\n",
    "\n",
    "ax = plt.gca()\n",
    "ax.set_xlim([-0.01, 0.45])\n",
    "ax.set_ylim([1e-10, 2.5])\n",
    "plt.legend()\n",
    "plt.yscale('log')\n",
    "plt.show()"
   ]
  }
 ],
 "metadata": {
  "kernelspec": {
   "display_name": "erl_311",
   "language": "python",
   "name": "python3"
  },
  "language_info": {
   "codemirror_mode": {
    "name": "ipython",
    "version": 3
   },
   "file_extension": ".py",
   "mimetype": "text/x-python",
   "name": "python",
   "nbconvert_exporter": "python",
   "pygments_lexer": "ipython3",
   "version": "3.11.8"
  }
 },
 "nbformat": 4,
 "nbformat_minor": 5
}
