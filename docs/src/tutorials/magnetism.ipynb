{
 "cells": [
  {
   "cell_type": "markdown",
   "id": "a60117e3-d089-4375-ac7c-12a52ed47271",
   "metadata": {},
   "source": [
    "# Magnetism\n",
    "\n",
    "Magntism is only available in Refl1d and it does not support RepeatingMultilayer\n",
    "\n"
   ]
  },
  {
   "cell_type": "markdown",
   "id": "f5d0bd58",
   "metadata": {},
   "source": [
    "## Setup\n",
    "First configure matplotlib to place figures in notebook and import needed modules"
   ]
  },
  {
   "cell_type": "code",
   "execution_count": null,
   "id": "29d5d62d-af4a-416d-bbe2-1338d32b30f5",
   "metadata": {},
   "outputs": [],
   "source": [
    "%matplotlib inline\n",
    "\n",
    "import matplotlib.pyplot as plt\n",
    "import numpy as np\n",
    "import scipp as sc\n",
    "\n",
    "import easyreflectometry\n",
    "import refl1d\n",
    "import refl1d.names\n",
    "\n",
    "from easyreflectometry.calculators import CalculatorFactory\n",
    "from easyreflectometry.experiment import Model\n",
    "from easyreflectometry.experiment import PercentageFhwm\n",
    "from easyreflectometry.sample import Layer\n",
    "from easyreflectometry.sample import Material\n",
    "from easyreflectometry.sample import Multilayer\n",
    "from easyreflectometry.sample import Sample"
   ]
  },
  {
   "cell_type": "markdown",
   "id": "8fd3e8f7-84ac-41c4-a89d-922ed82a001e",
   "metadata": {},
   "source": [
    "For reference we fetch the version of the software packages we are using. "
   ]
  },
  {
   "cell_type": "code",
   "execution_count": null,
   "id": "549734c1-bbd9-41f3-8a20-d7a8ded37802",
   "metadata": {},
   "outputs": [],
   "source": [
    "print(f'numpy: {np.__version__}')\n",
    "print(f'scipp: {sc.__version__}')\n",
    "print(f'easyreflectometry: {easyreflectometry.__version__}')\n",
    "print(f'refl1d: {refl1d.__version__}')"
   ]
  },
  {
   "cell_type": "markdown",
   "id": "dad78ccc-1e6f-47cd-8557-c4fa6c736f4b",
   "metadata": {},
   "source": [
    "## Building our model\n",
    "\n",
    "The system that was used to produce the data shown above is based on a silicon subphase with two layers upon it. \n",
    "These two layers are charachterized by having a scattering length density (SLD) of respectively 4 and 8.\n",
    "Both layers have a rougness of 2 but their thicknesses are 100 and 150 angstrom respectively.\n",
    "We show the model that will be used graphically below. \n",
    "\n",
    "<center>\n",
    "    <img src='sample/two_layers.png' alt='A slab model description of the two_layers system.' width='300px'></img>\n",
    "</center>\n",
    "<center>\n",
    "    A slab model description of the two layer.\n",
    "</center>\n",
    "\n",
    "To construct such a layer structure, first we create each of the materials, the associated layers, and the sub and super phases. "
   ]
  },
  {
   "cell_type": "code",
   "execution_count": null,
   "id": "0f95d620-35b7-4b47-a3b4-9e33d5525b50",
   "metadata": {},
   "outputs": [],
   "source": [
    "sld_4 = Material(sld=4.0, isld=0, name='Sld 4')\n",
    "sld_4_layer = Layer(material=sld_4, thickness=100, roughness=2, name='SLD 4 Layer')\n",
    "\n",
    "sld_8 = Material(sld=8.0, isld=0, name='Sld 8')\n",
    "sld_8_layer = Layer(material=sld_8, thickness=150, roughness=2, name='SLD 8 Layer')\n",
    "\n",
    "vacuum = Material(sld=0, isld=0, name='Vacuum')\n",
    "superphase = Layer(material=vacuum, thickness=0, roughness=2, name='Vacuum Superphase')\n",
    "\n",
    "si = Material(sld=2.047, isld=0, name='Si')\n",
    "subphase = Layer(material=si, thickness=0, roughness=2, name='Si Subphase')"
   ]
  },
  {
   "cell_type": "markdown",
   "id": "f63ec440-089f-46cf-8ff5-be5012ad8dc8",
   "metadata": {},
   "source": [
    "We then create a model for the two layered structures."
   ]
  },
  {
   "cell_type": "code",
   "execution_count": null,
   "id": "2af8c30b",
   "metadata": {},
   "outputs": [],
   "source": [
    "two_layers = Multilayer([sld_4_layer, sld_8_layer], name='SLD 4/8 Layer')\n",
    "sample = Sample(superphase, two_layers, subphase, name='Two Layer Sample')\n",
    "model = Model(\n",
    "    sample=sample,\n",
    "    scale=1,\n",
    "    background=0,\n",
    "    name='Two Layer Model',\n",
    ")"
   ]
  },
  {
   "cell_type": "markdown",
   "id": "a1d3ad93",
   "metadata": {},
   "source": [
    "We also need a Refl1d sample"
   ]
  },
  {
   "cell_type": "code",
   "execution_count": null,
   "id": "b0259cd0",
   "metadata": {},
   "outputs": [],
   "source": [
    "refl1d_sld_4 = refl1d.names.SLD(name=\"Sld 4\", rho=4.0, irho=0)\n",
    "refl1d_sld_8 = refl1d.names.SLD(name=\"Sld 8\", rho=8.0, irho=0)\n",
    "refl1d_vacuum = refl1d.names.SLD(name=\"Vacuum\", rho=0, irho=0)\n",
    "refl1d_si = refl1d.names.SLD(name=\"Si\", rho=2.047, irho=0)\n",
    "\n",
    "# Refl1d model is inverted as compared to EasyReflectometry, so the order of the layers is reversed\n",
    "refl1d_sample = (\n",
    "    refl1d_si(0, 2) | \n",
    "    refl1d_sld_8(150, 2) |\n",
    "    refl1d_sld_4(100, 2) | \n",
    "    refl1d_vacuum(0, 2)\n",
    ") "
   ]
  },
  {
   "cell_type": "markdown",
   "id": "8f0581b9-7690-4b17-9a4f-766ed92aaba2",
   "metadata": {},
   "source": [
    "## Prepare interface factory\n",
    "\n",
    "We will use the [Ref1d](https://refl1d.readthedocs.io/en/latest/) and [Refnx](https://refnx.readthedocs.io/) calculator for our analysis. "
   ]
  },
  {
   "cell_type": "code",
   "execution_count": null,
   "id": "f1500603-d85d-4e16-b697-e1bf16502991",
   "metadata": {},
   "outputs": [],
   "source": [
    "interface = CalculatorFactory()"
   ]
  },
  {
   "cell_type": "markdown",
   "id": "0481604e-3973-4e5d-a0ee-2f5915461d71",
   "metadata": {},
   "source": [
    "## Comparisons\n",
    "To validate the implementation we do some comparisons of the reflectevity determined in EasyReflectometry using different calculators or directly in Refl1d."
   ]
  },
  {
   "cell_type": "code",
   "execution_count": null,
   "id": "18010202",
   "metadata": {},
   "outputs": [],
   "source": [
    "model_coords = np.linspace(\n",
    "    start=0.001,\n",
    "    stop=0.3,\n",
    "    num=1000,\n",
    ")\n",
    "\n",
    "def plot_apply_makeup():\n",
    "    ax = plt.gca()\n",
    "    ax.set_xlim([-0.01, 0.35])\n",
    "    ax.set_ylim([1e-8, 2.5])\n",
    "    plt.legend()\n",
    "    plt.yscale('log')\n",
    "    plt.show()"
   ]
  },
  {
   "cell_type": "markdown",
   "id": "61bae570",
   "metadata": {},
   "source": [
    "### Refl1d and EasyReflectometry without magnetism\n",
    "First we will ensure that the Refl1d calculator is correctly implemented in EasyReflectometry when no magnetic effects are present."
   ]
  },
  {
   "cell_type": "code",
   "execution_count": null,
   "id": "cdf959c8",
   "metadata": {},
   "outputs": [],
   "source": [
    "# Refl1d\n",
    "probe = refl1d.names.QProbe(\n",
    "        Q=model_coords,\n",
    "        dQ=np.zeros(len(model_coords)),\n",
    "        intensity=1,\n",
    "        background=0,\n",
    "    )\n",
    "experiment = refl1d.names.Experiment(probe=probe, sample=refl1d_sample)\n",
    "model_data_no_magnetism_ref1d_raw = experiment.reflectivity()[1]\n",
    "\n",
    "plt.plot(model_coords, model_data_no_magnetism_ref1d_raw, '-k', label='Refl1d', linewidth=4)\n",
    "\n",
    "# EasyReflectometry\n",
    "interface.switch('refl1d')\n",
    "model.interface = interface\n",
    "model.resolution_function = PercentageFhwm(0)\n",
    "model_interface = model.interface()\n",
    "model_interface.magnetism = False\n",
    "model_data_no_magnetism_ref1d_easy = model.interface().fit_func(\n",
    "    model_coords,\n",
    "    model.uid,\n",
    ")\n",
    "plt.plot(model_coords, model_data_no_magnetism_ref1d_easy, 'r-', label=f'EasyReflectometry ({model_interface.name})', linewidth=2)\n",
    "\n",
    "plot_apply_makeup()"
   ]
  },
  {
   "cell_type": "markdown",
   "id": "60d1896d-06ca-4bd2-b44c-d3788304220c",
   "metadata": {},
   "source": [
    "### EasyReflectometry with and without magnetic layers\n",
    "We have now reached the point where we can do sa simulation for a sample with magnetic layers.  For this sample we should see a difference in the determined reflectivity."
   ]
  },
  {
   "cell_type": "code",
   "execution_count": null,
   "id": "bf311973",
   "metadata": {},
   "outputs": [],
   "source": [
    "# Without magnetic layers\n",
    "interface.switch('refl1d')\n",
    "model.interface = interface\n",
    "model_interface = model.interface()\n",
    "model_interface.magnetism = True\n",
    "model_data_magnetism = model.interface().fit_func(\n",
    "    model_coords,\n",
    "    model.uid,\n",
    ")\n",
    "plt.plot(model_coords, model_data_magnetism, '-k', label=f'Without magnetic layers ({model_interface.name})', linewidth=4)\n",
    "\n",
    "# With magnetic layers\n",
    "interface.switch('refl1d')\n",
    "model.interface = interface\n",
    "model_interface = model.interface()\n",
    "model_interface.magnetism = True\n",
    "model_interface._wrapper.update_layer(list(model_interface._wrapper.storage['layer'].keys())[1], magnetism_rhoM=10, magnetism_thetaM=70)\n",
    "model_interface._wrapper.update_layer(list(model_interface._wrapper.storage['layer'].keys())[2], magnetism_rhoM=5, magnetism_thetaM=175)\n",
    "model_data_magnetism_layer_1 = model.interface().fit_func(\n",
    "    model_coords,\n",
    "    model.uid,\n",
    ")\n",
    "plt.plot(model_coords, model_data_magnetism_layer_1, 'r-', label=f'With magnetic layers ({model_interface.name})', linewidth=2)\n",
    "\n",
    "plot_apply_makeup()"
   ]
  },
  {
   "cell_type": "markdown",
   "id": "e3659a17",
   "metadata": {},
   "source": [
    "As expected do we see a difference in the reflectivity profile for a sample with and without magnetic layers."
   ]
  },
  {
   "cell_type": "markdown",
   "id": "8320f6e8",
   "metadata": {},
   "source": [
    "### EasyReflectometry and Refl1d with magnetism\n",
    "The final comparison is to confirm that that we are able to reproduce the raw Refl1d reflectometry in EasyReflectometry when acocunting for magnetism."
   ]
  },
  {
   "cell_type": "code",
   "execution_count": null,
   "id": "18cb7037",
   "metadata": {},
   "outputs": [],
   "source": [
    "\n",
    "# Refl1d model is inverted as compared to EasyReflectometry, so the order of the layers is reversed\n",
    "refl1d_sample = (\n",
    "    refl1d_si(0, 2) | \n",
    "    refl1d_sld_8(150, 2, magnetism=refl1d.names.Magnetism(rhoM=5, thetaM=175)) |\n",
    "    refl1d_sld_4(100, 2, magnetism=refl1d.names.Magnetism(rhoM=10, thetaM=70)) | \n",
    "    refl1d_vacuum(0, 2)\n",
    ") \n",
    "probe = refl1d.names.QProbe(\n",
    "        Q=model_coords,\n",
    "        dQ=np.zeros(len(model_coords)),\n",
    "        intensity=1,\n",
    "        background=0,\n",
    "    )\n",
    "\n",
    "four_probes = [probe, None, None]\n",
    "polarized_probe = refl1d.names.PolarizedQProbe(xs=four_probes, name='polarized')\n",
    "experiment = refl1d.names.Experiment(probe=polarized_probe, sample=refl1d_sample)\n",
    "model_data_magnetism_ref1d = experiment.reflectivity()[0][1]\n",
    "plt.plot(model_coords, model_data_magnetism_ref1d, '-k', label='Refl1d', linewidth=4)\n",
    "\n",
    "# EasyReflectometry\n",
    "interface.switch('refl1d')\n",
    "model.interface = interface\n",
    "model_interface = model.interface()\n",
    "model_interface.magnetism = True\n",
    "model_interface._wrapper.update_layer(list(model_interface._wrapper.storage['layer'].keys())[1], magnetism_rhoM=10, magnetism_thetaM=70)\n",
    "model_interface._wrapper.update_layer(list(model_interface._wrapper.storage['layer'].keys())[2], magnetism_rhoM=5, magnetism_thetaM=175)\n",
    "model_data_magnetism_easy = model.interface().fit_func(\n",
    "    model_coords,\n",
    "    model.uid,\n",
    ")\n",
    "plt.plot(model_coords, model_data_magnetism_easy, 'r-', label=f'EasyReflect ({model_interface.name})', linewidth=2)\n",
    "\n",
    "plot_apply_makeup()"
   ]
  },
  {
   "cell_type": "markdown",
   "id": "d52efccc",
   "metadata": {},
   "source": [
    "The two models agree when the magnetic parameters are the same."
   ]
  },
  {
   "cell_type": "code",
   "execution_count": null,
   "id": "7033f755",
   "metadata": {},
   "outputs": [],
   "source": [
    "print(max(abs(model_data_magnetism_easy - model_data_magnetism_ref1d)))"
   ]
  },
  {
   "cell_type": "markdown",
   "id": "971baee6",
   "metadata": {},
   "source": [
    "# Afterthoughts \n",
    "Just for completion we will do a few additional calculations and comparisons of reflectivity."
   ]
  },
  {
   "cell_type": "markdown",
   "id": "7af84a69",
   "metadata": {},
   "source": [
    "## Refl1d polarized probe for a single layer sample\n",
    " This study is done with magnetism to show the results for polarized probe."
   ]
  },
  {
   "cell_type": "code",
   "execution_count": null,
   "id": "352c35e9",
   "metadata": {},
   "outputs": [],
   "source": [
    "# The magnetism is set to 8. \n",
    "# This would double (pp) and cancel out (mm) the magnitude of the reflectivity oscillations when its angle is set to 90\n",
    "# This would the strongest spin-flipping (pm and mp) when its angle is set to 0  \n",
    "refl1d_sample = (\n",
    "    refl1d_si(0, 2) | \n",
    "    refl1d_sld_8(150, 2, magnetism=refl1d.names.Magnetism(rhoM=8, thetaM=45)) |\n",
    "    refl1d_vacuum(0, 2)\n",
    ") \n",
    "\n",
    "probe_pp = refl1d.names.QProbe(\n",
    "        Q=model_coords,\n",
    "        dQ=np.zeros(len(model_coords)),\n",
    "        intensity=1,\n",
    "        background=0,\n",
    "    )\n",
    "probe_pm = refl1d.names.QProbe(\n",
    "        Q=model_coords,\n",
    "        dQ=np.zeros(len(model_coords)),\n",
    "        intensity=1,\n",
    "        background=0,\n",
    "    )\n",
    "probe_mp = refl1d.names.QProbe(\n",
    "        Q=model_coords,\n",
    "        dQ=np.zeros(len(model_coords)),\n",
    "        intensity=1,\n",
    "        background=0,\n",
    "    )\n",
    "probe_mm = refl1d.names.QProbe(\n",
    "        Q=model_coords,\n",
    "        dQ=np.zeros(len(model_coords)),\n",
    "        intensity=1,\n",
    "        background=0,\n",
    "    )\n",
    "\n",
    "four_probes = [probe_pp, probe_pm, probe_mp, probe_mm]\n",
    "polarized_probe = refl1d.names.PolarizedQProbe(xs=four_probes, name='polarized')\n",
    "experiment = refl1d.names.Experiment(probe=polarized_probe, sample=refl1d_sample)\n",
    "model_data_magnetism_ref1d_raw_pp = experiment.reflectivity()[0][1]\n",
    "model_data_magnetism_ref1d_raw_pm = experiment.reflectivity()[1][1]\n",
    "model_data_magnetism_ref1d_raw_mp = experiment.reflectivity()[2][1]\n",
    "model_data_magnetism_ref1d_raw_mm = experiment.reflectivity()[3][1]\n",
    "\n",
    "plt.plot(model_coords, model_data_magnetism_ref1d_raw_pp, '-k', label='Refl1d pp', linewidth=4)\n",
    "plt.plot(model_coords, model_data_magnetism_ref1d_raw_mm, '-r', label='Refl1d mm', linewidth=2)\n",
    "plt.plot(model_coords, model_data_magnetism_ref1d_raw_pm, ':k', label='Refl1d pm', linewidth=4)\n",
    "plt.plot(model_coords, model_data_magnetism_ref1d_raw_mp, ':r', label='Refl1d mp', linewidth=2)\n",
    "\n",
    "plot_apply_makeup()"
   ]
  },
  {
   "cell_type": "markdown",
   "id": "ac52936c",
   "metadata": {},
   "source": [
    "## Refl1 and Refnx in EasyReflectometry.\n",
    "This study is done without magnetism as Refnx does not support this yet."
   ]
  },
  {
   "cell_type": "code",
   "execution_count": null,
   "id": "e59d3153-f0da-4fce-a4f0-a424010acbec",
   "metadata": {},
   "outputs": [],
   "source": [
    "# Refnx\n",
    "interface.switch('refnx')\n",
    "model.interface = interface\n",
    "model_interface = model.interface()\n",
    "model_data_no_magnetism_refnx = model.interface().fit_func(\n",
    "    model_coords,\n",
    "    model.uid,\n",
    ")\n",
    "plt.plot(model_coords, model_data_no_magnetism_refnx, 'k-', label=f'EasyReflectometry ({model_interface.name})', linewidth=5)\n",
    "\n",
    "# Refl1d\n",
    "interface.switch('refl1d')\n",
    "model.interface = interface\n",
    "model_interface = model.interface()\n",
    "model_data_no_magnetism_ref1d = model.interface().fit_func(\n",
    "    model_coords,\n",
    "    model.uid,\n",
    ")\n",
    "plt.plot(model_coords, model_data_no_magnetism_ref1d, 'r-', label=f'EasyReflectometry ({model_interface.name})', linewidth=2)\n",
    "\n",
    "plot_apply_makeup()"
   ]
  },
  {
   "cell_type": "markdown",
   "id": "97e3094a",
   "metadata": {},
   "source": [
    "## EasyReflectometry with and without magnetism but no magnetic layers\n",
    "We also want to confirm that we can enable the ability to account for magnetism without causing any significant changes to the reflectivity as determined for a sample without any magnetic layers."
   ]
  },
  {
   "cell_type": "code",
   "execution_count": null,
   "id": "b087e848",
   "metadata": {},
   "outputs": [],
   "source": [
    "# With Magnitism\n",
    "interface.switch('refl1d')\n",
    "model.interface = interface\n",
    "model_interface = model.interface()\n",
    "model_interface.magnetism = True\n",
    "model_data_magnetism = model.interface().fit_func(\n",
    "    model_coords,\n",
    "    model.uid,\n",
    ")\n",
    "plt.plot(model_coords, model_data_magnetism, '-k', label=f'With magnetism ({model_interface.name})', linewidth=4)\n",
    "\n",
    "# Without Magnitism\n",
    "interface.switch('refl1d')\n",
    "model.interface = interface\n",
    "model_interface = model.interface()\n",
    "model_interface.magnetism = False\n",
    "model_data_no_magnetism = model.interface().fit_func(\n",
    "    model_coords,\n",
    "    model.uid,\n",
    ")\n",
    "plt.plot(model_coords, model_data_no_magnetism, 'r-', label=f'Without magnetism ({model_interface.name})', linewidth=2)\n",
    "\n",
    "plot_apply_makeup()"
   ]
  },
  {
   "cell_type": "markdown",
   "id": "d1b41ed2",
   "metadata": {},
   "source": [
    "We don't see any significant change in the determined reflectivity when enabling the ability to account for magnetism.  However, there is a small difference, which is due to the fact that we are using `PolarizedQProbe` (Refl1d) when handling magnetic samples whereas non-magnetic samples are handled with a `QProbe` (Refl1d)."
   ]
  },
  {
   "cell_type": "code",
   "execution_count": null,
   "id": "00c25554",
   "metadata": {},
   "outputs": [],
   "source": [
    "print(max(abs(model_data_no_magnetism - model_data_magnetism)))"
   ]
  }
 ],
 "metadata": {
  "kernelspec": {
   "display_name": "erl_311",
   "language": "python",
   "name": "python3"
  },
  "language_info": {
   "codemirror_mode": {
    "name": "ipython",
    "version": 3
   },
   "file_extension": ".py",
   "mimetype": "text/x-python",
   "name": "python",
   "nbconvert_exporter": "python",
   "pygments_lexer": "ipython3",
   "version": "3.11.9"
  }
 },
 "nbformat": 4,
 "nbformat_minor": 5
}
